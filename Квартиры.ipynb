{
 "cells": [
  {
   "cell_type": "markdown",
   "metadata": {
    "toc": true
   },
   "source": [
    "<h1>Содержание<span class=\"tocSkip\"></span></h1>\n",
    "<div class=\"toc\"><ul class=\"toc-item\"><li><span><a href=\"#Изучение-данных-из-файла\" data-toc-modified-id=\"Изучение-данных-из-файла-1\"><span class=\"toc-item-num\">1&nbsp;&nbsp;</span>Изучение данных из файла</a></span><ul class=\"toc-item\"><li><span><a href=\"#Вывод\" data-toc-modified-id=\"Вывод-1.1\"><span class=\"toc-item-num\">1.1&nbsp;&nbsp;</span>Вывод</a></span></li></ul></li><li><span><a href=\"#Предобработка-данных\" data-toc-modified-id=\"Предобработка-данных-2\"><span class=\"toc-item-num\">2&nbsp;&nbsp;</span>Предобработка данных</a></span></li><li><span><a href=\"#Рассчёты-и-добавление-результатов-в-таблицу\" data-toc-modified-id=\"Рассчёты-и-добавление-результатов-в-таблицу-3\"><span class=\"toc-item-num\">3&nbsp;&nbsp;</span>Рассчёты и добавление результатов в таблицу</a></span></li><li><span><a href=\"#Исследовательский-анализ-данных\" data-toc-modified-id=\"Исследовательский-анализ-данных-4\"><span class=\"toc-item-num\">4&nbsp;&nbsp;</span>Исследовательский анализ данных</a></span><ul class=\"toc-item\"><li><span><a href=\"#Общая-площадь\" data-toc-modified-id=\"Общая-площадь-4.1\"><span class=\"toc-item-num\">4.1&nbsp;&nbsp;</span>Общая площадь</a></span></li><li><span><a href=\"#Цена\" data-toc-modified-id=\"Цена-4.2\"><span class=\"toc-item-num\">4.2&nbsp;&nbsp;</span>Цена</a></span></li><li><span><a href=\"#Комнаты\" data-toc-modified-id=\"Комнаты-4.3\"><span class=\"toc-item-num\">4.3&nbsp;&nbsp;</span>Комнаты</a></span></li><li><span><a href=\"#Высота-потолков\" data-toc-modified-id=\"Высота-потолков-4.4\"><span class=\"toc-item-num\">4.4&nbsp;&nbsp;</span>Высота потолков</a></span></li><li><span><a href=\"#Площадь-кухни\" data-toc-modified-id=\"Площадь-кухни-4.5\"><span class=\"toc-item-num\">4.5&nbsp;&nbsp;</span>Площадь кухни</a></span></li><li><span><a href=\"#Площадь-жилой-комнаты\" data-toc-modified-id=\"Площадь-жилой-комнаты-4.6\"><span class=\"toc-item-num\">4.6&nbsp;&nbsp;</span>Площадь жилой комнаты</a></span></li><li><span><a href=\"#Цена-за-кв.метр\" data-toc-modified-id=\"Цена-за-кв.метр-4.7\"><span class=\"toc-item-num\">4.7&nbsp;&nbsp;</span>Цена за кв.метр</a></span></li><li><span><a href=\"#Время-продажи-квартиры\" data-toc-modified-id=\"Время-продажи-квартиры-4.8\"><span class=\"toc-item-num\">4.8&nbsp;&nbsp;</span>Время продажи квартиры</a></span></li></ul></li><li><span><a href=\"#Работа-с-редкими-и-выбивающимися-значениями\" data-toc-modified-id=\"Работа-с-редкими-и-выбивающимися-значениями-5\"><span class=\"toc-item-num\">5&nbsp;&nbsp;</span>Работа с редкими и выбивающимися значениями</a></span></li><li><span><a href=\"#Определение-факторов,-влияющих-на-стоимость-квартиры\" data-toc-modified-id=\"Определение-факторов,-влияющих-на-стоимость-квартиры-6\"><span class=\"toc-item-num\">6&nbsp;&nbsp;</span>Определение факторов, влияющих на стоимость квартиры</a></span><ul class=\"toc-item\"><li><span><a href=\"#Корреляция-цены-и-площади:\" data-toc-modified-id=\"Корреляция-цены-и-площади:-6.1\"><span class=\"toc-item-num\">6.1&nbsp;&nbsp;</span>Корреляция цены и площади:</a></span></li><li><span><a href=\"#Корреляция-цены-и-кол-ва-комнат:\" data-toc-modified-id=\"Корреляция-цены-и-кол-ва-комнат:-6.2\"><span class=\"toc-item-num\">6.2&nbsp;&nbsp;</span>Корреляция цены и кол-ва комнат:</a></span></li><li><span><a href=\"#Корреляция-цены-и-отдаленности-от-центра:\" data-toc-modified-id=\"Корреляция-цены-и-отдаленности-от-центра:-6.3\"><span class=\"toc-item-num\">6.3&nbsp;&nbsp;</span>Корреляция цены и отдаленности от центра:</a></span></li><li><span><a href=\"#Этажи\" data-toc-modified-id=\"Этажи-6.4\"><span class=\"toc-item-num\">6.4&nbsp;&nbsp;</span>Этажи</a></span></li><li><span><a href=\"#Корреляция-цены-и-дня-недели-выставления-квартиры:\" data-toc-modified-id=\"Корреляция-цены-и-дня-недели-выставления-квартиры:-6.5\"><span class=\"toc-item-num\">6.5&nbsp;&nbsp;</span>Корреляция цены и дня недели выставления квартиры:</a></span></li><li><span><a href=\"#Корреляция-цены-и-месяца-выставления-квартиры:\" data-toc-modified-id=\"Корреляция-цены-и-месяца-выставления-квартиры:-6.6\"><span class=\"toc-item-num\">6.6&nbsp;&nbsp;</span>Корреляция цены и месяца выставления квартиры:</a></span></li><li><span><a href=\"#Корреляция-цены-и-года-выставления-квартиры:\" data-toc-modified-id=\"Корреляция-цены-и-года-выставления-квартиры:-6.7\"><span class=\"toc-item-num\">6.7&nbsp;&nbsp;</span>Корреляция цены и года выставления квартиры:</a></span></li></ul></li><li><span><a href=\"#Общий-вывод\" data-toc-modified-id=\"Общий-вывод-7\"><span class=\"toc-item-num\">7&nbsp;&nbsp;</span>Общий вывод</a></span><ul class=\"toc-item\"><li><span><a href=\"#Срок-продажи-квартиры:\" data-toc-modified-id=\"Срок-продажи-квартиры:-7.1\"><span class=\"toc-item-num\">7.1&nbsp;&nbsp;</span>Срок продажи квартиры:</a></span></li><li><span><a href=\"#Что-влияет-на-цену:\" data-toc-modified-id=\"Что-влияет-на-цену:-7.2\"><span class=\"toc-item-num\">7.2&nbsp;&nbsp;</span>Что влияет на цену:</a></span></li><li><span><a href=\"#Стоимость-квадратного-метра-в-топ-10-населённых-пунктов\" data-toc-modified-id=\"Стоимость-квадратного-метра-в-топ-10-населённых-пунктов-7.3\"><span class=\"toc-item-num\">7.3&nbsp;&nbsp;</span>Стоимость квадратного метра в топ-10 населённых пунктов</a></span></li><li><span><a href=\"#Факторы,-влияющие-на-стоимость-в-центре-Санкт-Петербурга\" data-toc-modified-id=\"Факторы,-влияющие-на-стоимость-в-центре-Санкт-Петербурга-7.4\"><span class=\"toc-item-num\">7.4&nbsp;&nbsp;</span>Факторы, влияющие на стоимость в центре Санкт-Петербурга</a></span></li></ul></li><li><span><a href=\"#Чек-лист-готовности-проекта\" data-toc-modified-id=\"Чек-лист-готовности-проекта-8\"><span class=\"toc-item-num\">8&nbsp;&nbsp;</span>Чек-лист готовности проекта</a></span></li></ul></div>"
   ]
  },
  {
   "cell_type": "markdown",
   "metadata": {},
   "source": [
    "## Изучение данных из файла"
   ]
  },
  {
   "cell_type": "code",
   "execution_count": 219,
   "metadata": {},
   "outputs": [],
   "source": [
    "import pandas as pd"
   ]
  },
  {
   "cell_type": "code",
   "execution_count": 220,
   "metadata": {},
   "outputs": [],
   "source": [
    "#data = pd.read_csv('/datasets/real_estate_data.csv', sep='\\t')\n",
    "data = pd.read_csv('C://Users//User//Documents//.ipynb_checkpoints//real_estate_data.csv', sep='\\t')"
   ]
  },
  {
   "cell_type": "code",
   "execution_count": 221,
   "metadata": {},
   "outputs": [],
   "source": [
    "pd.set_option('display.max_columns', None)"
   ]
  },
  {
   "cell_type": "code",
   "execution_count": 222,
   "metadata": {},
   "outputs": [
    {
     "name": "stdout",
     "output_type": "stream",
     "text": [
      "<class 'pandas.core.frame.DataFrame'>\n",
      "RangeIndex: 23699 entries, 0 to 23698\n",
      "Data columns (total 22 columns):\n",
      " #   Column                Non-Null Count  Dtype  \n",
      "---  ------                --------------  -----  \n",
      " 0   total_images          23699 non-null  int64  \n",
      " 1   last_price            23699 non-null  float64\n",
      " 2   total_area            23699 non-null  float64\n",
      " 3   first_day_exposition  23699 non-null  object \n",
      " 4   rooms                 23699 non-null  int64  \n",
      " 5   ceiling_height        14504 non-null  float64\n",
      " 6   floors_total          23613 non-null  float64\n",
      " 7   living_area           21796 non-null  float64\n",
      " 8   floor                 23699 non-null  int64  \n",
      " 9   is_apartment          2775 non-null   object \n",
      " 10  studio                23699 non-null  bool   \n",
      " 11  open_plan             23699 non-null  bool   \n",
      " 12  kitchen_area          21421 non-null  float64\n",
      " 13  balcony               12180 non-null  float64\n",
      " 14  locality_name         23650 non-null  object \n",
      " 15  airports_nearest      18157 non-null  float64\n",
      " 16  cityCenters_nearest   18180 non-null  float64\n",
      " 17  parks_around3000      18181 non-null  float64\n",
      " 18  parks_nearest         8079 non-null   float64\n",
      " 19  ponds_around3000      18181 non-null  float64\n",
      " 20  ponds_nearest         9110 non-null   float64\n",
      " 21  days_exposition       20518 non-null  float64\n",
      "dtypes: bool(2), float64(14), int64(3), object(3)\n",
      "memory usage: 3.7+ MB\n"
     ]
    },
    {
     "data": {
      "text/plain": [
       "None"
      ]
     },
     "metadata": {},
     "output_type": "display_data"
    }
   ],
   "source": [
    "display(data.info())"
   ]
  },
  {
   "cell_type": "code",
   "execution_count": 223,
   "metadata": {},
   "outputs": [
    {
     "data": {
      "text/html": [
       "<div>\n",
       "<style scoped>\n",
       "    .dataframe tbody tr th:only-of-type {\n",
       "        vertical-align: middle;\n",
       "    }\n",
       "\n",
       "    .dataframe tbody tr th {\n",
       "        vertical-align: top;\n",
       "    }\n",
       "\n",
       "    .dataframe thead th {\n",
       "        text-align: right;\n",
       "    }\n",
       "</style>\n",
       "<table border=\"1\" class=\"dataframe\">\n",
       "  <thead>\n",
       "    <tr style=\"text-align: right;\">\n",
       "      <th></th>\n",
       "      <th>total_images</th>\n",
       "      <th>last_price</th>\n",
       "      <th>total_area</th>\n",
       "      <th>first_day_exposition</th>\n",
       "      <th>rooms</th>\n",
       "      <th>ceiling_height</th>\n",
       "      <th>floors_total</th>\n",
       "      <th>living_area</th>\n",
       "      <th>floor</th>\n",
       "      <th>is_apartment</th>\n",
       "      <th>studio</th>\n",
       "      <th>open_plan</th>\n",
       "      <th>kitchen_area</th>\n",
       "      <th>balcony</th>\n",
       "      <th>locality_name</th>\n",
       "      <th>airports_nearest</th>\n",
       "      <th>cityCenters_nearest</th>\n",
       "      <th>parks_around3000</th>\n",
       "      <th>parks_nearest</th>\n",
       "      <th>ponds_around3000</th>\n",
       "      <th>ponds_nearest</th>\n",
       "      <th>days_exposition</th>\n",
       "    </tr>\n",
       "  </thead>\n",
       "  <tbody>\n",
       "    <tr>\n",
       "      <th>0</th>\n",
       "      <td>20</td>\n",
       "      <td>13000000.0</td>\n",
       "      <td>108.0</td>\n",
       "      <td>2019-03-07T00:00:00</td>\n",
       "      <td>3</td>\n",
       "      <td>2.70</td>\n",
       "      <td>16.0</td>\n",
       "      <td>51.0</td>\n",
       "      <td>8</td>\n",
       "      <td>NaN</td>\n",
       "      <td>False</td>\n",
       "      <td>False</td>\n",
       "      <td>25.0</td>\n",
       "      <td>NaN</td>\n",
       "      <td>Санкт-Петербург</td>\n",
       "      <td>18863.0</td>\n",
       "      <td>16028.0</td>\n",
       "      <td>1.0</td>\n",
       "      <td>482.0</td>\n",
       "      <td>2.0</td>\n",
       "      <td>755.0</td>\n",
       "      <td>NaN</td>\n",
       "    </tr>\n",
       "    <tr>\n",
       "      <th>1</th>\n",
       "      <td>7</td>\n",
       "      <td>3350000.0</td>\n",
       "      <td>40.4</td>\n",
       "      <td>2018-12-04T00:00:00</td>\n",
       "      <td>1</td>\n",
       "      <td>NaN</td>\n",
       "      <td>11.0</td>\n",
       "      <td>18.6</td>\n",
       "      <td>1</td>\n",
       "      <td>NaN</td>\n",
       "      <td>False</td>\n",
       "      <td>False</td>\n",
       "      <td>11.0</td>\n",
       "      <td>2.0</td>\n",
       "      <td>посёлок Шушары</td>\n",
       "      <td>12817.0</td>\n",
       "      <td>18603.0</td>\n",
       "      <td>0.0</td>\n",
       "      <td>NaN</td>\n",
       "      <td>0.0</td>\n",
       "      <td>NaN</td>\n",
       "      <td>81.0</td>\n",
       "    </tr>\n",
       "    <tr>\n",
       "      <th>2</th>\n",
       "      <td>10</td>\n",
       "      <td>5196000.0</td>\n",
       "      <td>56.0</td>\n",
       "      <td>2015-08-20T00:00:00</td>\n",
       "      <td>2</td>\n",
       "      <td>NaN</td>\n",
       "      <td>5.0</td>\n",
       "      <td>34.3</td>\n",
       "      <td>4</td>\n",
       "      <td>NaN</td>\n",
       "      <td>False</td>\n",
       "      <td>False</td>\n",
       "      <td>8.3</td>\n",
       "      <td>0.0</td>\n",
       "      <td>Санкт-Петербург</td>\n",
       "      <td>21741.0</td>\n",
       "      <td>13933.0</td>\n",
       "      <td>1.0</td>\n",
       "      <td>90.0</td>\n",
       "      <td>2.0</td>\n",
       "      <td>574.0</td>\n",
       "      <td>558.0</td>\n",
       "    </tr>\n",
       "    <tr>\n",
       "      <th>3</th>\n",
       "      <td>0</td>\n",
       "      <td>64900000.0</td>\n",
       "      <td>159.0</td>\n",
       "      <td>2015-07-24T00:00:00</td>\n",
       "      <td>3</td>\n",
       "      <td>NaN</td>\n",
       "      <td>14.0</td>\n",
       "      <td>NaN</td>\n",
       "      <td>9</td>\n",
       "      <td>NaN</td>\n",
       "      <td>False</td>\n",
       "      <td>False</td>\n",
       "      <td>NaN</td>\n",
       "      <td>0.0</td>\n",
       "      <td>Санкт-Петербург</td>\n",
       "      <td>28098.0</td>\n",
       "      <td>6800.0</td>\n",
       "      <td>2.0</td>\n",
       "      <td>84.0</td>\n",
       "      <td>3.0</td>\n",
       "      <td>234.0</td>\n",
       "      <td>424.0</td>\n",
       "    </tr>\n",
       "    <tr>\n",
       "      <th>4</th>\n",
       "      <td>2</td>\n",
       "      <td>10000000.0</td>\n",
       "      <td>100.0</td>\n",
       "      <td>2018-06-19T00:00:00</td>\n",
       "      <td>2</td>\n",
       "      <td>3.03</td>\n",
       "      <td>14.0</td>\n",
       "      <td>32.0</td>\n",
       "      <td>13</td>\n",
       "      <td>NaN</td>\n",
       "      <td>False</td>\n",
       "      <td>False</td>\n",
       "      <td>41.0</td>\n",
       "      <td>NaN</td>\n",
       "      <td>Санкт-Петербург</td>\n",
       "      <td>31856.0</td>\n",
       "      <td>8098.0</td>\n",
       "      <td>2.0</td>\n",
       "      <td>112.0</td>\n",
       "      <td>1.0</td>\n",
       "      <td>48.0</td>\n",
       "      <td>121.0</td>\n",
       "    </tr>\n",
       "  </tbody>\n",
       "</table>\n",
       "</div>"
      ],
      "text/plain": [
       "   total_images  last_price  total_area first_day_exposition  rooms  \\\n",
       "0            20  13000000.0       108.0  2019-03-07T00:00:00      3   \n",
       "1             7   3350000.0        40.4  2018-12-04T00:00:00      1   \n",
       "2            10   5196000.0        56.0  2015-08-20T00:00:00      2   \n",
       "3             0  64900000.0       159.0  2015-07-24T00:00:00      3   \n",
       "4             2  10000000.0       100.0  2018-06-19T00:00:00      2   \n",
       "\n",
       "   ceiling_height  floors_total  living_area  floor is_apartment  studio  \\\n",
       "0            2.70          16.0         51.0      8          NaN   False   \n",
       "1             NaN          11.0         18.6      1          NaN   False   \n",
       "2             NaN           5.0         34.3      4          NaN   False   \n",
       "3             NaN          14.0          NaN      9          NaN   False   \n",
       "4            3.03          14.0         32.0     13          NaN   False   \n",
       "\n",
       "   open_plan  kitchen_area  balcony    locality_name  airports_nearest  \\\n",
       "0      False          25.0      NaN  Санкт-Петербург           18863.0   \n",
       "1      False          11.0      2.0   посёлок Шушары           12817.0   \n",
       "2      False           8.3      0.0  Санкт-Петербург           21741.0   \n",
       "3      False           NaN      0.0  Санкт-Петербург           28098.0   \n",
       "4      False          41.0      NaN  Санкт-Петербург           31856.0   \n",
       "\n",
       "   cityCenters_nearest  parks_around3000  parks_nearest  ponds_around3000  \\\n",
       "0              16028.0               1.0          482.0               2.0   \n",
       "1              18603.0               0.0            NaN               0.0   \n",
       "2              13933.0               1.0           90.0               2.0   \n",
       "3               6800.0               2.0           84.0               3.0   \n",
       "4               8098.0               2.0          112.0               1.0   \n",
       "\n",
       "   ponds_nearest  days_exposition  \n",
       "0          755.0              NaN  \n",
       "1            NaN             81.0  \n",
       "2          574.0            558.0  \n",
       "3          234.0            424.0  \n",
       "4           48.0            121.0  "
      ]
     },
     "metadata": {},
     "output_type": "display_data"
    }
   ],
   "source": [
    "display(data.head())"
   ]
  },
  {
   "cell_type": "markdown",
   "metadata": {},
   "source": [
    "### Вывод"
   ]
  },
  {
   "cell_type": "code",
   "execution_count": 224,
   "metadata": {},
   "outputs": [
    {
     "data": {
      "text/plain": [
       "'Доля пропусков в total_images: 0.0 %'"
      ]
     },
     "metadata": {},
     "output_type": "display_data"
    },
    {
     "data": {
      "text/plain": [
       "'Доля пропусков в last_price: 0.0 %'"
      ]
     },
     "metadata": {},
     "output_type": "display_data"
    },
    {
     "data": {
      "text/plain": [
       "'Доля пропусков в total_area: 0.0 %'"
      ]
     },
     "metadata": {},
     "output_type": "display_data"
    },
    {
     "data": {
      "text/plain": [
       "'Доля пропусков в first_day_exposition: 0.0 %'"
      ]
     },
     "metadata": {},
     "output_type": "display_data"
    },
    {
     "data": {
      "text/plain": [
       "'Доля пропусков в rooms: 0.0 %'"
      ]
     },
     "metadata": {},
     "output_type": "display_data"
    },
    {
     "data": {
      "text/plain": [
       "'Доля пропусков в ceiling_height: 38.799105447487236 %'"
      ]
     },
     "metadata": {},
     "output_type": "display_data"
    },
    {
     "data": {
      "text/plain": [
       "'Доля пропусков в floors_total: 0.36288450989493226 %'"
      ]
     },
     "metadata": {},
     "output_type": "display_data"
    },
    {
     "data": {
      "text/plain": [
       "'Доля пропусков в living_area: 8.029874678256467 %'"
      ]
     },
     "metadata": {},
     "output_type": "display_data"
    },
    {
     "data": {
      "text/plain": [
       "'Доля пропусков в floor: 0.0 %'"
      ]
     },
     "metadata": {},
     "output_type": "display_data"
    },
    {
     "data": {
      "text/plain": [
       "'Доля пропусков в is_apartment: 88.2906451749019 %'"
      ]
     },
     "metadata": {},
     "output_type": "display_data"
    },
    {
     "data": {
      "text/plain": [
       "'Доля пропусков в studio: 0.0 %'"
      ]
     },
     "metadata": {},
     "output_type": "display_data"
    },
    {
     "data": {
      "text/plain": [
       "'Доля пропусков в open_plan: 0.0 %'"
      ]
     },
     "metadata": {},
     "output_type": "display_data"
    },
    {
     "data": {
      "text/plain": [
       "'Доля пропусков в kitchen_area: 9.612219924891345 %'"
      ]
     },
     "metadata": {},
     "output_type": "display_data"
    },
    {
     "data": {
      "text/plain": [
       "'Доля пропусков в balcony: 48.605426389299126 %'"
      ]
     },
     "metadata": {},
     "output_type": "display_data"
    },
    {
     "data": {
      "text/plain": [
       "'Доля пропусков в locality_name: 0.20675977889362418 %'"
      ]
     },
     "metadata": {},
     "output_type": "display_data"
    },
    {
     "data": {
      "text/plain": [
       "'Доля пропусков в airports_nearest: 23.384952951601335 %'"
      ]
     },
     "metadata": {},
     "output_type": "display_data"
    },
    {
     "data": {
      "text/plain": [
       "'Доля пропусков в cityCenters_nearest: 23.28790244314106 %'"
      ]
     },
     "metadata": {},
     "output_type": "display_data"
    },
    {
     "data": {
      "text/plain": [
       "'Доля пропусков в parks_around3000: 23.2836828558167 %'"
      ]
     },
     "metadata": {},
     "output_type": "display_data"
    },
    {
     "data": {
      "text/plain": [
       "'Доля пропусков в parks_nearest: 65.90995400649817 %'"
      ]
     },
     "metadata": {},
     "output_type": "display_data"
    },
    {
     "data": {
      "text/plain": [
       "'Доля пропусков в ponds_around3000: 23.2836828558167 %'"
      ]
     },
     "metadata": {},
     "output_type": "display_data"
    },
    {
     "data": {
      "text/plain": [
       "'Доля пропусков в ponds_nearest: 61.55955947508333 %'"
      ]
     },
     "metadata": {},
     "output_type": "display_data"
    },
    {
     "data": {
      "text/plain": [
       "'Доля пропусков в days_exposition: 13.422507278788135 %'"
      ]
     },
     "metadata": {},
     "output_type": "display_data"
    },
    {
     "data": {
      "text/plain": [
       "'Количество дубликатов: 0'"
      ]
     },
     "metadata": {},
     "output_type": "display_data"
    }
   ],
   "source": [
    "for column in data.columns:\n",
    "    display(f'Доля пропусков в {column}: {(data[column].isna().sum() / len(data[column])) * 100} %')\n",
    "#display(data.isna().sum())\n",
    "display(f'Количество дубликатов: {data.duplicated().sum()}')"
   ]
  },
  {
   "cell_type": "markdown",
   "metadata": {},
   "source": [
    "После первичного просмотра данных можно сделать несколько небольших выводов.Первый вывод - в таблице очень много пропусков.Причины довольно просты.По моему мнению это связано с тем,что люди просто не помнят данные,как например, в столбце ceiling_height.Вторая причина,как мне кажется,связана с ошибкой при копировании.Третья причина связана с столбцом days_exposition.Пропуски в данном столбце связаны с тем,что квартиры еще продана.Поэтому и нет информации.\n",
    "Дубликатов в датафрейме нет."
   ]
  },
  {
   "cell_type": "markdown",
   "metadata": {},
   "source": [
    "## Предобработка данных"
   ]
  },
  {
   "cell_type": "markdown",
   "metadata": {},
   "source": [
    "В первую очередь исправим название cityCenters_nearest на city_centers_nearest,а потом пропуски в столбцах.В ceiling_height подставим медианное значение из столбца.В столбце is_apartment подставим False в строки с пропусками,ибо это очевидно,что если данных нет,то ответ тоже нет.В местах с пропусками в balcony,parks_around3000,ponds_around3000 подставим 0,по тому же принципу как и с is_apartment."
   ]
  },
  {
   "cell_type": "code",
   "execution_count": 225,
   "metadata": {},
   "outputs": [],
   "source": [
    "data = data.rename(columns={'cityCenters_nearest': 'city_centers_nearest'})"
   ]
  },
  {
   "cell_type": "code",
   "execution_count": 226,
   "metadata": {},
   "outputs": [],
   "source": [
    "median_ceiling_height = data['ceiling_height'].dropna().median()\n",
    "data['ceiling_height'] = data['ceiling_height'].fillna(median_ceiling_height)\n",
    "data['is_apartment'] = data['is_apartment'].fillna(value=False)\n",
    "data['balcony'] = data['balcony'].fillna(0)\n",
    "data['parks_around3000'] = data['parks_around3000'].fillna(0)\n",
    "data['ponds_around3000'] = data['ponds_around3000'].fillna(0)"
   ]
  },
  {
   "cell_type": "code",
   "execution_count": 227,
   "metadata": {},
   "outputs": [
    {
     "data": {
      "text/plain": [
       "total_images                0\n",
       "last_price                  0\n",
       "total_area                  0\n",
       "first_day_exposition        0\n",
       "rooms                       0\n",
       "ceiling_height              0\n",
       "floors_total               86\n",
       "living_area              1903\n",
       "floor                       0\n",
       "is_apartment                0\n",
       "studio                      0\n",
       "open_plan                   0\n",
       "kitchen_area             2278\n",
       "balcony                     0\n",
       "locality_name              49\n",
       "airports_nearest         5542\n",
       "city_centers_nearest     5519\n",
       "parks_around3000            0\n",
       "parks_nearest           15620\n",
       "ponds_around3000            0\n",
       "ponds_nearest           14589\n",
       "days_exposition          3181\n",
       "dtype: int64"
      ]
     },
     "metadata": {},
     "output_type": "display_data"
    }
   ],
   "source": [
    "display(data.isna().sum())"
   ]
  },
  {
   "cell_type": "markdown",
   "metadata": {},
   "source": [
    "Данные с пропусками в floors_total и locality_name мы удаляем и разберемся с пропусками в living_area и kitchen_area."
   ]
  },
  {
   "cell_type": "code",
   "execution_count": 228,
   "metadata": {},
   "outputs": [
    {
     "data": {
      "text/plain": [
       "23699"
      ]
     },
     "metadata": {},
     "output_type": "display_data"
    },
    {
     "data": {
      "text/plain": [
       "23580"
      ]
     },
     "metadata": {},
     "output_type": "display_data"
    }
   ],
   "source": [
    "living_area = data['living_area'].mean() / data['total_area'].mean()\n",
    "kitchen_area = data['kitchen_area'].mean() / data['total_area'].mean()\n",
    "data['living_area'].fillna(living_area * data['total_area'], inplace=True)\n",
    "data['kitchen_area'].fillna(kitchen_area * data['total_area'], inplace=True)\n",
    "display(len(data))\n",
    "for row in range(len(data)):\n",
    "    if data['total_area'][row] < data['living_area'][row] + data['kitchen_area'][row]:\n",
    "        data = data.drop(index = row)\n",
    "display(len(data))"
   ]
  },
  {
   "cell_type": "code",
   "execution_count": 229,
   "metadata": {},
   "outputs": [],
   "source": [
    "data = data.dropna(subset=['floors_total'])\n",
    "data = data.dropna(subset=['locality_name'])"
   ]
  },
  {
   "cell_type": "code",
   "execution_count": 230,
   "metadata": {},
   "outputs": [
    {
     "data": {
      "text/plain": [
       "total_images                0\n",
       "last_price                  0\n",
       "total_area                  0\n",
       "first_day_exposition        0\n",
       "rooms                       0\n",
       "ceiling_height              0\n",
       "floors_total                0\n",
       "living_area                 0\n",
       "floor                       0\n",
       "is_apartment                0\n",
       "studio                      0\n",
       "open_plan                   0\n",
       "kitchen_area                0\n",
       "balcony                     0\n",
       "locality_name               0\n",
       "airports_nearest         5489\n",
       "city_centers_nearest     5466\n",
       "parks_around3000            0\n",
       "parks_nearest           15452\n",
       "ponds_around3000            0\n",
       "ponds_nearest           14454\n",
       "days_exposition          3159\n",
       "dtype: int64"
      ]
     },
     "metadata": {},
     "output_type": "display_data"
    }
   ],
   "source": [
    "display(data.isna().sum())"
   ]
  },
  {
   "cell_type": "markdown",
   "metadata": {},
   "source": [
    "Взглянем на пропуски сейчас."
   ]
  },
  {
   "cell_type": "markdown",
   "metadata": {},
   "source": [
    "Теперь изменим тип данных в некоторых стобцах на int.Также изменим формат времени в столбце first_day_exposition."
   ]
  },
  {
   "cell_type": "code",
   "execution_count": 231,
   "metadata": {},
   "outputs": [],
   "source": [
    "for column in ['last_price', 'floors_total', 'balcony', 'airports_nearest', 'parks_around3000', 'ponds_around3000', 'ponds_nearest', 'days_exposition']:\n",
    "    data[column] = data[column].dropna().astype('int64')\n",
    "#data['last_price'] = data['last_price'].astype('int64')\n",
    "#data['floors_total'] = data['floors_total'].astype('int64')\n",
    "#data['balcony'] = data['balcony'].astype('int64')\n",
    "#data['airports_nearest'] = data['airports_nearest'].dropna().astype('int64')\n",
    "#data['parks_around3000'] = data['parks_around3000'].dropna().astype('int64')\n",
    "#data['parks_nearest'] = data['parks_nearest'].dropna().astype('int64')\n",
    "#data['ponds_around3000'] = data['ponds_around3000'].dropna().astype('int64')\n",
    "#data['ponds_nearest'] = data['ponds_nearest'].dropna().astype('int64')\n",
    "#data['days_exposition'] = data['days_exposition'].dropna().astype('int64')"
   ]
  },
  {
   "cell_type": "code",
   "execution_count": 232,
   "metadata": {},
   "outputs": [],
   "source": [
    "data['first_day_exposition'] = pd.to_datetime(data['first_day_exposition'], format='%Y-%m-%dT%H:%M:%S')"
   ]
  },
  {
   "cell_type": "code",
   "execution_count": 233,
   "metadata": {},
   "outputs": [],
   "source": [
    "for column in ['total_area', 'ceiling_height', 'living_area', 'kitchen_area']:\n",
    "    data[column] = data[column].dropna().astype('float32')"
   ]
  },
  {
   "cell_type": "markdown",
   "metadata": {},
   "source": [
    "## Рассчёты и добавление результатов в таблицу"
   ]
  },
  {
   "cell_type": "markdown",
   "metadata": {},
   "source": [
    "Начнем с расчетов цена квадратного метра, дня недели, месяца и года публикации объявления, этажа квартиры, соотношения жилой и общей площади, а также отношения площади кухни к общей.А в конце разберемся с пропусками в days_exposition"
   ]
  },
  {
   "cell_type": "code",
   "execution_count": 234,
   "metadata": {},
   "outputs": [],
   "source": [
    "data['price_per_square_meter'] = data['last_price'] / data['total_area']\n",
    "data['price_per_square_meter'] = data['price_per_square_meter'].astype('int64')"
   ]
  },
  {
   "cell_type": "markdown",
   "metadata": {},
   "source": [
    "Данным действием мы добавили цену за кв.метр."
   ]
  },
  {
   "cell_type": "code",
   "execution_count": 263,
   "metadata": {},
   "outputs": [],
   "source": [
    "data['weekday'] = data['first_day_exposition'].dt.weekday\n",
    "data['month'] = data['first_day_exposition'].dt.month\n",
    "data['year'] = data['first_day_exposition'].dt.year"
   ]
  },
  {
   "cell_type": "markdown",
   "metadata": {},
   "source": [
    "Добавили день недели,месяц и год выставление на продажу квартиры."
   ]
  },
  {
   "cell_type": "code",
   "execution_count": 236,
   "metadata": {},
   "outputs": [],
   "source": [
    "data['kitchen_ratio'] = data['kitchen_area'] / data['total_area'] * 100\n",
    "data['kitchen_ratio'] = data['kitchen_ratio'].fillna(value=0).astype('int64')\n",
    "data['living_ratio'] = data['living_area'] / data['total_area'] * 100\n",
    "data['living_ratio'] = data['living_ratio'].fillna(value=0).astype('int64')"
   ]
  },
  {
   "cell_type": "markdown",
   "metadata": {},
   "source": [
    "Добавили соотношение кухни и жилой комнаты к общей площади."
   ]
  },
  {
   "cell_type": "code",
   "execution_count": 237,
   "metadata": {},
   "outputs": [],
   "source": [
    "def floor_group(row):\n",
    "    if row['floor'] == 1:\n",
    "        return 'первый'\n",
    "    elif row['floor'] == row['floors_total']:\n",
    "        return 'последний'\n",
    "    else:\n",
    "        return 'другой'\n",
    "\n",
    "data['floor_type'] = data.apply(floor_group, axis=1)"
   ]
  },
  {
   "cell_type": "markdown",
   "metadata": {},
   "source": [
    "Добавили информацию про этажи."
   ]
  },
  {
   "cell_type": "code",
   "execution_count": 238,
   "metadata": {},
   "outputs": [
    {
     "data": {
      "text/plain": [
       "1580.0"
      ]
     },
     "metadata": {},
     "output_type": "display_data"
    }
   ],
   "source": [
    "display(data['days_exposition'].dropna().max())"
   ]
  },
  {
   "cell_type": "markdown",
   "metadata": {},
   "source": [
    "Максимально кол-во дней за которое продали квартиру = 1580.Предлагаю вместо пропусков поставить значение 5000,а потом сделать данные типа int."
   ]
  },
  {
   "cell_type": "code",
   "execution_count": 239,
   "metadata": {},
   "outputs": [],
   "source": [
    "data['days_exposition'] = data['days_exposition'].fillna(value=5000)\n",
    "data['days_exposition'] = data['days_exposition'].astype('int64')"
   ]
  },
  {
   "cell_type": "markdown",
   "metadata": {},
   "source": [
    "## Исследовательский анализ данных"
   ]
  },
  {
   "cell_type": "markdown",
   "metadata": {},
   "source": [
    "Теперь начнем строить гистограммы."
   ]
  },
  {
   "cell_type": "code",
   "execution_count": 240,
   "metadata": {},
   "outputs": [
    {
     "data": {
      "image/png": "[encoded data removed]",
      "text/plain": [
       "<Figure size 432x288 with 1 Axes>"
      ]
     },
     "metadata": {
      "needs_background": "light"
     },
     "output_type": "display_data"
    },
    {
     "data": {
      "text/plain": [
       "'Среднее значение: 60'"
      ]
     },
     "metadata": {},
     "output_type": "display_data"
    },
    {
     "data": {
      "text/plain": [
       "'Медианное значение: 52'"
      ]
     },
     "metadata": {},
     "output_type": "display_data"
    },
    {
     "data": {
      "text/plain": [
       "count    23446.000000\n",
       "mean        60.377888\n",
       "std         35.666325\n",
       "min         13.000000\n",
       "25%         40.000000\n",
       "50%         52.000000\n",
       "75%         69.747499\n",
       "max        900.000000\n",
       "Name: total_area, dtype: float64"
      ]
     },
     "metadata": {},
     "output_type": "display_data"
    }
   ],
   "source": [
    "import matplotlib.pyplot as plt\n",
    "plt.hist(data['total_area'], bins=30, range=(10,250))\n",
    "plt.show()\n",
    "display(f'Среднее значение: {round(data[\"total_area\"].mean())}')\n",
    "display(f'Медианное значение: {round(data[\"total_area\"].median())}')\n",
    "display(data['total_area'].describe())"
   ]
  },
  {
   "cell_type": "code",
   "execution_count": 241,
   "metadata": {},
   "outputs": [
    {
     "data": {
      "image/png": "[encoded data removed]",
      "text/plain": [
       "<Figure size 432x288 with 1 Axes>"
      ]
     },
     "metadata": {
      "needs_background": "light"
     },
     "output_type": "display_data"
    },
    {
     "data": {
      "text/plain": [
       "'Среднее значение: 6536319'"
      ]
     },
     "metadata": {},
     "output_type": "display_data"
    },
    {
     "data": {
      "text/plain": [
       "'Медианное значение: 4650000'"
      ]
     },
     "metadata": {},
     "output_type": "display_data"
    },
    {
     "data": {
      "text/plain": [
       "count    2.344600e+04\n",
       "mean     6.536319e+06\n",
       "std      1.088363e+07\n",
       "min      1.219000e+04\n",
       "25%      3.420000e+06\n",
       "50%      4.650000e+06\n",
       "75%      6.799000e+06\n",
       "max      7.630000e+08\n",
       "Name: last_price, dtype: float64"
      ]
     },
     "metadata": {},
     "output_type": "display_data"
    }
   ],
   "source": [
    "plt.hist(data['last_price'], bins=30, range=(0, 20000000))\n",
    "plt.show()\n",
    "display(f'Среднее значение: {round(data[\"last_price\"].mean())}')\n",
    "display(f'Медианное значение: {round(data[\"last_price\"].median())}')\n",
    "display(data['last_price'].describe())"
   ]
  },
  {
   "cell_type": "code",
   "execution_count": 242,
   "metadata": {},
   "outputs": [
    {
     "data": {
      "image/png": "[encoded data removed]",
      "text/plain": [
       "<Figure size 432x288 with 1 Axes>"
      ]
     },
     "metadata": {
      "needs_background": "light"
     },
     "output_type": "display_data"
    },
    {
     "data": {
      "text/plain": [
       "'Среднее значение: 2'"
      ]
     },
     "metadata": {},
     "output_type": "display_data"
    },
    {
     "data": {
      "text/plain": [
       "'Медианное значение: 2'"
      ]
     },
     "metadata": {},
     "output_type": "display_data"
    },
    {
     "data": {
      "text/plain": [
       "count    23446.000000\n",
       "mean         2.073147\n",
       "std          1.077020\n",
       "min          0.000000\n",
       "25%          1.000000\n",
       "50%          2.000000\n",
       "75%          3.000000\n",
       "max         19.000000\n",
       "Name: rooms, dtype: float64"
      ]
     },
     "metadata": {},
     "output_type": "display_data"
    }
   ],
   "source": [
    "#data['rooms'].max()\n",
    "plt.hist(data['rooms'], bins=7, range=(1, 7))\n",
    "plt.show()\n",
    "display(f'Среднее значение: {round(data[\"rooms\"].mean())}')\n",
    "display(f'Медианное значение: {round(data[\"rooms\"].median())}')\n",
    "display(data['rooms'].describe())"
   ]
  },
  {
   "cell_type": "code",
   "execution_count": 243,
   "metadata": {},
   "outputs": [
    {
     "data": {
      "image/png": "[encoded data removed]",
      "text/plain": [
       "<Figure size 432x288 with 1 Axes>"
      ]
     },
     "metadata": {
      "needs_background": "light"
     },
     "output_type": "display_data"
    },
    {
     "data": {
      "text/plain": [
       "'Среднее значение: 3'"
      ]
     },
     "metadata": {},
     "output_type": "display_data"
    },
    {
     "data": {
      "text/plain": [
       "'Медианное значение: 3'"
      ]
     },
     "metadata": {},
     "output_type": "display_data"
    },
    {
     "data": {
      "text/plain": [
       "count    23446.000000\n",
       "mean         2.722018\n",
       "std          0.966950\n",
       "min          1.000000\n",
       "25%          2.600000\n",
       "50%          2.650000\n",
       "75%          2.700000\n",
       "max        100.000000\n",
       "Name: ceiling_height, dtype: float64"
      ]
     },
     "metadata": {},
     "output_type": "display_data"
    }
   ],
   "source": [
    "plt.hist(data['ceiling_height'], bins=5, range=(1, 5))\n",
    "plt.show()\n",
    "display(f'Среднее значение: {round(data[\"ceiling_height\"].mean())}')\n",
    "display(f'Медианное значение: {round(data[\"ceiling_height\"].median())}')\n",
    "display(data['ceiling_height'].describe())"
   ]
  },
  {
   "cell_type": "code",
   "execution_count": 244,
   "metadata": {},
   "outputs": [
    {
     "data": {
      "image/png": "[encoded data removed]",
      "text/plain": [
       "<Figure size 432x288 with 1 Axes>"
      ]
     },
     "metadata": {
      "needs_background": "light"
     },
     "output_type": "display_data"
    },
    {
     "data": {
      "text/plain": [
       "'Среднее значение: 10'"
      ]
     },
     "metadata": {},
     "output_type": "display_data"
    },
    {
     "data": {
      "text/plain": [
       "'Медианное значение: 9'"
      ]
     },
     "metadata": {},
     "output_type": "display_data"
    },
    {
     "data": {
      "text/plain": [
       "count    23446.000000\n",
       "mean        10.484908\n",
       "std          6.003742\n",
       "min          1.300000\n",
       "25%          7.000000\n",
       "50%          9.000000\n",
       "75%         12.000000\n",
       "max        112.000000\n",
       "Name: kitchen_area, dtype: float64"
      ]
     },
     "metadata": {},
     "output_type": "display_data"
    }
   ],
   "source": [
    "plt.hist(data['kitchen_area'], bins=30, range=(0, 30))\n",
    "plt.show()\n",
    "display(f'Среднее значение: {round(data[\"kitchen_area\"].mean())}')\n",
    "display(f'Медианное значение: {round(data[\"kitchen_area\"].median())}')\n",
    "display(data['kitchen_area'].describe())"
   ]
  },
  {
   "cell_type": "code",
   "execution_count": 245,
   "metadata": {},
   "outputs": [
    {
     "data": {
      "image/png": "[encoded data removed]",
      "text/plain": [
       "<Figure size 432x288 with 1 Axes>"
      ]
     },
     "metadata": {
      "needs_background": "light"
     },
     "output_type": "display_data"
    },
    {
     "data": {
      "text/plain": [
       "'Среднее значение: 35'"
      ]
     },
     "metadata": {},
     "output_type": "display_data"
    },
    {
     "data": {
      "text/plain": [
       "'Медианное значение: 30'"
      ]
     },
     "metadata": {},
     "output_type": "display_data"
    },
    {
     "data": {
      "text/plain": [
       "count    23446.000000\n",
       "mean        34.557888\n",
       "std         22.331770\n",
       "min          2.000000\n",
       "25%         19.000000\n",
       "50%         30.000000\n",
       "75%         42.099998\n",
       "max        409.700012\n",
       "Name: living_area, dtype: float64"
      ]
     },
     "metadata": {},
     "output_type": "display_data"
    }
   ],
   "source": [
    "plt.hist(data['living_area'], bins=30, range=(0, 80))\n",
    "plt.show()\n",
    "display(f'Среднее значение: {round(data[\"living_area\"].mean())}')\n",
    "display(f'Медианное значение: {round(data[\"living_area\"].median())}')\n",
    "display(data['living_area'].describe())"
   ]
  },
  {
   "cell_type": "code",
   "execution_count": 246,
   "metadata": {},
   "outputs": [
    {
     "data": {
      "image/png": "[encoded data removed]",
      "text/plain": [
       "<Figure size 432x288 with 1 Axes>"
      ]
     },
     "metadata": {
      "needs_background": "light"
     },
     "output_type": "display_data"
    },
    {
     "data": {
      "text/plain": [
       "'Среднее значение: 99303'"
      ]
     },
     "metadata": {},
     "output_type": "display_data"
    },
    {
     "data": {
      "text/plain": [
       "'Медианное значение: 94936'"
      ]
     },
     "metadata": {},
     "output_type": "display_data"
    },
    {
     "data": {
      "text/plain": [
       "count    2.344600e+04\n",
       "mean     9.930251e+04\n",
       "std      5.016018e+04\n",
       "min      1.110000e+02\n",
       "25%      7.654925e+04\n",
       "50%      9.493600e+04\n",
       "75%      1.141265e+05\n",
       "max      1.907500e+06\n",
       "Name: price_per_square_meter, dtype: float64"
      ]
     },
     "metadata": {},
     "output_type": "display_data"
    }
   ],
   "source": [
    "plt.hist(data['price_per_square_meter'], bins=30, range=(1, 300000))\n",
    "plt.show()\n",
    "display(f'Среднее значение: {round(data[\"price_per_square_meter\"].mean())}')\n",
    "display(f'Медианное значение: {round(data[\"price_per_square_meter\"].median())}')\n",
    "display(data['price_per_square_meter'].describe())"
   ]
  },
  {
   "cell_type": "code",
   "execution_count": 247,
   "metadata": {},
   "outputs": [
    {
     "data": {
      "image/png": "[encoded data removed]",
      "text/plain": [
       "<Figure size 432x288 with 1 Axes>"
      ]
     },
     "metadata": {
      "needs_background": "light"
     },
     "output_type": "display_data"
    },
    {
     "data": {
      "text/plain": [
       "'Среднее значение: 181'"
      ]
     },
     "metadata": {},
     "output_type": "display_data"
    },
    {
     "data": {
      "text/plain": [
       "'Медианное значение: 95'"
      ]
     },
     "metadata": {},
     "output_type": "display_data"
    },
    {
     "data": {
      "text/plain": [
       "count    20287.000000\n",
       "mean       180.965889\n",
       "std        219.940627\n",
       "min          1.000000\n",
       "25%         45.000000\n",
       "50%         95.000000\n",
       "75%        232.000000\n",
       "max       1580.000000\n",
       "Name: days_exposition, dtype: float64"
      ]
     },
     "metadata": {},
     "output_type": "display_data"
    }
   ],
   "source": [
    "plt.hist(data.query('days_exposition != 5000')['days_exposition'], bins=100, range=(0, 250))\n",
    "plt.show()\n",
    "display(f'Среднее значение: {round(data.query(\"days_exposition != 5000\")[\"days_exposition\"].mean())}')\n",
    "display(f'Медианное значение: {round(data.query(\"days_exposition != 5000\")[\"days_exposition\"].median())}')\n",
    "display(data.query('days_exposition != 5000')['days_exposition'].describe())"
   ]
  },
  {
   "cell_type": "markdown",
   "metadata": {},
   "source": [
    "### Общая площадь\n",
    "Практически все квартиры меньше 100 кв.м.Варианты с бОльшей общей площадью редки.\n",
    "Среднее = 60\n",
    "Медиана = 52\n",
    "### Цена\n",
    "В основном цена = 5 млн.р.\n",
    "Среднее =  6540058 \n",
    "Медиана = 4646000\n",
    "### Комнаты\n",
    "В среднем у всех квартиры 1-3 комнат. Более 5 комнат являются редкостью.\n",
    "Среднее = 2\n",
    "Медиана = 2\n",
    "### Высота потолков\n",
    "В среднем у всех потолки в районе 3ех метров.Варианты более 4.2 м крайне редкие.\n",
    "Среднее = 3\n",
    "Медиана = 3\n",
    "### Площадь кухни\n",
    "Самые популярные площади кухни от 5 до 13 кв.м.Варианты более 22 кв.м являются крайне редкими.\n",
    "Среднее = 10\n",
    "Медиана = 9\n",
    "### Площадь жилой комнаты\n",
    "Самая популярные площади жилой комнаты от 15 до 50 кв.м.До и после варианты тоже есть,но они редкие.\n",
    "Среднее значение = 35\n",
    "Медиана = 30\n",
    "### Цена за кв.метр\n",
    "В среднем цена за кв.метр = 100 тыс.р.\n",
    "Среднее значение = 99405\n",
    "Медиана = 95000\n",
    "Варианты ниже ~30000 и 200000 есть,но они редки.\n",
    "### Время продажи квартиры\n",
    "В среднем квартиры продаются за 100 дней.Примерно 500 квартир продались практически сразу.Большинство квартир продаются за 45-55 дней.Некоторые квартиры продаются больше 200 дней.При этом среднее значение = 181,а медианное 95.\n",
    "Примем за быструю продажу значение в 45 дней,а за долгую = 230(примерно в этом промежутке квартир продали меньше всего)."
   ]
  },
  {
   "cell_type": "markdown",
   "metadata": {},
   "source": [
    "<div class=\"alert alert-success\">\n",
    "<b>✔️ Комментарий ревьюера:</b> Верно"
   ]
  },
  {
   "cell_type": "markdown",
   "metadata": {},
   "source": [
    "## Работа с редкими и выбивающимися значениями"
   ]
  },
  {
   "cell_type": "markdown",
   "metadata": {},
   "source": [
    "Редкими и выбивающимися значениями будем считать все значения,которые ниже или выше Q1–1.5IQR и Q3 + 1.5IQR."
   ]
  },
  {
   "cell_type": "code",
   "execution_count": 248,
   "metadata": {},
   "outputs": [],
   "source": [
    "def quartile_range(df, column):\n",
    "    q1 = df[column].quantile(0.25)\n",
    "    q3 = df[column].quantile(0.75)\n",
    "    iqr = q3 - q1\n",
    "    appropriate_value = df.loc[(df[column] > q1 - 1.5*iqr) & (df[column] < q3 + 1.5*iqr), column]\n",
    "    return appropriate_value\n",
    "\n",
    "outlier_columns = ['last_price', 'total_area', 'rooms', 'ceiling_height', 'kitchen_area', 'living_area', 'days_exposition']\n",
    "for column in outlier_columns:\n",
    "    data[column] = quartile_range(data, column)"
   ]
  },
  {
   "cell_type": "markdown",
   "metadata": {},
   "source": [
    "Посмотрим на данные теперь."
   ]
  },
  {
   "cell_type": "code",
   "execution_count": 249,
   "metadata": {},
   "outputs": [
    {
     "data": {
      "text/html": [
       "<div>\n",
       "<style scoped>\n",
       "    .dataframe tbody tr th:only-of-type {\n",
       "        vertical-align: middle;\n",
       "    }\n",
       "\n",
       "    .dataframe tbody tr th {\n",
       "        vertical-align: top;\n",
       "    }\n",
       "\n",
       "    .dataframe thead th {\n",
       "        text-align: right;\n",
       "    }\n",
       "</style>\n",
       "<table border=\"1\" class=\"dataframe\">\n",
       "  <thead>\n",
       "    <tr style=\"text-align: right;\">\n",
       "      <th></th>\n",
       "      <th>total_images</th>\n",
       "      <th>last_price</th>\n",
       "      <th>total_area</th>\n",
       "      <th>first_day_exposition</th>\n",
       "      <th>rooms</th>\n",
       "      <th>ceiling_height</th>\n",
       "      <th>floors_total</th>\n",
       "      <th>living_area</th>\n",
       "      <th>floor</th>\n",
       "      <th>is_apartment</th>\n",
       "      <th>studio</th>\n",
       "      <th>open_plan</th>\n",
       "      <th>kitchen_area</th>\n",
       "      <th>balcony</th>\n",
       "      <th>locality_name</th>\n",
       "      <th>airports_nearest</th>\n",
       "      <th>city_centers_nearest</th>\n",
       "      <th>parks_around3000</th>\n",
       "      <th>parks_nearest</th>\n",
       "      <th>ponds_around3000</th>\n",
       "      <th>ponds_nearest</th>\n",
       "      <th>days_exposition</th>\n",
       "      <th>price_per_square_meter</th>\n",
       "      <th>weekday</th>\n",
       "      <th>month</th>\n",
       "      <th>year</th>\n",
       "      <th>kitchen_ratio</th>\n",
       "      <th>living_ratio</th>\n",
       "      <th>floor_type</th>\n",
       "    </tr>\n",
       "  </thead>\n",
       "  <tbody>\n",
       "    <tr>\n",
       "      <th>0</th>\n",
       "      <td>20</td>\n",
       "      <td>NaN</td>\n",
       "      <td>108.000000</td>\n",
       "      <td>2019-03-07</td>\n",
       "      <td>3.0</td>\n",
       "      <td>2.70</td>\n",
       "      <td>16</td>\n",
       "      <td>51.000000</td>\n",
       "      <td>8</td>\n",
       "      <td>False</td>\n",
       "      <td>False</td>\n",
       "      <td>False</td>\n",
       "      <td>NaN</td>\n",
       "      <td>0</td>\n",
       "      <td>Санкт-Петербург</td>\n",
       "      <td>18863.0</td>\n",
       "      <td>16028.0</td>\n",
       "      <td>1</td>\n",
       "      <td>482.0</td>\n",
       "      <td>2</td>\n",
       "      <td>755.0</td>\n",
       "      <td>NaN</td>\n",
       "      <td>120370</td>\n",
       "      <td>Thursday</td>\n",
       "      <td>March</td>\n",
       "      <td>2019</td>\n",
       "      <td>23</td>\n",
       "      <td>47</td>\n",
       "      <td>другой</td>\n",
       "    </tr>\n",
       "    <tr>\n",
       "      <th>1</th>\n",
       "      <td>7</td>\n",
       "      <td>3350000.0</td>\n",
       "      <td>40.400002</td>\n",
       "      <td>2018-12-04</td>\n",
       "      <td>1.0</td>\n",
       "      <td>2.65</td>\n",
       "      <td>11</td>\n",
       "      <td>18.600000</td>\n",
       "      <td>1</td>\n",
       "      <td>False</td>\n",
       "      <td>False</td>\n",
       "      <td>False</td>\n",
       "      <td>11.0</td>\n",
       "      <td>2</td>\n",
       "      <td>посёлок Шушары</td>\n",
       "      <td>12817.0</td>\n",
       "      <td>18603.0</td>\n",
       "      <td>0</td>\n",
       "      <td>NaN</td>\n",
       "      <td>0</td>\n",
       "      <td>NaN</td>\n",
       "      <td>81.0</td>\n",
       "      <td>82920</td>\n",
       "      <td>Tuesday</td>\n",
       "      <td>December</td>\n",
       "      <td>2018</td>\n",
       "      <td>27</td>\n",
       "      <td>46</td>\n",
       "      <td>первый</td>\n",
       "    </tr>\n",
       "    <tr>\n",
       "      <th>2</th>\n",
       "      <td>10</td>\n",
       "      <td>5196000.0</td>\n",
       "      <td>56.000000</td>\n",
       "      <td>2015-08-20</td>\n",
       "      <td>2.0</td>\n",
       "      <td>2.65</td>\n",
       "      <td>5</td>\n",
       "      <td>34.299999</td>\n",
       "      <td>4</td>\n",
       "      <td>False</td>\n",
       "      <td>False</td>\n",
       "      <td>False</td>\n",
       "      <td>8.3</td>\n",
       "      <td>0</td>\n",
       "      <td>Санкт-Петербург</td>\n",
       "      <td>21741.0</td>\n",
       "      <td>13933.0</td>\n",
       "      <td>1</td>\n",
       "      <td>90.0</td>\n",
       "      <td>2</td>\n",
       "      <td>574.0</td>\n",
       "      <td>558.0</td>\n",
       "      <td>92785</td>\n",
       "      <td>Thursday</td>\n",
       "      <td>August</td>\n",
       "      <td>2015</td>\n",
       "      <td>14</td>\n",
       "      <td>61</td>\n",
       "      <td>другой</td>\n",
       "    </tr>\n",
       "    <tr>\n",
       "      <th>3</th>\n",
       "      <td>0</td>\n",
       "      <td>NaN</td>\n",
       "      <td>NaN</td>\n",
       "      <td>2015-07-24</td>\n",
       "      <td>3.0</td>\n",
       "      <td>2.65</td>\n",
       "      <td>14</td>\n",
       "      <td>NaN</td>\n",
       "      <td>9</td>\n",
       "      <td>False</td>\n",
       "      <td>False</td>\n",
       "      <td>False</td>\n",
       "      <td>NaN</td>\n",
       "      <td>0</td>\n",
       "      <td>Санкт-Петербург</td>\n",
       "      <td>28098.0</td>\n",
       "      <td>6800.0</td>\n",
       "      <td>2</td>\n",
       "      <td>84.0</td>\n",
       "      <td>3</td>\n",
       "      <td>234.0</td>\n",
       "      <td>424.0</td>\n",
       "      <td>408176</td>\n",
       "      <td>Friday</td>\n",
       "      <td>July</td>\n",
       "      <td>2015</td>\n",
       "      <td>17</td>\n",
       "      <td>57</td>\n",
       "      <td>другой</td>\n",
       "    </tr>\n",
       "    <tr>\n",
       "      <th>4</th>\n",
       "      <td>2</td>\n",
       "      <td>10000000.0</td>\n",
       "      <td>100.000000</td>\n",
       "      <td>2018-06-19</td>\n",
       "      <td>2.0</td>\n",
       "      <td>NaN</td>\n",
       "      <td>14</td>\n",
       "      <td>32.000000</td>\n",
       "      <td>13</td>\n",
       "      <td>False</td>\n",
       "      <td>False</td>\n",
       "      <td>False</td>\n",
       "      <td>NaN</td>\n",
       "      <td>0</td>\n",
       "      <td>Санкт-Петербург</td>\n",
       "      <td>31856.0</td>\n",
       "      <td>8098.0</td>\n",
       "      <td>2</td>\n",
       "      <td>112.0</td>\n",
       "      <td>1</td>\n",
       "      <td>48.0</td>\n",
       "      <td>121.0</td>\n",
       "      <td>100000</td>\n",
       "      <td>Tuesday</td>\n",
       "      <td>June</td>\n",
       "      <td>2018</td>\n",
       "      <td>41</td>\n",
       "      <td>32</td>\n",
       "      <td>другой</td>\n",
       "    </tr>\n",
       "  </tbody>\n",
       "</table>\n",
       "</div>"
      ],
      "text/plain": [
       "   total_images  last_price  total_area first_day_exposition  rooms  \\\n",
       "0            20         NaN  108.000000           2019-03-07    3.0   \n",
       "1             7   3350000.0   40.400002           2018-12-04    1.0   \n",
       "2            10   5196000.0   56.000000           2015-08-20    2.0   \n",
       "3             0         NaN         NaN           2015-07-24    3.0   \n",
       "4             2  10000000.0  100.000000           2018-06-19    2.0   \n",
       "\n",
       "   ceiling_height  floors_total  living_area  floor  is_apartment  studio  \\\n",
       "0            2.70            16    51.000000      8         False   False   \n",
       "1            2.65            11    18.600000      1         False   False   \n",
       "2            2.65             5    34.299999      4         False   False   \n",
       "3            2.65            14          NaN      9         False   False   \n",
       "4             NaN            14    32.000000     13         False   False   \n",
       "\n",
       "   open_plan  kitchen_area  balcony    locality_name  airports_nearest  \\\n",
       "0      False           NaN        0  Санкт-Петербург           18863.0   \n",
       "1      False          11.0        2   посёлок Шушары           12817.0   \n",
       "2      False           8.3        0  Санкт-Петербург           21741.0   \n",
       "3      False           NaN        0  Санкт-Петербург           28098.0   \n",
       "4      False           NaN        0  Санкт-Петербург           31856.0   \n",
       "\n",
       "   city_centers_nearest  parks_around3000  parks_nearest  ponds_around3000  \\\n",
       "0               16028.0                 1          482.0                 2   \n",
       "1               18603.0                 0            NaN                 0   \n",
       "2               13933.0                 1           90.0                 2   \n",
       "3                6800.0                 2           84.0                 3   \n",
       "4                8098.0                 2          112.0                 1   \n",
       "\n",
       "   ponds_nearest  days_exposition  price_per_square_meter   weekday     month  \\\n",
       "0          755.0              NaN                  120370  Thursday     March   \n",
       "1            NaN             81.0                   82920   Tuesday  December   \n",
       "2          574.0            558.0                   92785  Thursday    August   \n",
       "3          234.0            424.0                  408176    Friday      July   \n",
       "4           48.0            121.0                  100000   Tuesday      June   \n",
       "\n",
       "   year  kitchen_ratio  living_ratio floor_type  \n",
       "0  2019             23            47     другой  \n",
       "1  2018             27            46     первый  \n",
       "2  2015             14            61     другой  \n",
       "3  2015             17            57     другой  \n",
       "4  2018             41            32     другой  "
      ]
     },
     "metadata": {},
     "output_type": "display_data"
    }
   ],
   "source": [
    "display(data.head())"
   ]
  },
  {
   "cell_type": "code",
   "execution_count": 250,
   "metadata": {},
   "outputs": [
    {
     "name": "stdout",
     "output_type": "stream",
     "text": [
      "<class 'pandas.core.frame.DataFrame'>\n",
      "Int64Index: 23446 entries, 0 to 23698\n",
      "Data columns (total 29 columns):\n",
      " #   Column                  Non-Null Count  Dtype         \n",
      "---  ------                  --------------  -----         \n",
      " 0   total_images            23446 non-null  int64         \n",
      " 1   last_price              21411 non-null  float64       \n",
      " 2   total_area              22211 non-null  float32       \n",
      " 3   first_day_exposition    23446 non-null  datetime64[ns]\n",
      " 4   rooms                   23254 non-null  float64       \n",
      " 5   ceiling_height          20518 non-null  float32       \n",
      " 6   floors_total            23446 non-null  int64         \n",
      " 7   living_area             22570 non-null  float32       \n",
      " 8   floor                   23446 non-null  int64         \n",
      " 9   is_apartment            23446 non-null  bool          \n",
      " 10  studio                  23446 non-null  bool          \n",
      " 11  open_plan               23446 non-null  bool          \n",
      " 12  kitchen_area            22155 non-null  float32       \n",
      " 13  balcony                 23446 non-null  int64         \n",
      " 14  locality_name           23446 non-null  object        \n",
      " 15  airports_nearest        17957 non-null  float64       \n",
      " 16  city_centers_nearest    17980 non-null  float64       \n",
      " 17  parks_around3000        23446 non-null  int64         \n",
      " 18  parks_nearest           7994 non-null   float64       \n",
      " 19  ponds_around3000        23446 non-null  int64         \n",
      " 20  ponds_nearest           8992 non-null   float64       \n",
      " 21  days_exposition         19890 non-null  float64       \n",
      " 22  price_per_square_meter  23446 non-null  int64         \n",
      " 23  weekday                 23446 non-null  object        \n",
      " 24  month                   23446 non-null  object        \n",
      " 25  year                    23446 non-null  object        \n",
      " 26  kitchen_ratio           23446 non-null  int64         \n",
      " 27  living_ratio            23446 non-null  int64         \n",
      " 28  floor_type              23446 non-null  object        \n",
      "dtypes: bool(3), datetime64[ns](1), float32(4), float64(7), int64(9), object(5)\n",
      "memory usage: 4.5+ MB\n"
     ]
    },
    {
     "data": {
      "text/plain": [
       "None"
      ]
     },
     "metadata": {},
     "output_type": "display_data"
    }
   ],
   "source": [
    "display(data.info())"
   ]
  },
  {
   "cell_type": "code",
   "execution_count": 251,
   "metadata": {},
   "outputs": [
    {
     "data": {
      "text/html": [
       "<div>\n",
       "<style scoped>\n",
       "    .dataframe tbody tr th:only-of-type {\n",
       "        vertical-align: middle;\n",
       "    }\n",
       "\n",
       "    .dataframe tbody tr th {\n",
       "        vertical-align: top;\n",
       "    }\n",
       "\n",
       "    .dataframe thead th {\n",
       "        text-align: right;\n",
       "    }\n",
       "</style>\n",
       "<table border=\"1\" class=\"dataframe\">\n",
       "  <thead>\n",
       "    <tr style=\"text-align: right;\">\n",
       "      <th></th>\n",
       "      <th>total_images</th>\n",
       "      <th>last_price</th>\n",
       "      <th>total_area</th>\n",
       "      <th>rooms</th>\n",
       "      <th>ceiling_height</th>\n",
       "      <th>floors_total</th>\n",
       "      <th>living_area</th>\n",
       "      <th>floor</th>\n",
       "      <th>kitchen_area</th>\n",
       "      <th>balcony</th>\n",
       "      <th>airports_nearest</th>\n",
       "      <th>city_centers_nearest</th>\n",
       "      <th>parks_around3000</th>\n",
       "      <th>parks_nearest</th>\n",
       "      <th>ponds_around3000</th>\n",
       "      <th>ponds_nearest</th>\n",
       "      <th>days_exposition</th>\n",
       "      <th>price_per_square_meter</th>\n",
       "      <th>kitchen_ratio</th>\n",
       "      <th>living_ratio</th>\n",
       "    </tr>\n",
       "  </thead>\n",
       "  <tbody>\n",
       "    <tr>\n",
       "      <th>count</th>\n",
       "      <td>23446.000000</td>\n",
       "      <td>2.141100e+04</td>\n",
       "      <td>22211.000000</td>\n",
       "      <td>23254.000000</td>\n",
       "      <td>20518.000000</td>\n",
       "      <td>23446.000000</td>\n",
       "      <td>22570.000000</td>\n",
       "      <td>23446.000000</td>\n",
       "      <td>22155.000000</td>\n",
       "      <td>23446.000000</td>\n",
       "      <td>17957.000000</td>\n",
       "      <td>17980.000000</td>\n",
       "      <td>23446.000000</td>\n",
       "      <td>7994.000000</td>\n",
       "      <td>23446.000000</td>\n",
       "      <td>8992.000000</td>\n",
       "      <td>19890.000000</td>\n",
       "      <td>2.344600e+04</td>\n",
       "      <td>23446.000000</td>\n",
       "      <td>23446.000000</td>\n",
       "    </tr>\n",
       "    <tr>\n",
       "      <th>mean</th>\n",
       "      <td>9.881856</td>\n",
       "      <td>4.839692e+06</td>\n",
       "      <td>54.366703</td>\n",
       "      <td>2.032941</td>\n",
       "      <td>2.630694</td>\n",
       "      <td>10.664634</td>\n",
       "      <td>31.503456</td>\n",
       "      <td>5.870682</td>\n",
       "      <td>9.419467</td>\n",
       "      <td>0.592596</td>\n",
       "      <td>28805.054129</td>\n",
       "      <td>14200.166796</td>\n",
       "      <td>0.468609</td>\n",
       "      <td>490.765949</td>\n",
       "      <td>0.589440</td>\n",
       "      <td>518.253448</td>\n",
       "      <td>162.584263</td>\n",
       "      <td>9.930251e+04</td>\n",
       "      <td>18.095411</td>\n",
       "      <td>55.962296</td>\n",
       "    </tr>\n",
       "    <tr>\n",
       "      <th>std</th>\n",
       "      <td>5.680656</td>\n",
       "      <td>2.215365e+06</td>\n",
       "      <td>19.315355</td>\n",
       "      <td>0.972436</td>\n",
       "      <td>0.081633</td>\n",
       "      <td>6.586790</td>\n",
       "      <td>13.740183</td>\n",
       "      <td>4.865002</td>\n",
       "      <td>3.171086</td>\n",
       "      <td>0.960434</td>\n",
       "      <td>12632.078812</td>\n",
       "      <td>8616.131070</td>\n",
       "      <td>0.747738</td>\n",
       "      <td>340.768237</td>\n",
       "      <td>0.883148</td>\n",
       "      <td>277.966694</td>\n",
       "      <td>177.824191</td>\n",
       "      <td>5.016018e+04</td>\n",
       "      <td>6.871075</td>\n",
       "      <td>9.915899</td>\n",
       "    </tr>\n",
       "    <tr>\n",
       "      <th>min</th>\n",
       "      <td>0.000000</td>\n",
       "      <td>1.219000e+04</td>\n",
       "      <td>13.000000</td>\n",
       "      <td>0.000000</td>\n",
       "      <td>2.450000</td>\n",
       "      <td>1.000000</td>\n",
       "      <td>2.000000</td>\n",
       "      <td>1.000000</td>\n",
       "      <td>1.300000</td>\n",
       "      <td>0.000000</td>\n",
       "      <td>0.000000</td>\n",
       "      <td>181.000000</td>\n",
       "      <td>0.000000</td>\n",
       "      <td>1.000000</td>\n",
       "      <td>0.000000</td>\n",
       "      <td>13.000000</td>\n",
       "      <td>1.000000</td>\n",
       "      <td>1.110000e+02</td>\n",
       "      <td>2.000000</td>\n",
       "      <td>2.000000</td>\n",
       "    </tr>\n",
       "    <tr>\n",
       "      <th>25%</th>\n",
       "      <td>6.000000</td>\n",
       "      <td>3.300000e+06</td>\n",
       "      <td>39.500000</td>\n",
       "      <td>1.000000</td>\n",
       "      <td>2.600000</td>\n",
       "      <td>5.000000</td>\n",
       "      <td>18.700001</td>\n",
       "      <td>2.000000</td>\n",
       "      <td>7.000000</td>\n",
       "      <td>0.000000</td>\n",
       "      <td>18574.000000</td>\n",
       "      <td>9238.000000</td>\n",
       "      <td>0.000000</td>\n",
       "      <td>288.000000</td>\n",
       "      <td>0.000000</td>\n",
       "      <td>293.000000</td>\n",
       "      <td>44.000000</td>\n",
       "      <td>7.654925e+04</td>\n",
       "      <td>13.000000</td>\n",
       "      <td>50.000000</td>\n",
       "    </tr>\n",
       "    <tr>\n",
       "      <th>50%</th>\n",
       "      <td>9.000000</td>\n",
       "      <td>4.400000e+06</td>\n",
       "      <td>50.099998</td>\n",
       "      <td>2.000000</td>\n",
       "      <td>2.650000</td>\n",
       "      <td>9.000000</td>\n",
       "      <td>30.000000</td>\n",
       "      <td>4.000000</td>\n",
       "      <td>9.000000</td>\n",
       "      <td>0.000000</td>\n",
       "      <td>26763.000000</td>\n",
       "      <td>13095.000000</td>\n",
       "      <td>0.000000</td>\n",
       "      <td>455.000000</td>\n",
       "      <td>0.000000</td>\n",
       "      <td>503.000000</td>\n",
       "      <td>92.000000</td>\n",
       "      <td>9.493600e+04</td>\n",
       "      <td>17.000000</td>\n",
       "      <td>57.000000</td>\n",
       "    </tr>\n",
       "    <tr>\n",
       "      <th>75%</th>\n",
       "      <td>14.000000</td>\n",
       "      <td>6.000000e+06</td>\n",
       "      <td>65.500000</td>\n",
       "      <td>3.000000</td>\n",
       "      <td>2.650000</td>\n",
       "      <td>16.000000</td>\n",
       "      <td>40.539555</td>\n",
       "      <td>8.000000</td>\n",
       "      <td>11.000000</td>\n",
       "      <td>1.000000</td>\n",
       "      <td>37275.000000</td>\n",
       "      <td>16293.000000</td>\n",
       "      <td>1.000000</td>\n",
       "      <td>612.000000</td>\n",
       "      <td>1.000000</td>\n",
       "      <td>730.000000</td>\n",
       "      <td>217.000000</td>\n",
       "      <td>1.141265e+05</td>\n",
       "      <td>22.000000</td>\n",
       "      <td>63.000000</td>\n",
       "    </tr>\n",
       "    <tr>\n",
       "      <th>max</th>\n",
       "      <td>50.000000</td>\n",
       "      <td>1.186686e+07</td>\n",
       "      <td>114.300003</td>\n",
       "      <td>5.000000</td>\n",
       "      <td>2.850000</td>\n",
       "      <td>60.000000</td>\n",
       "      <td>76.699997</td>\n",
       "      <td>33.000000</td>\n",
       "      <td>19.450001</td>\n",
       "      <td>5.000000</td>\n",
       "      <td>84869.000000</td>\n",
       "      <td>65968.000000</td>\n",
       "      <td>3.000000</td>\n",
       "      <td>3190.000000</td>\n",
       "      <td>3.000000</td>\n",
       "      <td>1344.000000</td>\n",
       "      <td>907.000000</td>\n",
       "      <td>1.907500e+06</td>\n",
       "      <td>72.000000</td>\n",
       "      <td>90.000000</td>\n",
       "    </tr>\n",
       "  </tbody>\n",
       "</table>\n",
       "</div>"
      ],
      "text/plain": [
       "       total_images    last_price    total_area         rooms  ceiling_height  \\\n",
       "count  23446.000000  2.141100e+04  22211.000000  23254.000000    20518.000000   \n",
       "mean       9.881856  4.839692e+06     54.366703      2.032941        2.630694   \n",
       "std        5.680656  2.215365e+06     19.315355      0.972436        0.081633   \n",
       "min        0.000000  1.219000e+04     13.000000      0.000000        2.450000   \n",
       "25%        6.000000  3.300000e+06     39.500000      1.000000        2.600000   \n",
       "50%        9.000000  4.400000e+06     50.099998      2.000000        2.650000   \n",
       "75%       14.000000  6.000000e+06     65.500000      3.000000        2.650000   \n",
       "max       50.000000  1.186686e+07    114.300003      5.000000        2.850000   \n",
       "\n",
       "       floors_total   living_area         floor  kitchen_area       balcony  \\\n",
       "count  23446.000000  22570.000000  23446.000000  22155.000000  23446.000000   \n",
       "mean      10.664634     31.503456      5.870682      9.419467      0.592596   \n",
       "std        6.586790     13.740183      4.865002      3.171086      0.960434   \n",
       "min        1.000000      2.000000      1.000000      1.300000      0.000000   \n",
       "25%        5.000000     18.700001      2.000000      7.000000      0.000000   \n",
       "50%        9.000000     30.000000      4.000000      9.000000      0.000000   \n",
       "75%       16.000000     40.539555      8.000000     11.000000      1.000000   \n",
       "max       60.000000     76.699997     33.000000     19.450001      5.000000   \n",
       "\n",
       "       airports_nearest  city_centers_nearest  parks_around3000  \\\n",
       "count      17957.000000          17980.000000      23446.000000   \n",
       "mean       28805.054129          14200.166796          0.468609   \n",
       "std        12632.078812           8616.131070          0.747738   \n",
       "min            0.000000            181.000000          0.000000   \n",
       "25%        18574.000000           9238.000000          0.000000   \n",
       "50%        26763.000000          13095.000000          0.000000   \n",
       "75%        37275.000000          16293.000000          1.000000   \n",
       "max        84869.000000          65968.000000          3.000000   \n",
       "\n",
       "       parks_nearest  ponds_around3000  ponds_nearest  days_exposition  \\\n",
       "count    7994.000000      23446.000000    8992.000000     19890.000000   \n",
       "mean      490.765949          0.589440     518.253448       162.584263   \n",
       "std       340.768237          0.883148     277.966694       177.824191   \n",
       "min         1.000000          0.000000      13.000000         1.000000   \n",
       "25%       288.000000          0.000000     293.000000        44.000000   \n",
       "50%       455.000000          0.000000     503.000000        92.000000   \n",
       "75%       612.000000          1.000000     730.000000       217.000000   \n",
       "max      3190.000000          3.000000    1344.000000       907.000000   \n",
       "\n",
       "       price_per_square_meter  kitchen_ratio  living_ratio  \n",
       "count            2.344600e+04   23446.000000  23446.000000  \n",
       "mean             9.930251e+04      18.095411     55.962296  \n",
       "std              5.016018e+04       6.871075      9.915899  \n",
       "min              1.110000e+02       2.000000      2.000000  \n",
       "25%              7.654925e+04      13.000000     50.000000  \n",
       "50%              9.493600e+04      17.000000     57.000000  \n",
       "75%              1.141265e+05      22.000000     63.000000  \n",
       "max              1.907500e+06      72.000000     90.000000  "
      ]
     },
     "metadata": {},
     "output_type": "display_data"
    }
   ],
   "source": [
    "display(data.describe())"
   ]
  },
  {
   "cell_type": "markdown",
   "metadata": {},
   "source": [
    "## Определение факторов, влияющих на стоимость квартиры"
   ]
  },
  {
   "cell_type": "markdown",
   "metadata": {},
   "source": [
    "В этом блоке мы будем ислледовать какие факторы больше всего влияют на стоимость квартиры.Изучим, зависит ли цена от квадратного метра, числа комнат, этажа (первого или последнего), удалённости от центра. Также изучим зависимость от даты размещения: дня недели, месяца и года."
   ]
  },
  {
   "cell_type": "code",
   "execution_count": 252,
   "metadata": {},
   "outputs": [
    {
     "data": {
      "text/plain": [
       "<AxesSubplot:xlabel='total_area'>"
      ]
     },
     "metadata": {},
     "output_type": "display_data"
    },
    {
     "data": {
      "text/plain": [
       "'Корреляция цены и площади:'"
      ]
     },
     "metadata": {},
     "output_type": "display_data"
    },
    {
     "data": {
      "text/html": [
       "<div>\n",
       "<style scoped>\n",
       "    .dataframe tbody tr th:only-of-type {\n",
       "        vertical-align: middle;\n",
       "    }\n",
       "\n",
       "    .dataframe tbody tr th {\n",
       "        vertical-align: top;\n",
       "    }\n",
       "\n",
       "    .dataframe thead th {\n",
       "        text-align: right;\n",
       "    }\n",
       "</style>\n",
       "<table border=\"1\" class=\"dataframe\">\n",
       "  <thead>\n",
       "    <tr style=\"text-align: right;\">\n",
       "      <th></th>\n",
       "      <th>last_price</th>\n",
       "      <th>total_area</th>\n",
       "    </tr>\n",
       "  </thead>\n",
       "  <tbody>\n",
       "    <tr>\n",
       "      <th>last_price</th>\n",
       "      <td>1.000000</td>\n",
       "      <td>0.905082</td>\n",
       "    </tr>\n",
       "    <tr>\n",
       "      <th>total_area</th>\n",
       "      <td>0.905082</td>\n",
       "      <td>1.000000</td>\n",
       "    </tr>\n",
       "  </tbody>\n",
       "</table>\n",
       "</div>"
      ],
      "text/plain": [
       "            last_price  total_area\n",
       "last_price    1.000000    0.905082\n",
       "total_area    0.905082    1.000000"
      ]
     },
     "metadata": {},
     "output_type": "display_data"
    },
    {
     "data": {
      "image/png": "[encoded data removed]",
      "text/plain": [
       "<Figure size 864x360 with 1 Axes>"
      ]
     },
     "metadata": {
      "needs_background": "light"
     },
     "output_type": "display_data"
    }
   ],
   "source": [
    "display(data.pivot_table(index='total_area', values='last_price').plot(grid=True, style='o', figsize=(12, 5)))\n",
    "display('Корреляция цены и площади:')\n",
    "display(data.pivot_table(index='floor', values=['total_area', 'last_price']).corr())"
   ]
  },
  {
   "cell_type": "code",
   "execution_count": 253,
   "metadata": {},
   "outputs": [
    {
     "data": {
      "text/plain": [
       "<AxesSubplot:xlabel='rooms'>"
      ]
     },
     "metadata": {},
     "output_type": "display_data"
    },
    {
     "data": {
      "text/plain": [
       "'Корреляция цены и кол-ва комнат:'"
      ]
     },
     "metadata": {},
     "output_type": "display_data"
    },
    {
     "data": {
      "text/html": [
       "<div>\n",
       "<style scoped>\n",
       "    .dataframe tbody tr th:only-of-type {\n",
       "        vertical-align: middle;\n",
       "    }\n",
       "\n",
       "    .dataframe tbody tr th {\n",
       "        vertical-align: top;\n",
       "    }\n",
       "\n",
       "    .dataframe thead th {\n",
       "        text-align: right;\n",
       "    }\n",
       "</style>\n",
       "<table border=\"1\" class=\"dataframe\">\n",
       "  <thead>\n",
       "    <tr style=\"text-align: right;\">\n",
       "      <th></th>\n",
       "      <th>last_price</th>\n",
       "      <th>rooms</th>\n",
       "    </tr>\n",
       "  </thead>\n",
       "  <tbody>\n",
       "    <tr>\n",
       "      <th>last_price</th>\n",
       "      <td>1.000000</td>\n",
       "      <td>0.548644</td>\n",
       "    </tr>\n",
       "    <tr>\n",
       "      <th>rooms</th>\n",
       "      <td>0.548644</td>\n",
       "      <td>1.000000</td>\n",
       "    </tr>\n",
       "  </tbody>\n",
       "</table>\n",
       "</div>"
      ],
      "text/plain": [
       "            last_price     rooms\n",
       "last_price    1.000000  0.548644\n",
       "rooms         0.548644  1.000000"
      ]
     },
     "metadata": {},
     "output_type": "display_data"
    },
    {
     "data": {
      "image/png": "[encoded data removed]",
      "text/plain": [
       "<Figure size 864x360 with 1 Axes>"
      ]
     },
     "metadata": {
      "needs_background": "light"
     },
     "output_type": "display_data"
    }
   ],
   "source": [
    "display(data.query('rooms > 0').pivot_table(index='rooms', values='last_price').plot(grid=True, style='o-', figsize=(12, 5)))\n",
    "display('Корреляция цены и кол-ва комнат:')\n",
    "display(data.pivot_table(index='floor', values=['rooms', 'last_price']).corr())"
   ]
  },
  {
   "cell_type": "code",
   "execution_count": 254,
   "metadata": {},
   "outputs": [
    {
     "data": {
      "text/plain": [
       "<AxesSubplot:xlabel='city_centers_nearest'>"
      ]
     },
     "metadata": {},
     "output_type": "display_data"
    },
    {
     "data": {
      "text/plain": [
       "'Корреляция цены и отдаленности от центра:'"
      ]
     },
     "metadata": {},
     "output_type": "display_data"
    },
    {
     "data": {
      "text/html": [
       "<div>\n",
       "<style scoped>\n",
       "    .dataframe tbody tr th:only-of-type {\n",
       "        vertical-align: middle;\n",
       "    }\n",
       "\n",
       "    .dataframe tbody tr th {\n",
       "        vertical-align: top;\n",
       "    }\n",
       "\n",
       "    .dataframe thead th {\n",
       "        text-align: right;\n",
       "    }\n",
       "</style>\n",
       "<table border=\"1\" class=\"dataframe\">\n",
       "  <thead>\n",
       "    <tr style=\"text-align: right;\">\n",
       "      <th></th>\n",
       "      <th>city_centers_nearest</th>\n",
       "      <th>last_price</th>\n",
       "    </tr>\n",
       "  </thead>\n",
       "  <tbody>\n",
       "    <tr>\n",
       "      <th>city_centers_nearest</th>\n",
       "      <td>1.000000</td>\n",
       "      <td>0.710126</td>\n",
       "    </tr>\n",
       "    <tr>\n",
       "      <th>last_price</th>\n",
       "      <td>0.710126</td>\n",
       "      <td>1.000000</td>\n",
       "    </tr>\n",
       "  </tbody>\n",
       "</table>\n",
       "</div>"
      ],
      "text/plain": [
       "                      city_centers_nearest  last_price\n",
       "city_centers_nearest              1.000000    0.710126\n",
       "last_price                        0.710126    1.000000"
      ]
     },
     "metadata": {},
     "output_type": "display_data"
    },
    {
     "data": {
      "image/png": "[encoded data removed]",
      "text/plain": [
       "<Figure size 864x360 with 1 Axes>"
      ]
     },
     "metadata": {
      "needs_background": "light"
     },
     "output_type": "display_data"
    }
   ],
   "source": [
    "display(data.pivot_table(index='city_centers_nearest', values='last_price').plot(grid=True, style='o', figsize=(12, 5)))\n",
    "display('Корреляция цены и отдаленности от центра:')\n",
    "display(data.pivot_table(index='floor', values=['city_centers_nearest', 'last_price']).corr())"
   ]
  },
  {
   "cell_type": "code",
   "execution_count": 255,
   "metadata": {},
   "outputs": [
    {
     "data": {
      "text/plain": [
       "<AxesSubplot:xlabel='floor_type'>"
      ]
     },
     "metadata": {},
     "output_type": "display_data"
    },
    {
     "data": {
      "image/png": "[encoded data removed]",
      "text/plain": [
       "<Figure size 864x360 with 1 Axes>"
      ]
     },
     "metadata": {
      "needs_background": "light"
     },
     "output_type": "display_data"
    }
   ],
   "source": [
    "display(data.pivot_table(index='floor_type', values='last_price', aggfunc='median').plot(grid=True, style='o-', figsize=(12, 5)))"
   ]
  },
  {
   "cell_type": "code",
   "execution_count": 269,
   "metadata": {},
   "outputs": [
    {
     "data": {
      "text/plain": [
       "'Корреляция цены и дня недели выставления квартиры:'"
      ]
     },
     "metadata": {},
     "output_type": "display_data"
    },
    {
     "data": {
      "text/html": [
       "<div>\n",
       "<style scoped>\n",
       "    .dataframe tbody tr th:only-of-type {\n",
       "        vertical-align: middle;\n",
       "    }\n",
       "\n",
       "    .dataframe tbody tr th {\n",
       "        vertical-align: top;\n",
       "    }\n",
       "\n",
       "    .dataframe thead th {\n",
       "        text-align: right;\n",
       "    }\n",
       "</style>\n",
       "<table border=\"1\" class=\"dataframe\">\n",
       "  <thead>\n",
       "    <tr style=\"text-align: right;\">\n",
       "      <th></th>\n",
       "      <th>last_price</th>\n",
       "      <th>weekday</th>\n",
       "    </tr>\n",
       "  </thead>\n",
       "  <tbody>\n",
       "    <tr>\n",
       "      <th>last_price</th>\n",
       "      <td>1.000000</td>\n",
       "      <td>0.667614</td>\n",
       "    </tr>\n",
       "    <tr>\n",
       "      <th>weekday</th>\n",
       "      <td>0.667614</td>\n",
       "      <td>1.000000</td>\n",
       "    </tr>\n",
       "  </tbody>\n",
       "</table>\n",
       "</div>"
      ],
      "text/plain": [
       "            last_price   weekday\n",
       "last_price    1.000000  0.667614\n",
       "weekday       0.667614  1.000000"
      ]
     },
     "metadata": {},
     "output_type": "display_data"
    },
    {
     "data": {
      "image/png": "[encoded data removed]",
      "text/plain": [
       "<Figure size 432x288 with 1 Axes>"
      ]
     },
     "metadata": {
      "needs_background": "light"
     },
     "output_type": "display_data"
    }
   ],
   "source": [
    "#display(data.pivot_table(index='weekday', values='last_price').plot(grid=True, style='o-', figsize=(12, 5)))\n",
    "data.pivot_table(index='weekday', values='last_price').hist(bins=30)\n",
    "display('Корреляция цены и дня недели выставления квартиры:')\n",
    "display(data.pivot_table(index='floor', values=['weekday', 'last_price']).corr())\n"
   ]
  },
  {
   "cell_type": "code",
   "execution_count": 268,
   "metadata": {},
   "outputs": [
    {
     "data": {
      "text/plain": [
       "'Корреляция цены и месяца выставления квартиры:'"
      ]
     },
     "metadata": {},
     "output_type": "display_data"
    },
    {
     "data": {
      "text/html": [
       "<div>\n",
       "<style scoped>\n",
       "    .dataframe tbody tr th:only-of-type {\n",
       "        vertical-align: middle;\n",
       "    }\n",
       "\n",
       "    .dataframe tbody tr th {\n",
       "        vertical-align: top;\n",
       "    }\n",
       "\n",
       "    .dataframe thead th {\n",
       "        text-align: right;\n",
       "    }\n",
       "</style>\n",
       "<table border=\"1\" class=\"dataframe\">\n",
       "  <thead>\n",
       "    <tr style=\"text-align: right;\">\n",
       "      <th></th>\n",
       "      <th>last_price</th>\n",
       "      <th>month</th>\n",
       "    </tr>\n",
       "  </thead>\n",
       "  <tbody>\n",
       "    <tr>\n",
       "      <th>last_price</th>\n",
       "      <td>1.000000</td>\n",
       "      <td>0.032504</td>\n",
       "    </tr>\n",
       "    <tr>\n",
       "      <th>month</th>\n",
       "      <td>0.032504</td>\n",
       "      <td>1.000000</td>\n",
       "    </tr>\n",
       "  </tbody>\n",
       "</table>\n",
       "</div>"
      ],
      "text/plain": [
       "            last_price     month\n",
       "last_price    1.000000  0.032504\n",
       "month         0.032504  1.000000"
      ]
     },
     "metadata": {},
     "output_type": "display_data"
    },
    {
     "data": {
      "image/png": "[encoded data removed]",
      "text/plain": [
       "<Figure size 432x288 with 1 Axes>"
      ]
     },
     "metadata": {
      "needs_background": "light"
     },
     "output_type": "display_data"
    }
   ],
   "source": [
    "#display(data.pivot_table(index='month', values='last_price').plot(grid=True, style='o-', figsize=(12, 5)))\n",
    "data.pivot_table(index='month', values='last_price').hist(bins=12)\n",
    "display('Корреляция цены и месяца выставления квартиры:')\n",
    "display(data.pivot_table(index='floor', values=['month', 'last_price']).corr())"
   ]
  },
  {
   "cell_type": "code",
   "execution_count": 265,
   "metadata": {},
   "outputs": [
    {
     "data": {
      "text/plain": [
       "'Корреляция цены и года выставления квартиры:'"
      ]
     },
     "metadata": {},
     "output_type": "display_data"
    },
    {
     "data": {
      "text/html": [
       "<div>\n",
       "<style scoped>\n",
       "    .dataframe tbody tr th:only-of-type {\n",
       "        vertical-align: middle;\n",
       "    }\n",
       "\n",
       "    .dataframe tbody tr th {\n",
       "        vertical-align: top;\n",
       "    }\n",
       "\n",
       "    .dataframe thead th {\n",
       "        text-align: right;\n",
       "    }\n",
       "</style>\n",
       "<table border=\"1\" class=\"dataframe\">\n",
       "  <thead>\n",
       "    <tr style=\"text-align: right;\">\n",
       "      <th></th>\n",
       "      <th>last_price</th>\n",
       "      <th>year</th>\n",
       "    </tr>\n",
       "  </thead>\n",
       "  <tbody>\n",
       "    <tr>\n",
       "      <th>last_price</th>\n",
       "      <td>1.000000</td>\n",
       "      <td>0.070898</td>\n",
       "    </tr>\n",
       "    <tr>\n",
       "      <th>year</th>\n",
       "      <td>0.070898</td>\n",
       "      <td>1.000000</td>\n",
       "    </tr>\n",
       "  </tbody>\n",
       "</table>\n",
       "</div>"
      ],
      "text/plain": [
       "            last_price      year\n",
       "last_price    1.000000  0.070898\n",
       "year          0.070898  1.000000"
      ]
     },
     "metadata": {},
     "output_type": "display_data"
    },
    {
     "data": {
      "image/png": "[encoded data removed]",
      "text/plain": [
       "<Figure size 432x288 with 1 Axes>"
      ]
     },
     "metadata": {
      "needs_background": "light"
     },
     "output_type": "display_data"
    }
   ],
   "source": [
    "#display(data.pivot_table(index='year', values='last_price').plot(grid=True, style='o-', figsize=(12, 5)))\n",
    "data.pivot_table(index='year', values='last_price').hist()\n",
    "display('Корреляция цены и года выставления квартиры:')\n",
    "display(data.pivot_table(index='floor', values=['year', 'last_price']).corr())"
   ]
  },
  {
   "cell_type": "markdown",
   "metadata": {},
   "source": [
    "### Корреляция цены и площади:\n",
    "Из графика можно заметить,что чем больше площадь,тем больше и цена.Корреляция довольно высокая.\n",
    "### Корреляция цены и кол-ва комнат:\n",
    "Из графика можно сделать такой же вывод,как и в корреляции между ценой и площадью.Больше комнат - больше цена.Зависимость есть,но не такая высокая как между ценой и общей площадью.\n",
    "### Корреляция цены и отдаленности от центра:\n",
    "Из графика можно понять,что чем ближе к центру,тем цена выше.\n",
    "### Этажи\n",
    "Самая низкая цена на квартиры на первом этаже.Чуть выше цена на последнем этаже.Самые высокие цены на этажи,расположенные ни на первом и ни на последнем этажах.\n",
    "### Корреляция цены и дня недели выставления квартиры:\n",
    "Дороже всего квартиры выставленные во вторник.Дешевле всего в субботу.\n",
    "### Корреляция цены и месяца выставления квартиры:\n",
    "Дороже всего квартиры выставленные в апреле и сентябре.Дешевле всего в июне.\n",
    "### Корреляция цены и года выставления квартиры:\n",
    "Дороже всего квартиры стоили в 2014.Дешевле всего в 16-18 годах в силу кризиса.В 2019 цены начали немного расти."
   ]
  },
  {
   "cell_type": "markdown",
   "metadata": {},
   "source": [
    "Теперь выберем 10 населённых пунктов с наибольшим числом объявлений. Посчитаем среднюю цену квадратного метра в этих населённых пунктах. Выделим населённые пункты с самой высокой и низкой стоимостью жилья."
   ]
  },
  {
   "cell_type": "code",
   "execution_count": 132,
   "metadata": {},
   "outputs": [
    {
     "data": {
      "text/html": [
       "<div>\n",
       "<style scoped>\n",
       "    .dataframe tbody tr th:only-of-type {\n",
       "        vertical-align: middle;\n",
       "    }\n",
       "\n",
       "    .dataframe tbody tr th {\n",
       "        vertical-align: top;\n",
       "    }\n",
       "\n",
       "    .dataframe thead th {\n",
       "        text-align: right;\n",
       "    }\n",
       "</style>\n",
       "<table border=\"1\" class=\"dataframe\">\n",
       "  <thead>\n",
       "    <tr style=\"text-align: right;\">\n",
       "      <th></th>\n",
       "      <th>price_per_square_meter</th>\n",
       "    </tr>\n",
       "    <tr>\n",
       "      <th>locality_name</th>\n",
       "      <th></th>\n",
       "    </tr>\n",
       "  </thead>\n",
       "  <tbody>\n",
       "    <tr>\n",
       "      <th>Санкт-Петербург</th>\n",
       "      <td>114868</td>\n",
       "    </tr>\n",
       "    <tr>\n",
       "      <th>Пушкин</th>\n",
       "      <td>103125</td>\n",
       "    </tr>\n",
       "    <tr>\n",
       "      <th>деревня Кудрово</th>\n",
       "      <td>92473</td>\n",
       "    </tr>\n",
       "    <tr>\n",
       "      <th>посёлок Парголово</th>\n",
       "      <td>90175</td>\n",
       "    </tr>\n",
       "    <tr>\n",
       "      <th>посёлок Мурино</th>\n",
       "      <td>85672</td>\n",
       "    </tr>\n",
       "    <tr>\n",
       "      <th>посёлок Шушары</th>\n",
       "      <td>78550</td>\n",
       "    </tr>\n",
       "    <tr>\n",
       "      <th>Колпино</th>\n",
       "      <td>75424</td>\n",
       "    </tr>\n",
       "    <tr>\n",
       "      <th>Гатчина</th>\n",
       "      <td>68745</td>\n",
       "    </tr>\n",
       "    <tr>\n",
       "      <th>Всеволожск</th>\n",
       "      <td>68654</td>\n",
       "    </tr>\n",
       "    <tr>\n",
       "      <th>Выборг</th>\n",
       "      <td>58141</td>\n",
       "    </tr>\n",
       "  </tbody>\n",
       "</table>\n",
       "</div>"
      ],
      "text/plain": [
       "                   price_per_square_meter\n",
       "locality_name                            \n",
       "Санкт-Петербург                    114868\n",
       "Пушкин                             103125\n",
       "деревня Кудрово                     92473\n",
       "посёлок Парголово                   90175\n",
       "посёлок Мурино                      85672\n",
       "посёлок Шушары                      78550\n",
       "Колпино                             75424\n",
       "Гатчина                             68745\n",
       "Всеволожск                          68654\n",
       "Выборг                              58141"
      ]
     },
     "metadata": {},
     "output_type": "display_data"
    }
   ],
   "source": [
    "big_cities = data['locality_name'].value_counts().head(10)\n",
    "city_by_price_per_square_meter = data.query('locality_name in @big_cities.index').pivot_table(index='locality_name', values='price_per_square_meter')\n",
    "city_by_price_per_square_meter = city_by_price_per_square_meter.astype('int64')\n",
    "display(city_by_price_per_square_meter.sort_values('price_per_square_meter', ascending=False))"
   ]
  },
  {
   "cell_type": "markdown",
   "metadata": {},
   "source": [
    "Результат довольно ожидаем.Самая высокая цена за кв.метр в Санкт-Петербурге.Самая низкая цена в Выборге.Цена за кв.метр в Питере и Выборге различаются в 2 раза."
   ]
  },
  {
   "cell_type": "markdown",
   "metadata": {},
   "source": [
    "Теперь изучим предложения квартир: для каждой квартиры есть информация о расстоянии до центра. Выделим квартиры в Санкт-Петербурге.Моя задача — выяснить, какая область входит в центр. Создадим столбец с расстоянием до центра в километрах. После этого посчитаем среднюю цену для каждого километра. Построим график: он должен показывать, как цена зависит от удалённости от центра. Определим границу, где график сильно меняется — это и будет центральная зона»."
   ]
  },
  {
   "cell_type": "code",
   "execution_count": 136,
   "metadata": {},
   "outputs": [
    {
     "data": {
      "text/plain": [
       "<AxesSubplot:xlabel='distance_to_cc'>"
      ]
     },
     "metadata": {},
     "output_type": "display_data"
    },
    {
     "data": {
      "image/png": "[encoded data removed]",
      "text/plain": [
       "<Figure size 864x360 with 1 Axes>"
      ]
     },
     "metadata": {
      "needs_background": "light"
     },
     "output_type": "display_data"
    }
   ],
   "source": [
    "data['distance_to_cc'] = data['city_centers_nearest'] / 1000\n",
    "data['distance_to_cc'] = data['distance_to_cc'].fillna(0)\n",
    "data['distance_to_cc'] = data['distance_to_cc'].astype('int64')\n",
    "display(data.query('locality_name == \"Санкт-Петербург\"').pivot_table(index='distance_to_cc', values='last_price').plot(grid=True, style='o-', xlim=(0,20), figsize=(12,5)))"
   ]
  },
  {
   "cell_type": "markdown",
   "metadata": {},
   "source": [
    "Центральной зоной можно назвать квартиры расположенные в пределах 7 км.После этих значений цена квартир заметно уменьшается."
   ]
  },
  {
   "cell_type": "markdown",
   "metadata": {},
   "source": [
    "Сначала разберемся с квартирами в центре."
   ]
  },
  {
   "cell_type": "code",
   "execution_count": 142,
   "metadata": {},
   "outputs": [
    {
     "data": {
      "text/plain": [
       "'Площадь в центре(медиана): 68'"
      ]
     },
     "metadata": {},
     "output_type": "display_data"
    },
    {
     "data": {
      "text/plain": [
       "'Площадь в центре(ср.знач): 69'"
      ]
     },
     "metadata": {},
     "output_type": "display_data"
    },
    {
     "data": {
      "image/png": "[encoded data removed]",
      "text/plain": [
       "<Figure size 864x360 with 1 Axes>"
      ]
     },
     "metadata": {
      "needs_background": "light"
     },
     "output_type": "display_data"
    }
   ],
   "source": [
    "spb_center = data.query('(locality_name == \"Санкт-Петербург\") & (distance_to_cc <= 7)')\n",
    "display(f'Площадь в центре(медиана): {round(spb_center[\"total_area\"].median())}')\n",
    "display(f'Площадь в центре(ср.знач): {round(spb_center[\"total_area\"].mean())}')\n",
    "spb_center['total_area'].hist(bins=30, range=(0,200), figsize=(12,5))\n",
    "plt.show()"
   ]
  },
  {
   "cell_type": "code",
   "execution_count": 161,
   "metadata": {},
   "outputs": [
    {
     "data": {
      "text/plain": [
       "'Площадь в центре(медиана): 50'"
      ]
     },
     "metadata": {},
     "output_type": "display_data"
    },
    {
     "data": {
      "text/plain": [
       "'Площадь в центре(ср.знач): 54'"
      ]
     },
     "metadata": {},
     "output_type": "display_data"
    },
    {
     "data": {
      "image/png": "[encoded data removed]",
      "text/plain": [
       "<Figure size 864x360 with 1 Axes>"
      ]
     },
     "metadata": {
      "needs_background": "light"
     },
     "output_type": "display_data"
    }
   ],
   "source": [
    "display(f'Площадь в городе(медиана): {round(data[\"total_area\"].median())}')\n",
    "display(f'Площадь в городе(ср.знач): {round(data[\"total_area\"].mean())}')\n",
    "data['total_area'].hist(bins=30, range=(0,200), figsize=(12,5))\n",
    "plt.show()"
   ]
  },
  {
   "cell_type": "code",
   "execution_count": 144,
   "metadata": {},
   "outputs": [
    {
     "data": {
      "image/png": "[encoded data removed]",
      "text/plain": [
       "<Figure size 864x360 with 1 Axes>"
      ]
     },
     "metadata": {
      "needs_background": "light"
     },
     "output_type": "display_data"
    }
   ],
   "source": [
    "spb_center['last_price'].hist(bins=30, figsize=(12, 5))\n",
    "plt.show()"
   ]
  },
  {
   "cell_type": "code",
   "execution_count": 162,
   "metadata": {},
   "outputs": [
    {
     "data": {
      "image/png": "[encoded data removed]",
      "text/plain": [
       "<Figure size 864x360 with 1 Axes>"
      ]
     },
     "metadata": {
      "needs_background": "light"
     },
     "output_type": "display_data"
    }
   ],
   "source": [
    "data['last_price'].hist(bins=30, figsize=(12, 5))\n",
    "plt.show()"
   ]
  },
  {
   "cell_type": "code",
   "execution_count": 159,
   "metadata": {},
   "outputs": [
    {
     "data": {
      "image/png": "[encoded data removed]",
      "text/plain": [
       "<Figure size 864x360 with 1 Axes>"
      ]
     },
     "metadata": {
      "needs_background": "light"
     },
     "output_type": "display_data"
    },
    {
     "data": {
      "text/plain": [
       "'Корреляция цены и кол-ва комнат в квартире в центре:'"
      ]
     },
     "metadata": {},
     "output_type": "display_data"
    },
    {
     "data": {
      "text/html": [
       "<div>\n",
       "<style scoped>\n",
       "    .dataframe tbody tr th:only-of-type {\n",
       "        vertical-align: middle;\n",
       "    }\n",
       "\n",
       "    .dataframe tbody tr th {\n",
       "        vertical-align: top;\n",
       "    }\n",
       "\n",
       "    .dataframe thead th {\n",
       "        text-align: right;\n",
       "    }\n",
       "</style>\n",
       "<table border=\"1\" class=\"dataframe\">\n",
       "  <thead>\n",
       "    <tr style=\"text-align: right;\">\n",
       "      <th></th>\n",
       "      <th>last_price</th>\n",
       "      <th>rooms</th>\n",
       "    </tr>\n",
       "  </thead>\n",
       "  <tbody>\n",
       "    <tr>\n",
       "      <th>last_price</th>\n",
       "      <td>1.000000</td>\n",
       "      <td>-0.137141</td>\n",
       "    </tr>\n",
       "    <tr>\n",
       "      <th>rooms</th>\n",
       "      <td>-0.137141</td>\n",
       "      <td>1.000000</td>\n",
       "    </tr>\n",
       "  </tbody>\n",
       "</table>\n",
       "</div>"
      ],
      "text/plain": [
       "            last_price     rooms\n",
       "last_price    1.000000 -0.137141\n",
       "rooms        -0.137141  1.000000"
      ]
     },
     "metadata": {},
     "output_type": "display_data"
    }
   ],
   "source": [
    "spb_center.query('rooms > 0').pivot_table(index='rooms', values='last_price').plot(grid=True, style='o-', figsize=(12, 5))\n",
    "plt.show()\n",
    "display('Корреляция цены и кол-ва комнат в квартире в центре:')\n",
    "display(spb_center.query('rooms > 0').pivot_table(index='floor', values=['rooms', 'last_price']).corr())"
   ]
  },
  {
   "cell_type": "code",
   "execution_count": 154,
   "metadata": {},
   "outputs": [
    {
     "data": {
      "image/png": "[encoded data removed]",
      "text/plain": [
       "<Figure size 864x360 with 1 Axes>"
      ]
     },
     "metadata": {
      "needs_background": "light"
     },
     "output_type": "display_data"
    },
    {
     "data": {
      "text/plain": [
       "'Корреляция цены и кол-ва комнат в квартире в городе:'"
      ]
     },
     "metadata": {},
     "output_type": "display_data"
    },
    {
     "data": {
      "text/html": [
       "<div>\n",
       "<style scoped>\n",
       "    .dataframe tbody tr th:only-of-type {\n",
       "        vertical-align: middle;\n",
       "    }\n",
       "\n",
       "    .dataframe tbody tr th {\n",
       "        vertical-align: top;\n",
       "    }\n",
       "\n",
       "    .dataframe thead th {\n",
       "        text-align: right;\n",
       "    }\n",
       "</style>\n",
       "<table border=\"1\" class=\"dataframe\">\n",
       "  <thead>\n",
       "    <tr style=\"text-align: right;\">\n",
       "      <th></th>\n",
       "      <th>last_price</th>\n",
       "      <th>rooms</th>\n",
       "    </tr>\n",
       "  </thead>\n",
       "  <tbody>\n",
       "    <tr>\n",
       "      <th>last_price</th>\n",
       "      <td>1.000000</td>\n",
       "      <td>0.537551</td>\n",
       "    </tr>\n",
       "    <tr>\n",
       "      <th>rooms</th>\n",
       "      <td>0.537551</td>\n",
       "      <td>1.000000</td>\n",
       "    </tr>\n",
       "  </tbody>\n",
       "</table>\n",
       "</div>"
      ],
      "text/plain": [
       "            last_price     rooms\n",
       "last_price    1.000000  0.537551\n",
       "rooms         0.537551  1.000000"
      ]
     },
     "metadata": {},
     "output_type": "display_data"
    }
   ],
   "source": [
    "data.query('rooms > 0').pivot_table(index='rooms', values='last_price').plot(grid=True, style='o-', figsize=(12, 5))\n",
    "plt.show()\n",
    "display('Корреляция цены и кол-ва комнат в квартире в городе:')\n",
    "display(data.query('rooms > 0').pivot_table(index='floor', values=['rooms', 'last_price']).corr())"
   ]
  },
  {
   "cell_type": "code",
   "execution_count": 167,
   "metadata": {},
   "outputs": [
    {
     "data": {
      "text/plain": [
       "'Высота потолков в центре (медиана):'"
      ]
     },
     "metadata": {},
     "output_type": "display_data"
    },
    {
     "data": {
      "text/plain": [
       "2.65"
      ]
     },
     "metadata": {},
     "output_type": "display_data"
    },
    {
     "data": {
      "text/plain": [
       "'Высота потолков в центре (среднее):'"
      ]
     },
     "metadata": {},
     "output_type": "display_data"
    },
    {
     "data": {
      "text/plain": [
       "2.661781496062992"
      ]
     },
     "metadata": {},
     "output_type": "display_data"
    }
   ],
   "source": [
    "display('Высота потолков в центре (медиана):', spb_center['ceiling_height'].median())\n",
    "display('Высота потолков в центре (среднее):', spb_center['ceiling_height'].mean())"
   ]
  },
  {
   "cell_type": "code",
   "execution_count": 166,
   "metadata": {},
   "outputs": [
    {
     "data": {
      "text/plain": [
       "'Высота потолков (медиана):'"
      ]
     },
     "metadata": {},
     "output_type": "display_data"
    },
    {
     "data": {
      "text/plain": [
       "2.65"
      ]
     },
     "metadata": {},
     "output_type": "display_data"
    },
    {
     "data": {
      "text/plain": [
       "'Высота потолков (среднее):'"
      ]
     },
     "metadata": {},
     "output_type": "display_data"
    },
    {
     "data": {
      "text/plain": [
       "2.637710689412817"
      ]
     },
     "metadata": {},
     "output_type": "display_data"
    }
   ],
   "source": [
    "display('Высота потолков (медиана):', data.query('locality_name == \"Санкт-Петербург\"')['ceiling_height'].median())\n",
    "display('Высота потолков (среднее):', data.query('locality_name == \"Санкт-Петербург\"')['ceiling_height'].mean())"
   ]
  },
  {
   "cell_type": "code",
   "execution_count": 148,
   "metadata": {},
   "outputs": [
    {
     "data": {
      "image/png": "[encoded data removed]",
      "text/plain": [
       "<Figure size 864x360 with 1 Axes>"
      ]
     },
     "metadata": {
      "needs_background": "light"
     },
     "output_type": "display_data"
    }
   ],
   "source": [
    "spb_center.pivot_table(index='floor_type', values='last_price', aggfunc='median').plot(grid=True, style='o-', figsize=(12, 5))\n",
    "plt.show()"
   ]
  },
  {
   "cell_type": "code",
   "execution_count": 160,
   "metadata": {},
   "outputs": [
    {
     "data": {
      "image/png": "[encoded data removed]",
      "text/plain": [
       "<Figure size 864x360 with 1 Axes>"
      ]
     },
     "metadata": {
      "needs_background": "light"
     },
     "output_type": "display_data"
    }
   ],
   "source": [
    "data.pivot_table(index='floor_type', values='last_price', aggfunc='median').plot(grid=True, style='o-', figsize=(12, 5))\n",
    "plt.show()"
   ]
  },
  {
   "cell_type": "code",
   "execution_count": 150,
   "metadata": {},
   "outputs": [
    {
     "data": {
      "image/png": "[encoded data removed]",
      "text/plain": [
       "<Figure size 864x360 with 1 Axes>"
      ]
     },
     "metadata": {
      "needs_background": "light"
     },
     "output_type": "display_data"
    },
    {
     "data": {
      "text/plain": [
       "'Корреляция цены и удалённости от центра:'"
      ]
     },
     "metadata": {},
     "output_type": "display_data"
    },
    {
     "data": {
      "text/html": [
       "<div>\n",
       "<style scoped>\n",
       "    .dataframe tbody tr th:only-of-type {\n",
       "        vertical-align: middle;\n",
       "    }\n",
       "\n",
       "    .dataframe tbody tr th {\n",
       "        vertical-align: top;\n",
       "    }\n",
       "\n",
       "    .dataframe thead th {\n",
       "        text-align: right;\n",
       "    }\n",
       "</style>\n",
       "<table border=\"1\" class=\"dataframe\">\n",
       "  <thead>\n",
       "    <tr style=\"text-align: right;\">\n",
       "      <th></th>\n",
       "      <th>city_centers_nearest</th>\n",
       "      <th>last_price</th>\n",
       "    </tr>\n",
       "  </thead>\n",
       "  <tbody>\n",
       "    <tr>\n",
       "      <th>city_centers_nearest</th>\n",
       "      <td>1.000000</td>\n",
       "      <td>0.124077</td>\n",
       "    </tr>\n",
       "    <tr>\n",
       "      <th>last_price</th>\n",
       "      <td>0.124077</td>\n",
       "      <td>1.000000</td>\n",
       "    </tr>\n",
       "  </tbody>\n",
       "</table>\n",
       "</div>"
      ],
      "text/plain": [
       "                      city_centers_nearest  last_price\n",
       "city_centers_nearest              1.000000    0.124077\n",
       "last_price                        0.124077    1.000000"
      ]
     },
     "metadata": {},
     "output_type": "display_data"
    }
   ],
   "source": [
    "spb_center.pivot_table(index='city_centers_nearest', values='last_price', aggfunc='median').plot(grid=True, style='o', figsize=(12, 5))\n",
    "plt.show()\n",
    "display('Корреляция цены и удалённости от центра:')\n",
    "display(spb_center.pivot_table(index='floor', values=['city_centers_nearest', 'last_price']).corr())"
   ]
  },
  {
   "cell_type": "code",
   "execution_count": 151,
   "metadata": {},
   "outputs": [
    {
     "data": {
      "image/png": "[encoded data removed]",
      "text/plain": [
       "<Figure size 864x360 with 1 Axes>"
      ]
     },
     "metadata": {
      "needs_background": "light"
     },
     "output_type": "display_data"
    },
    {
     "data": {
      "text/plain": [
       "'Корреляция цены и от дня размещения квартиры:'"
      ]
     },
     "metadata": {},
     "output_type": "display_data"
    },
    {
     "data": {
      "text/html": [
       "<div>\n",
       "<style scoped>\n",
       "    .dataframe tbody tr th:only-of-type {\n",
       "        vertical-align: middle;\n",
       "    }\n",
       "\n",
       "    .dataframe tbody tr th {\n",
       "        vertical-align: top;\n",
       "    }\n",
       "\n",
       "    .dataframe thead th {\n",
       "        text-align: right;\n",
       "    }\n",
       "</style>\n",
       "<table border=\"1\" class=\"dataframe\">\n",
       "  <thead>\n",
       "    <tr style=\"text-align: right;\">\n",
       "      <th></th>\n",
       "      <th>last_price</th>\n",
       "      <th>weekday</th>\n",
       "    </tr>\n",
       "  </thead>\n",
       "  <tbody>\n",
       "    <tr>\n",
       "      <th>last_price</th>\n",
       "      <td>1.000000</td>\n",
       "      <td>-0.215135</td>\n",
       "    </tr>\n",
       "    <tr>\n",
       "      <th>weekday</th>\n",
       "      <td>-0.215135</td>\n",
       "      <td>1.000000</td>\n",
       "    </tr>\n",
       "  </tbody>\n",
       "</table>\n",
       "</div>"
      ],
      "text/plain": [
       "            last_price   weekday\n",
       "last_price    1.000000 -0.215135\n",
       "weekday      -0.215135  1.000000"
      ]
     },
     "metadata": {},
     "output_type": "display_data"
    }
   ],
   "source": [
    "spb_center.pivot_table(index='weekday', values='last_price').plot(grid=True, style='o-', figsize=(12, 5))\n",
    "plt.show()\n",
    "display('Корреляция цены и от дня размещения квартиры:')\n",
    "display(spb_center.pivot_table(index='floor', values=['weekday', 'last_price']).corr())"
   ]
  },
  {
   "cell_type": "code",
   "execution_count": 152,
   "metadata": {},
   "outputs": [
    {
     "data": {
      "image/png": "[encoded data removed]",
      "text/plain": [
       "<Figure size 864x360 with 1 Axes>"
      ]
     },
     "metadata": {
      "needs_background": "light"
     },
     "output_type": "display_data"
    },
    {
     "data": {
      "text/plain": [
       "'Корреляция цены и от дня размещения квартиры:'"
      ]
     },
     "metadata": {},
     "output_type": "display_data"
    },
    {
     "data": {
      "text/html": [
       "<div>\n",
       "<style scoped>\n",
       "    .dataframe tbody tr th:only-of-type {\n",
       "        vertical-align: middle;\n",
       "    }\n",
       "\n",
       "    .dataframe tbody tr th {\n",
       "        vertical-align: top;\n",
       "    }\n",
       "\n",
       "    .dataframe thead th {\n",
       "        text-align: right;\n",
       "    }\n",
       "</style>\n",
       "<table border=\"1\" class=\"dataframe\">\n",
       "  <thead>\n",
       "    <tr style=\"text-align: right;\">\n",
       "      <th></th>\n",
       "      <th>last_price</th>\n",
       "      <th>month</th>\n",
       "    </tr>\n",
       "  </thead>\n",
       "  <tbody>\n",
       "    <tr>\n",
       "      <th>last_price</th>\n",
       "      <td>1.000000</td>\n",
       "      <td>-0.283706</td>\n",
       "    </tr>\n",
       "    <tr>\n",
       "      <th>month</th>\n",
       "      <td>-0.283706</td>\n",
       "      <td>1.000000</td>\n",
       "    </tr>\n",
       "  </tbody>\n",
       "</table>\n",
       "</div>"
      ],
      "text/plain": [
       "            last_price     month\n",
       "last_price    1.000000 -0.283706\n",
       "month        -0.283706  1.000000"
      ]
     },
     "metadata": {},
     "output_type": "display_data"
    }
   ],
   "source": [
    "spb_center.pivot_table(index='month', values='last_price').plot(grid=True, style='o-', figsize=(12, 5))\n",
    "plt.show()\n",
    "display('Корреляция цены и от дня размещения квартиры:')\n",
    "display(spb_center.pivot_table(index='floor', values=['month', 'last_price']).corr())"
   ]
  },
  {
   "cell_type": "code",
   "execution_count": 153,
   "metadata": {},
   "outputs": [
    {
     "data": {
      "image/png": "[encoded data removed]",
      "text/plain": [
       "<Figure size 864x360 with 1 Axes>"
      ]
     },
     "metadata": {
      "needs_background": "light"
     },
     "output_type": "display_data"
    },
    {
     "data": {
      "text/plain": [
       "'Корреляция цены и от дня размещения квартиры:'"
      ]
     },
     "metadata": {},
     "output_type": "display_data"
    },
    {
     "data": {
      "text/html": [
       "<div>\n",
       "<style scoped>\n",
       "    .dataframe tbody tr th:only-of-type {\n",
       "        vertical-align: middle;\n",
       "    }\n",
       "\n",
       "    .dataframe tbody tr th {\n",
       "        vertical-align: top;\n",
       "    }\n",
       "\n",
       "    .dataframe thead th {\n",
       "        text-align: right;\n",
       "    }\n",
       "</style>\n",
       "<table border=\"1\" class=\"dataframe\">\n",
       "  <thead>\n",
       "    <tr style=\"text-align: right;\">\n",
       "      <th></th>\n",
       "      <th>last_price</th>\n",
       "      <th>year</th>\n",
       "    </tr>\n",
       "  </thead>\n",
       "  <tbody>\n",
       "    <tr>\n",
       "      <th>last_price</th>\n",
       "      <td>1.000000</td>\n",
       "      <td>0.662955</td>\n",
       "    </tr>\n",
       "    <tr>\n",
       "      <th>year</th>\n",
       "      <td>0.662955</td>\n",
       "      <td>1.000000</td>\n",
       "    </tr>\n",
       "  </tbody>\n",
       "</table>\n",
       "</div>"
      ],
      "text/plain": [
       "            last_price      year\n",
       "last_price    1.000000  0.662955\n",
       "year          0.662955  1.000000"
      ]
     },
     "metadata": {},
     "output_type": "display_data"
    }
   ],
   "source": [
    "spb_center.pivot_table(index='year', values='last_price').plot(grid=True, style='o-', figsize=(12, 5))\n",
    "plt.show()\n",
    "display('Корреляция цены и от дня размещения квартиры:')\n",
    "display(spb_center.pivot_table(index='floor', values=['year', 'last_price']).corr())"
   ]
  },
  {
   "cell_type": "markdown",
   "metadata": {},
   "source": [
    "## Общий вывод"
   ]
  },
  {
   "cell_type": "markdown",
   "metadata": {},
   "source": [
    "В нашем распоряжении были данные сервиса Яндекс Недвижимость — архив объявлений о продаже квартир в Санкт-Петербурге и соседних населённых пунктах за несколько лет.Было необходимо научиться определять рыночную стоимость объектов недвижимости. Нашей задачей было установить параметры. Это позволит построить автоматизированную систему: она отследит аномалии и мошенническую деятельность.Также мы проанализировали квартиры в центре и в общем в городе.Что узнали: общая площадь квартир в центре значительно больше,чем в общем городе.Это видно по медиане и среднему значению. Цены за квартиру в центре больше примерно на 2 млн.р. больше,чем в общем в городе. Потолки в целом выше в центре города. Корреляция цены квартиры от числа комнат в центре и в целом в городе одинаковы. В центре верхний этаж стоит столько же,сколько и другие,кроме первого.В целом в городе ситуация была иначе. В центральной зоне почти нет зависимости от удалённости от центра города. В центре значительно выше стоимость квартир, опубликованных в субботу и в декабре. Стоимость квартир в центре значительно выросла в 2015 году и снизилась только в 2017 году.Теперь подведем краткие выводы по интересующим вопросам.\n",
    "### Срок продажи квартиры:\n",
    "В среднем квартиры продаются за 95 дней.Если квартиру продали за 45 дней - это быстро.Если больше 230 дней - это долго.\n",
    "### Что влияет на цену:\n",
    "На стоимость больше всего влияет площадь квартиры.Первый этаж дешевле остальных вариантов.\n",
    "### Стоимость квадратного метра в топ-10 населённых пунктов\n",
    "Дороже всего квадратный метр в Санкт-Петербурге.Дешевле всего квадратный метр в Выборге.\n",
    "### Факторы, влияющие на стоимость в центре Санкт-Петербурга\n",
    "В центре города нет разницы как далеко квартира удалена от центра города.Последний этаж стоит столько же,сколько и другие \n",
    "этажи,кроме первого этажа."
   ]
  },
  {
   "cell_type": "code",
   "execution_count": null,
   "metadata": {},
   "outputs": [],
   "source": []
  }
 ],
 "metadata": {
  "ExecuteTimeLog": [
   {
    "duration": 426,
    "start_time": "2022-04-01T16:18:10.606Z"
   },
   {
    "duration": 80,
    "start_time": "2022-04-01T16:22:06.560Z"
   },
   {
    "duration": 14,
    "start_time": "2022-04-01T16:23:23.378Z"
   },
   {
    "duration": 20,
    "start_time": "2022-04-01T16:23:38.819Z"
   },
   {
    "duration": 9,
    "start_time": "2022-04-01T16:25:33.605Z"
   },
   {
    "duration": 85,
    "start_time": "2022-04-01T16:25:55.378Z"
   },
   {
    "duration": 17,
    "start_time": "2022-04-01T16:25:57.893Z"
   },
   {
    "duration": 26,
    "start_time": "2022-04-01T16:26:17.220Z"
   },
   {
    "duration": 4,
    "start_time": "2022-04-01T16:28:36.730Z"
   },
   {
    "duration": 4,
    "start_time": "2022-04-01T16:28:58.632Z"
   },
   {
    "duration": 25,
    "start_time": "2022-04-01T16:29:14.607Z"
   },
   {
    "duration": 6,
    "start_time": "2022-04-01T16:41:05.239Z"
   },
   {
    "duration": 439,
    "start_time": "2022-04-03T13:04:01.322Z"
   },
   {
    "duration": 84,
    "start_time": "2022-04-03T13:04:03.642Z"
   },
   {
    "duration": 22,
    "start_time": "2022-04-03T13:04:06.063Z"
   },
   {
    "duration": 28,
    "start_time": "2022-04-03T13:04:11.419Z"
   },
   {
    "duration": 4,
    "start_time": "2022-04-03T13:04:26.810Z"
   },
   {
    "duration": 3,
    "start_time": "2022-04-03T13:04:29.405Z"
   },
   {
    "duration": 27,
    "start_time": "2022-04-03T13:04:31.580Z"
   },
   {
    "duration": 6,
    "start_time": "2022-04-03T13:04:39.209Z"
   },
   {
    "duration": 5,
    "start_time": "2022-04-03T13:04:41.646Z"
   },
   {
    "duration": 27,
    "start_time": "2022-04-03T13:06:33.656Z"
   },
   {
    "duration": 64,
    "start_time": "2022-04-03T13:12:09.589Z"
   },
   {
    "duration": 4,
    "start_time": "2022-04-03T13:12:20.171Z"
   },
   {
    "duration": 4,
    "start_time": "2022-04-03T13:13:58.393Z"
   },
   {
    "duration": 4,
    "start_time": "2022-04-03T13:15:00.827Z"
   },
   {
    "duration": 7,
    "start_time": "2022-04-03T13:16:59.452Z"
   },
   {
    "duration": 27,
    "start_time": "2022-04-03T13:17:21.624Z"
   },
   {
    "duration": 33,
    "start_time": "2022-04-03T13:27:27.474Z"
   },
   {
    "duration": 19,
    "start_time": "2022-04-03T13:30:22.764Z"
   },
   {
    "duration": 509,
    "start_time": "2022-04-05T16:57:07.149Z"
   },
   {
    "duration": 90,
    "start_time": "2022-04-05T16:57:08.586Z"
   },
   {
    "duration": 31,
    "start_time": "2022-04-05T16:57:10.518Z"
   },
   {
    "duration": 6,
    "start_time": "2022-04-05T16:57:12.914Z"
   },
   {
    "duration": 5,
    "start_time": "2022-04-05T16:57:14.059Z"
   },
   {
    "duration": 41,
    "start_time": "2022-04-05T16:57:15.166Z"
   },
   {
    "duration": 9,
    "start_time": "2022-04-05T16:57:16.836Z"
   },
   {
    "duration": 8,
    "start_time": "2022-04-05T16:57:20.341Z"
   },
   {
    "duration": 35,
    "start_time": "2022-04-05T16:57:21.950Z"
   },
   {
    "duration": 5,
    "start_time": "2022-04-05T16:57:23.999Z"
   },
   {
    "duration": 5,
    "start_time": "2022-04-05T16:57:25.316Z"
   },
   {
    "duration": 4,
    "start_time": "2022-04-05T16:57:26.519Z"
   },
   {
    "duration": 42,
    "start_time": "2022-04-05T16:57:28.327Z"
   },
   {
    "duration": 24,
    "start_time": "2022-04-05T16:58:26.368Z"
   },
   {
    "duration": 40,
    "start_time": "2022-04-05T17:04:58.996Z"
   },
   {
    "duration": 24,
    "start_time": "2022-04-05T17:05:48.601Z"
   },
   {
    "duration": 4,
    "start_time": "2022-04-05T17:10:21.700Z"
   },
   {
    "duration": 86,
    "start_time": "2022-04-05T17:10:33.833Z"
   },
   {
    "duration": 5,
    "start_time": "2022-04-05T17:10:38.726Z"
   },
   {
    "duration": 3,
    "start_time": "2022-04-05T17:12:02.890Z"
   },
   {
    "duration": 4,
    "start_time": "2022-04-05T17:13:05.730Z"
   },
   {
    "duration": 5,
    "start_time": "2022-04-05T17:15:01.674Z"
   },
   {
    "duration": 13,
    "start_time": "2022-04-05T17:15:33.691Z"
   },
   {
    "duration": 13,
    "start_time": "2022-04-05T17:15:47.503Z"
   },
   {
    "duration": 12,
    "start_time": "2022-04-05T17:16:04.220Z"
   },
   {
    "duration": 3,
    "start_time": "2022-04-05T17:17:51.315Z"
   },
   {
    "duration": 4,
    "start_time": "2022-04-05T17:19:06.249Z"
   },
   {
    "duration": 29,
    "start_time": "2022-04-05T17:19:18.687Z"
   },
   {
    "duration": 10,
    "start_time": "2022-04-05T17:22:15.090Z"
   },
   {
    "duration": 30,
    "start_time": "2022-04-05T17:23:47.898Z"
   },
   {
    "duration": 15,
    "start_time": "2022-04-05T18:55:04.324Z"
   },
   {
    "duration": 3,
    "start_time": "2022-04-05T19:03:45.406Z"
   },
   {
    "duration": 65,
    "start_time": "2022-04-05T19:03:46.566Z"
   },
   {
    "duration": 15,
    "start_time": "2022-04-05T19:03:48.162Z"
   },
   {
    "duration": 3,
    "start_time": "2022-04-05T19:03:52.378Z"
   },
   {
    "duration": 4,
    "start_time": "2022-04-05T19:03:54.145Z"
   },
   {
    "duration": 18,
    "start_time": "2022-04-05T19:03:55.338Z"
   },
   {
    "duration": 6,
    "start_time": "2022-04-05T19:03:57.478Z"
   },
   {
    "duration": 5,
    "start_time": "2022-04-05T19:03:58.445Z"
   },
   {
    "duration": 23,
    "start_time": "2022-04-05T19:03:59.923Z"
   },
   {
    "duration": 3,
    "start_time": "2022-04-05T19:04:01.789Z"
   },
   {
    "duration": 4,
    "start_time": "2022-04-05T19:04:03.217Z"
   },
   {
    "duration": 4,
    "start_time": "2022-04-05T19:04:04.260Z"
   },
   {
    "duration": 21,
    "start_time": "2022-04-05T19:04:05.548Z"
   },
   {
    "duration": 19,
    "start_time": "2022-04-05T19:04:08.269Z"
   },
   {
    "duration": 15,
    "start_time": "2022-04-05T19:04:09.785Z"
   },
   {
    "duration": 13,
    "start_time": "2022-04-05T19:05:35.214Z"
   },
   {
    "duration": 2,
    "start_time": "2022-04-05T19:26:17.693Z"
   },
   {
    "duration": 61,
    "start_time": "2022-04-05T19:26:18.687Z"
   },
   {
    "duration": 13,
    "start_time": "2022-04-05T19:26:20.185Z"
   },
   {
    "duration": 4,
    "start_time": "2022-04-05T19:26:24.226Z"
   },
   {
    "duration": 2,
    "start_time": "2022-04-05T19:26:50.907Z"
   },
   {
    "duration": 59,
    "start_time": "2022-04-05T19:26:53.738Z"
   },
   {
    "duration": 13,
    "start_time": "2022-04-05T19:26:55.390Z"
   },
   {
    "duration": 4,
    "start_time": "2022-04-05T19:26:58.473Z"
   },
   {
    "duration": 18,
    "start_time": "2022-04-05T19:27:10.005Z"
   },
   {
    "duration": 1556,
    "start_time": "2022-04-05T19:45:12.375Z"
   },
   {
    "duration": 1599,
    "start_time": "2022-04-05T19:45:29.864Z"
   },
   {
    "duration": 17,
    "start_time": "2022-04-05T19:45:55.981Z"
   },
   {
    "duration": 13,
    "start_time": "2022-04-05T19:46:08.396Z"
   },
   {
    "duration": 17,
    "start_time": "2022-04-05T19:54:22.932Z"
   },
   {
    "duration": 12,
    "start_time": "2022-04-05T19:55:43.376Z"
   },
   {
    "duration": 14,
    "start_time": "2022-04-05T19:57:23.976Z"
   },
   {
    "duration": 7,
    "start_time": "2022-04-05T20:11:45.435Z"
   },
   {
    "duration": 7,
    "start_time": "2022-04-05T20:13:41.611Z"
   },
   {
    "duration": 6,
    "start_time": "2022-04-05T20:13:52.779Z"
   },
   {
    "duration": 6,
    "start_time": "2022-04-05T20:14:28.490Z"
   },
   {
    "duration": 3,
    "start_time": "2022-04-05T20:16:50.212Z"
   },
   {
    "duration": 73,
    "start_time": "2022-04-05T20:16:51.208Z"
   },
   {
    "duration": 15,
    "start_time": "2022-04-05T20:16:52.516Z"
   },
   {
    "duration": 5,
    "start_time": "2022-04-05T20:16:54.462Z"
   },
   {
    "duration": 17,
    "start_time": "2022-04-05T20:16:55.472Z"
   },
   {
    "duration": 7,
    "start_time": "2022-04-05T20:16:57.284Z"
   },
   {
    "duration": 6,
    "start_time": "2022-04-05T20:17:29.177Z"
   },
   {
    "duration": 3,
    "start_time": "2022-04-05T20:17:43.670Z"
   },
   {
    "duration": 86,
    "start_time": "2022-04-05T20:17:45.434Z"
   },
   {
    "duration": 15,
    "start_time": "2022-04-05T20:17:46.972Z"
   },
   {
    "duration": 4,
    "start_time": "2022-04-05T20:17:49.538Z"
   },
   {
    "duration": 18,
    "start_time": "2022-04-05T20:17:50.520Z"
   },
   {
    "duration": 6,
    "start_time": "2022-04-05T20:17:54.602Z"
   },
   {
    "duration": 6,
    "start_time": "2022-04-05T20:17:56.904Z"
   },
   {
    "duration": 3,
    "start_time": "2022-04-05T20:18:35.501Z"
   },
   {
    "duration": 3,
    "start_time": "2022-04-05T20:18:43.020Z"
   },
   {
    "duration": 63,
    "start_time": "2022-04-05T20:18:43.828Z"
   },
   {
    "duration": 13,
    "start_time": "2022-04-05T20:18:45.784Z"
   },
   {
    "duration": 18,
    "start_time": "2022-04-05T20:18:49.271Z"
   },
   {
    "duration": 5,
    "start_time": "2022-04-05T20:18:54.131Z"
   },
   {
    "duration": 18,
    "start_time": "2022-04-05T20:18:56.732Z"
   },
   {
    "duration": 6,
    "start_time": "2022-04-05T20:18:59.382Z"
   },
   {
    "duration": 3,
    "start_time": "2022-04-05T20:19:01.076Z"
   },
   {
    "duration": 6,
    "start_time": "2022-04-05T20:19:18.213Z"
   },
   {
    "duration": 6,
    "start_time": "2022-04-05T20:20:25.394Z"
   },
   {
    "duration": 2,
    "start_time": "2022-04-05T20:21:15.909Z"
   },
   {
    "duration": 60,
    "start_time": "2022-04-05T20:21:55.219Z"
   },
   {
    "duration": 10,
    "start_time": "2022-04-05T20:22:09.011Z"
   },
   {
    "duration": 11,
    "start_time": "2022-04-05T20:22:30.078Z"
   },
   {
    "duration": 63,
    "start_time": "2022-04-05T20:22:33.562Z"
   },
   {
    "duration": 13,
    "start_time": "2022-04-05T20:22:35.535Z"
   },
   {
    "duration": 18,
    "start_time": "2022-04-05T20:23:16.625Z"
   },
   {
    "duration": 5,
    "start_time": "2022-04-05T20:38:53.874Z"
   },
   {
    "duration": 1646,
    "start_time": "2022-04-05T20:41:01.705Z"
   },
   {
    "duration": 5,
    "start_time": "2022-04-05T20:41:17.004Z"
   },
   {
    "duration": 386,
    "start_time": "2022-04-06T10:20:59.679Z"
   },
   {
    "duration": 81,
    "start_time": "2022-04-06T10:21:00.895Z"
   },
   {
    "duration": 21,
    "start_time": "2022-04-06T10:21:02.177Z"
   },
   {
    "duration": 7,
    "start_time": "2022-04-06T10:21:04.797Z"
   },
   {
    "duration": 5,
    "start_time": "2022-04-06T10:21:05.958Z"
   },
   {
    "duration": 5,
    "start_time": "2022-04-06T10:24:23.709Z"
   },
   {
    "duration": 3,
    "start_time": "2022-04-06T10:26:11.382Z"
   },
   {
    "duration": 5,
    "start_time": "2022-04-06T10:29:23.413Z"
   },
   {
    "duration": 7,
    "start_time": "2022-04-06T10:32:13.596Z"
   },
   {
    "duration": 42,
    "start_time": "2022-04-06T12:29:42.335Z"
   },
   {
    "duration": 358,
    "start_time": "2022-04-06T12:29:50.535Z"
   },
   {
    "duration": 82,
    "start_time": "2022-04-06T12:29:51.958Z"
   },
   {
    "duration": 20,
    "start_time": "2022-04-06T12:29:53.017Z"
   },
   {
    "duration": 4,
    "start_time": "2022-04-06T12:29:55.782Z"
   },
   {
    "duration": 4,
    "start_time": "2022-04-06T12:29:56.933Z"
   },
   {
    "duration": 5,
    "start_time": "2022-04-06T12:30:00.134Z"
   },
   {
    "duration": 3,
    "start_time": "2022-04-06T12:30:03.313Z"
   },
   {
    "duration": 5,
    "start_time": "2022-04-06T12:30:04.753Z"
   },
   {
    "duration": 6,
    "start_time": "2022-04-06T12:30:06.376Z"
   },
   {
    "duration": 3,
    "start_time": "2022-04-06T12:30:08.493Z"
   },
   {
    "duration": 7,
    "start_time": "2022-04-06T12:33:25.156Z"
   },
   {
    "duration": 24,
    "start_time": "2022-04-06T12:38:46.810Z"
   },
   {
    "duration": 3,
    "start_time": "2022-04-06T12:41:31.268Z"
   },
   {
    "duration": 24,
    "start_time": "2022-04-06T12:41:43.487Z"
   },
   {
    "duration": 2,
    "start_time": "2022-04-06T12:42:02.754Z"
   },
   {
    "duration": 6,
    "start_time": "2022-04-06T12:42:05.417Z"
   },
   {
    "duration": 3,
    "start_time": "2022-04-06T12:42:23.675Z"
   },
   {
    "duration": 87,
    "start_time": "2022-04-06T12:42:24.666Z"
   },
   {
    "duration": 14,
    "start_time": "2022-04-06T12:42:26.574Z"
   },
   {
    "duration": 4,
    "start_time": "2022-04-06T12:42:29.497Z"
   },
   {
    "duration": 4,
    "start_time": "2022-04-06T12:42:30.260Z"
   },
   {
    "duration": 5,
    "start_time": "2022-04-06T12:42:32.063Z"
   },
   {
    "duration": 4,
    "start_time": "2022-04-06T12:42:33.183Z"
   },
   {
    "duration": 4,
    "start_time": "2022-04-06T12:42:34.279Z"
   },
   {
    "duration": 7,
    "start_time": "2022-04-06T12:42:35.229Z"
   },
   {
    "duration": 4,
    "start_time": "2022-04-06T12:42:37.674Z"
   },
   {
    "duration": 7,
    "start_time": "2022-04-06T12:42:38.864Z"
   },
   {
    "duration": 19,
    "start_time": "2022-04-06T12:42:40.853Z"
   },
   {
    "duration": 3,
    "start_time": "2022-04-06T12:42:42.701Z"
   },
   {
    "duration": 19,
    "start_time": "2022-04-06T12:42:43.642Z"
   },
   {
    "duration": 22,
    "start_time": "2022-04-06T12:44:24.481Z"
   },
   {
    "duration": 170,
    "start_time": "2022-04-06T12:55:06.267Z"
   },
   {
    "duration": 158,
    "start_time": "2022-04-06T12:55:53.858Z"
   },
   {
    "duration": 161,
    "start_time": "2022-04-06T12:56:06.782Z"
   },
   {
    "duration": 163,
    "start_time": "2022-04-06T12:56:28.191Z"
   },
   {
    "duration": 10,
    "start_time": "2022-04-06T12:58:48.185Z"
   },
   {
    "duration": 9,
    "start_time": "2022-04-06T13:01:26.167Z"
   },
   {
    "duration": 2,
    "start_time": "2022-04-06T13:01:40.651Z"
   },
   {
    "duration": 74,
    "start_time": "2022-04-06T13:01:41.649Z"
   },
   {
    "duration": 14,
    "start_time": "2022-04-06T13:01:42.647Z"
   },
   {
    "duration": 4,
    "start_time": "2022-04-06T13:01:44.823Z"
   },
   {
    "duration": 4,
    "start_time": "2022-04-06T13:01:45.905Z"
   },
   {
    "duration": 4,
    "start_time": "2022-04-06T13:01:47.985Z"
   },
   {
    "duration": 4,
    "start_time": "2022-04-06T13:01:49.310Z"
   },
   {
    "duration": 5,
    "start_time": "2022-04-06T13:01:51.696Z"
   },
   {
    "duration": 6,
    "start_time": "2022-04-06T13:01:52.712Z"
   },
   {
    "duration": 4,
    "start_time": "2022-04-06T13:01:54.588Z"
   },
   {
    "duration": 6,
    "start_time": "2022-04-06T13:01:57.098Z"
   },
   {
    "duration": 17,
    "start_time": "2022-04-06T13:01:59.133Z"
   },
   {
    "duration": 14,
    "start_time": "2022-04-06T13:02:08.241Z"
   },
   {
    "duration": 19,
    "start_time": "2022-04-06T13:02:17.766Z"
   },
   {
    "duration": 13,
    "start_time": "2022-04-06T13:02:20.069Z"
   },
   {
    "duration": 8,
    "start_time": "2022-04-06T13:05:56.086Z"
   },
   {
    "duration": 7,
    "start_time": "2022-04-06T13:14:50.660Z"
   },
   {
    "duration": 3,
    "start_time": "2022-04-06T13:15:31.153Z"
   },
   {
    "duration": 72,
    "start_time": "2022-04-06T13:15:32.079Z"
   },
   {
    "duration": 13,
    "start_time": "2022-04-06T13:15:33.103Z"
   },
   {
    "duration": 4,
    "start_time": "2022-04-06T13:15:35.257Z"
   },
   {
    "duration": 4,
    "start_time": "2022-04-06T13:15:36.334Z"
   },
   {
    "duration": 5,
    "start_time": "2022-04-06T13:15:37.831Z"
   },
   {
    "duration": 3,
    "start_time": "2022-04-06T13:15:38.849Z"
   },
   {
    "duration": 4,
    "start_time": "2022-04-06T13:15:39.834Z"
   },
   {
    "duration": 7,
    "start_time": "2022-04-06T13:15:41.400Z"
   },
   {
    "duration": 4,
    "start_time": "2022-04-06T13:15:42.880Z"
   },
   {
    "duration": 8,
    "start_time": "2022-04-06T13:15:45.751Z"
   },
   {
    "duration": 19,
    "start_time": "2022-04-06T13:15:47.279Z"
   },
   {
    "duration": 3,
    "start_time": "2022-04-06T13:15:49.627Z"
   },
   {
    "duration": 14,
    "start_time": "2022-04-06T13:15:50.711Z"
   },
   {
    "duration": 18,
    "start_time": "2022-04-06T13:15:54.907Z"
   },
   {
    "duration": 6,
    "start_time": "2022-04-06T13:18:35.356Z"
   },
   {
    "duration": 6,
    "start_time": "2022-04-06T13:18:37.024Z"
   },
   {
    "duration": 3,
    "start_time": "2022-04-06T13:18:51.337Z"
   },
   {
    "duration": 83,
    "start_time": "2022-04-06T13:18:52.159Z"
   },
   {
    "duration": 15,
    "start_time": "2022-04-06T13:18:53.003Z"
   },
   {
    "duration": 4,
    "start_time": "2022-04-06T13:18:55.110Z"
   },
   {
    "duration": 5,
    "start_time": "2022-04-06T13:18:56.187Z"
   },
   {
    "duration": 5,
    "start_time": "2022-04-06T13:18:57.760Z"
   },
   {
    "duration": 3,
    "start_time": "2022-04-06T13:18:58.770Z"
   },
   {
    "duration": 4,
    "start_time": "2022-04-06T13:19:01.117Z"
   },
   {
    "duration": 7,
    "start_time": "2022-04-06T13:19:02.075Z"
   },
   {
    "duration": 4,
    "start_time": "2022-04-06T13:19:04.122Z"
   },
   {
    "duration": 9,
    "start_time": "2022-04-06T13:19:05.770Z"
   },
   {
    "duration": 17,
    "start_time": "2022-04-06T13:19:07.222Z"
   },
   {
    "duration": 3,
    "start_time": "2022-04-06T13:19:08.695Z"
   },
   {
    "duration": 16,
    "start_time": "2022-04-06T13:19:09.933Z"
   },
   {
    "duration": 7,
    "start_time": "2022-04-06T13:19:16.893Z"
   },
   {
    "duration": 19,
    "start_time": "2022-04-06T13:19:18.125Z"
   },
   {
    "duration": 18,
    "start_time": "2022-04-06T13:48:15.796Z"
   },
   {
    "duration": 456,
    "start_time": "2022-04-06T21:21:19.405Z"
   },
   {
    "duration": 97,
    "start_time": "2022-04-06T21:21:20.687Z"
   },
   {
    "duration": 23,
    "start_time": "2022-04-06T21:21:22.404Z"
   },
   {
    "duration": 6,
    "start_time": "2022-04-06T21:21:24.722Z"
   },
   {
    "duration": 5,
    "start_time": "2022-04-06T21:21:25.943Z"
   },
   {
    "duration": 5,
    "start_time": "2022-04-06T21:21:30.255Z"
   },
   {
    "duration": 4,
    "start_time": "2022-04-06T21:21:31.562Z"
   },
   {
    "duration": 5,
    "start_time": "2022-04-06T21:21:44.890Z"
   },
   {
    "duration": 8,
    "start_time": "2022-04-06T21:21:45.918Z"
   },
   {
    "duration": 4,
    "start_time": "2022-04-06T21:21:47.658Z"
   },
   {
    "duration": 8,
    "start_time": "2022-04-06T21:21:49.632Z"
   },
   {
    "duration": 29,
    "start_time": "2022-04-06T21:21:51.688Z"
   },
   {
    "duration": 3,
    "start_time": "2022-04-06T21:22:01.828Z"
   },
   {
    "duration": 17,
    "start_time": "2022-04-06T21:22:03.499Z"
   },
   {
    "duration": 24,
    "start_time": "2022-04-06T21:22:07.853Z"
   },
   {
    "duration": 9,
    "start_time": "2022-04-06T21:22:10.022Z"
   },
   {
    "duration": 24,
    "start_time": "2022-04-06T21:22:15.214Z"
   },
   {
    "duration": 25,
    "start_time": "2022-04-06T21:22:17.456Z"
   },
   {
    "duration": 12,
    "start_time": "2022-04-06T21:31:26.480Z"
   },
   {
    "duration": 14,
    "start_time": "2022-04-06T21:31:41.229Z"
   },
   {
    "duration": 17,
    "start_time": "2022-04-06T21:32:15.160Z"
   },
   {
    "duration": 68,
    "start_time": "2022-04-06T21:36:16.413Z"
   },
   {
    "duration": 9,
    "start_time": "2022-04-06T21:36:27.334Z"
   },
   {
    "duration": 18,
    "start_time": "2022-04-06T21:36:30.072Z"
   },
   {
    "duration": 13,
    "start_time": "2022-04-06T21:38:20.115Z"
   },
   {
    "duration": 3,
    "start_time": "2022-04-06T21:39:51.518Z"
   },
   {
    "duration": 81,
    "start_time": "2022-04-06T21:39:53.355Z"
   },
   {
    "duration": 16,
    "start_time": "2022-04-06T21:39:54.258Z"
   },
   {
    "duration": 24,
    "start_time": "2022-04-06T21:40:02.024Z"
   },
   {
    "duration": 5,
    "start_time": "2022-04-06T21:40:05.354Z"
   },
   {
    "duration": 5,
    "start_time": "2022-04-06T21:40:07.148Z"
   },
   {
    "duration": 5,
    "start_time": "2022-04-06T21:40:08.376Z"
   },
   {
    "duration": 3,
    "start_time": "2022-04-06T21:40:09.598Z"
   },
   {
    "duration": 6,
    "start_time": "2022-04-06T21:40:10.788Z"
   },
   {
    "duration": 7,
    "start_time": "2022-04-06T21:40:12.834Z"
   },
   {
    "duration": 4,
    "start_time": "2022-04-06T21:40:13.916Z"
   },
   {
    "duration": 9,
    "start_time": "2022-04-06T21:40:14.984Z"
   },
   {
    "duration": 22,
    "start_time": "2022-04-06T21:40:16.842Z"
   },
   {
    "duration": 3,
    "start_time": "2022-04-06T21:40:18.726Z"
   },
   {
    "duration": 17,
    "start_time": "2022-04-06T21:40:19.847Z"
   },
   {
    "duration": 10,
    "start_time": "2022-04-06T21:40:21.857Z"
   },
   {
    "duration": 23,
    "start_time": "2022-04-06T21:40:28.306Z"
   },
   {
    "duration": 23,
    "start_time": "2022-04-06T21:40:29.856Z"
   },
   {
    "duration": 12,
    "start_time": "2022-04-06T21:41:06.316Z"
   },
   {
    "duration": 14,
    "start_time": "2022-04-06T21:41:09.583Z"
   },
   {
    "duration": 2240,
    "start_time": "2022-04-06T21:46:38.311Z"
   },
   {
    "duration": 2168,
    "start_time": "2022-04-06T21:49:51.559Z"
   },
   {
    "duration": 26,
    "start_time": "2022-04-06T21:50:01.770Z"
   },
   {
    "duration": 19,
    "start_time": "2022-04-06T21:50:18.422Z"
   },
   {
    "duration": 2207,
    "start_time": "2022-04-06T22:06:50.784Z"
   },
   {
    "duration": 12,
    "start_time": "2022-04-06T22:07:09.910Z"
   },
   {
    "duration": 10,
    "start_time": "2022-04-06T22:07:55.283Z"
   },
   {
    "duration": 2172,
    "start_time": "2022-04-06T22:13:20.146Z"
   },
   {
    "duration": 1063,
    "start_time": "2022-04-06T22:13:40.323Z"
   },
   {
    "duration": 10,
    "start_time": "2022-04-06T22:15:03.990Z"
   },
   {
    "duration": 37,
    "start_time": "2022-04-06T22:19:19.980Z"
   },
   {
    "duration": 38,
    "start_time": "2022-04-06T22:20:54.667Z"
   },
   {
    "duration": 24,
    "start_time": "2022-04-06T22:21:45.922Z"
   },
   {
    "duration": 73,
    "start_time": "2022-04-06T22:22:57.134Z"
   },
   {
    "duration": 26,
    "start_time": "2022-04-06T22:23:46.038Z"
   },
   {
    "duration": 39,
    "start_time": "2022-04-06T22:24:52.921Z"
   },
   {
    "duration": 38,
    "start_time": "2022-04-06T22:25:29.619Z"
   },
   {
    "duration": 72,
    "start_time": "2022-04-06T22:26:58.402Z"
   },
   {
    "duration": 70,
    "start_time": "2022-04-06T22:27:46.785Z"
   },
   {
    "duration": 411,
    "start_time": "2022-04-07T07:25:07.625Z"
   },
   {
    "duration": 82,
    "start_time": "2022-04-07T07:25:08.791Z"
   },
   {
    "duration": 20,
    "start_time": "2022-04-07T07:25:10.201Z"
   },
   {
    "duration": 25,
    "start_time": "2022-04-07T07:25:14.167Z"
   },
   {
    "duration": 5,
    "start_time": "2022-04-07T07:25:16.063Z"
   },
   {
    "duration": 5,
    "start_time": "2022-04-07T07:25:17.225Z"
   },
   {
    "duration": 4,
    "start_time": "2022-04-07T07:25:18.661Z"
   },
   {
    "duration": 4,
    "start_time": "2022-04-07T07:25:20.321Z"
   },
   {
    "duration": 5,
    "start_time": "2022-04-07T07:25:23.081Z"
   },
   {
    "duration": 7,
    "start_time": "2022-04-07T07:25:23.862Z"
   },
   {
    "duration": 5,
    "start_time": "2022-04-07T07:25:24.983Z"
   },
   {
    "duration": 8,
    "start_time": "2022-04-07T07:25:26.630Z"
   },
   {
    "duration": 24,
    "start_time": "2022-04-07T07:25:28.135Z"
   },
   {
    "duration": 3,
    "start_time": "2022-04-07T07:25:29.596Z"
   },
   {
    "duration": 16,
    "start_time": "2022-04-07T07:25:30.835Z"
   },
   {
    "duration": 12,
    "start_time": "2022-04-07T07:25:32.595Z"
   },
   {
    "duration": 19,
    "start_time": "2022-04-07T07:25:33.420Z"
   },
   {
    "duration": 21,
    "start_time": "2022-04-07T07:25:34.954Z"
   },
   {
    "duration": 12,
    "start_time": "2022-04-07T07:25:36.183Z"
   },
   {
    "duration": 16,
    "start_time": "2022-04-07T07:25:39.183Z"
   },
   {
    "duration": 23,
    "start_time": "2022-04-07T07:25:41.099Z"
   },
   {
    "duration": 15,
    "start_time": "2022-04-07T07:25:42.137Z"
   },
   {
    "duration": 63,
    "start_time": "2022-04-07T07:25:46.782Z"
   },
   {
    "duration": 1350,
    "start_time": "2022-04-07T07:50:46.037Z"
   },
   {
    "duration": 23,
    "start_time": "2022-04-07T07:51:04.813Z"
   },
   {
    "duration": 29,
    "start_time": "2022-04-07T07:53:16.948Z"
   },
   {
    "duration": 79,
    "start_time": "2022-04-07T08:05:17.558Z"
   },
   {
    "duration": 42,
    "start_time": "2022-04-07T08:05:33.953Z"
   },
   {
    "duration": 46,
    "start_time": "2022-04-07T08:11:36.339Z"
   },
   {
    "duration": 20,
    "start_time": "2022-04-07T08:11:53.310Z"
   },
   {
    "duration": 666,
    "start_time": "2022-04-07T08:22:31.075Z"
   },
   {
    "duration": 295,
    "start_time": "2022-04-07T08:23:56.882Z"
   },
   {
    "duration": 318,
    "start_time": "2022-04-07T08:24:54.311Z"
   },
   {
    "duration": 225,
    "start_time": "2022-04-07T08:27:32.003Z"
   },
   {
    "duration": 150,
    "start_time": "2022-04-07T08:27:40.647Z"
   },
   {
    "duration": 159,
    "start_time": "2022-04-07T08:28:12.347Z"
   },
   {
    "duration": 181,
    "start_time": "2022-04-07T08:29:49.335Z"
   },
   {
    "duration": 172,
    "start_time": "2022-04-07T08:35:38.648Z"
   },
   {
    "duration": 128,
    "start_time": "2022-04-07T12:47:18.762Z"
   },
   {
    "duration": 147,
    "start_time": "2022-04-07T12:47:37.596Z"
   },
   {
    "duration": 119,
    "start_time": "2022-04-07T12:47:44.360Z"
   },
   {
    "duration": 117,
    "start_time": "2022-04-07T12:48:02.457Z"
   },
   {
    "duration": 195,
    "start_time": "2022-04-07T12:48:14.096Z"
   },
   {
    "duration": 117,
    "start_time": "2022-04-07T12:55:14.593Z"
   },
   {
    "duration": 7,
    "start_time": "2022-04-07T13:00:29.941Z"
   },
   {
    "duration": 409,
    "start_time": "2022-04-07T17:14:45.763Z"
   },
   {
    "duration": 87,
    "start_time": "2022-04-07T17:14:47.025Z"
   },
   {
    "duration": 19,
    "start_time": "2022-04-07T17:14:48.316Z"
   },
   {
    "duration": 5,
    "start_time": "2022-04-07T17:14:51.924Z"
   },
   {
    "duration": 4,
    "start_time": "2022-04-07T17:14:53.726Z"
   },
   {
    "duration": 5,
    "start_time": "2022-04-07T17:14:55.231Z"
   },
   {
    "duration": 3,
    "start_time": "2022-04-07T17:14:56.392Z"
   },
   {
    "duration": 4,
    "start_time": "2022-04-07T17:14:57.515Z"
   },
   {
    "duration": 7,
    "start_time": "2022-04-07T17:14:58.763Z"
   },
   {
    "duration": 4,
    "start_time": "2022-04-07T17:15:00.506Z"
   },
   {
    "duration": 7,
    "start_time": "2022-04-07T17:15:01.702Z"
   },
   {
    "duration": 23,
    "start_time": "2022-04-07T17:15:07.630Z"
   },
   {
    "duration": 3,
    "start_time": "2022-04-07T17:15:09.530Z"
   },
   {
    "duration": 14,
    "start_time": "2022-04-07T17:15:10.830Z"
   },
   {
    "duration": 2,
    "start_time": "2022-04-07T17:15:23.382Z"
   },
   {
    "duration": 16,
    "start_time": "2022-04-07T17:15:24.606Z"
   },
   {
    "duration": 117,
    "start_time": "2022-04-07T17:15:27.552Z"
   },
   {
    "duration": 20,
    "start_time": "2022-04-07T17:15:28.502Z"
   },
   {
    "duration": 20,
    "start_time": "2022-04-07T17:15:29.960Z"
   },
   {
    "duration": 10,
    "start_time": "2022-04-07T17:15:31.798Z"
   },
   {
    "duration": 13,
    "start_time": "2022-04-07T17:15:34.903Z"
   },
   {
    "duration": 22,
    "start_time": "2022-04-07T17:15:36.725Z"
   },
   {
    "duration": 14,
    "start_time": "2022-04-07T17:15:37.793Z"
   },
   {
    "duration": 76,
    "start_time": "2022-04-07T17:15:39.385Z"
   },
   {
    "duration": 22,
    "start_time": "2022-04-07T17:15:40.992Z"
   },
   {
    "duration": 46,
    "start_time": "2022-04-07T17:15:48.949Z"
   },
   {
    "duration": 19,
    "start_time": "2022-04-07T17:15:50.398Z"
   },
   {
    "duration": 697,
    "start_time": "2022-04-07T17:15:52.662Z"
   },
   {
    "duration": 157,
    "start_time": "2022-04-07T17:15:55.051Z"
   },
   {
    "duration": 145,
    "start_time": "2022-04-07T17:15:56.926Z"
   },
   {
    "duration": 112,
    "start_time": "2022-04-07T17:15:58.512Z"
   },
   {
    "duration": 117,
    "start_time": "2022-04-07T17:16:00.665Z"
   },
   {
    "duration": 6,
    "start_time": "2022-04-07T17:16:02.229Z"
   },
   {
    "duration": 66,
    "start_time": "2022-04-07T17:17:36.611Z"
   },
   {
    "duration": 356,
    "start_time": "2022-04-07T17:18:45.796Z"
   },
   {
    "duration": 133,
    "start_time": "2022-04-07T17:20:50.400Z"
   },
   {
    "duration": 95,
    "start_time": "2022-04-07T17:23:10.899Z"
   },
   {
    "duration": 91,
    "start_time": "2022-04-07T17:37:12.615Z"
   },
   {
    "duration": 115,
    "start_time": "2022-04-07T17:38:32.871Z"
   },
   {
    "duration": 92,
    "start_time": "2022-04-07T17:39:06.994Z"
   },
   {
    "duration": 146,
    "start_time": "2022-04-07T17:39:17.460Z"
   },
   {
    "duration": 2,
    "start_time": "2022-04-07T17:39:52.739Z"
   },
   {
    "duration": 75,
    "start_time": "2022-04-07T17:39:53.666Z"
   },
   {
    "duration": 14,
    "start_time": "2022-04-07T17:39:54.773Z"
   },
   {
    "duration": 18,
    "start_time": "2022-04-07T17:39:59.277Z"
   },
   {
    "duration": 5,
    "start_time": "2022-04-07T17:40:01.781Z"
   },
   {
    "duration": 5,
    "start_time": "2022-04-07T17:40:02.928Z"
   },
   {
    "duration": 5,
    "start_time": "2022-04-07T17:40:05.293Z"
   },
   {
    "duration": 4,
    "start_time": "2022-04-07T17:40:06.014Z"
   },
   {
    "duration": 4,
    "start_time": "2022-04-07T17:40:07.056Z"
   },
   {
    "duration": 8,
    "start_time": "2022-04-07T17:40:09.456Z"
   },
   {
    "duration": 4,
    "start_time": "2022-04-07T17:40:11.076Z"
   },
   {
    "duration": 7,
    "start_time": "2022-04-07T17:40:12.628Z"
   },
   {
    "duration": 19,
    "start_time": "2022-04-07T17:40:14.612Z"
   },
   {
    "duration": 2,
    "start_time": "2022-04-07T17:40:16.124Z"
   },
   {
    "duration": 14,
    "start_time": "2022-04-07T17:40:17.173Z"
   },
   {
    "duration": 9,
    "start_time": "2022-04-07T17:40:19.147Z"
   },
   {
    "duration": 19,
    "start_time": "2022-04-07T17:40:22.138Z"
   },
   {
    "duration": 19,
    "start_time": "2022-04-07T17:40:23.651Z"
   },
   {
    "duration": 9,
    "start_time": "2022-04-07T17:40:25.464Z"
   },
   {
    "duration": 13,
    "start_time": "2022-04-07T17:40:26.535Z"
   },
   {
    "duration": 21,
    "start_time": "2022-04-07T17:40:28.434Z"
   },
   {
    "duration": 15,
    "start_time": "2022-04-07T17:40:29.774Z"
   },
   {
    "duration": 59,
    "start_time": "2022-04-07T17:40:31.566Z"
   },
   {
    "duration": 22,
    "start_time": "2022-04-07T17:40:33.102Z"
   },
   {
    "duration": 46,
    "start_time": "2022-04-07T17:40:34.651Z"
   },
   {
    "duration": 20,
    "start_time": "2022-04-07T17:40:36.347Z"
   },
   {
    "duration": 153,
    "start_time": "2022-04-07T17:40:38.529Z"
   },
   {
    "duration": 155,
    "start_time": "2022-04-07T17:40:40.186Z"
   },
   {
    "duration": 103,
    "start_time": "2022-04-07T17:40:41.625Z"
   },
   {
    "duration": 108,
    "start_time": "2022-04-07T17:40:43.300Z"
   },
   {
    "duration": 106,
    "start_time": "2022-04-07T17:40:45.299Z"
   },
   {
    "duration": 7,
    "start_time": "2022-04-07T17:40:47.005Z"
   },
   {
    "duration": 88,
    "start_time": "2022-04-07T17:41:00.360Z"
   },
   {
    "duration": 91,
    "start_time": "2022-04-07T17:56:24.894Z"
   },
   {
    "duration": 92,
    "start_time": "2022-04-07T17:59:35.645Z"
   },
   {
    "duration": 106,
    "start_time": "2022-04-07T17:59:48.461Z"
   },
   {
    "duration": 182,
    "start_time": "2022-04-07T18:00:05.061Z"
   },
   {
    "duration": 4,
    "start_time": "2022-04-07T18:00:16.268Z"
   },
   {
    "duration": 178,
    "start_time": "2022-04-07T18:00:21.205Z"
   },
   {
    "duration": 1161,
    "start_time": "2022-04-07T18:01:07.038Z"
   },
   {
    "duration": 93,
    "start_time": "2022-04-07T18:01:15.728Z"
   },
   {
    "duration": 148,
    "start_time": "2022-04-07T18:20:49.859Z"
   },
   {
    "duration": 23,
    "start_time": "2022-04-07T18:21:21.586Z"
   },
   {
    "duration": 3,
    "start_time": "2022-04-07T18:23:21.361Z"
   },
   {
    "duration": 15,
    "start_time": "2022-04-07T18:24:15.872Z"
   },
   {
    "duration": 3,
    "start_time": "2022-04-07T18:24:16.849Z"
   },
   {
    "duration": 17,
    "start_time": "2022-04-07T18:32:36.167Z"
   },
   {
    "duration": 22,
    "start_time": "2022-04-07T18:32:50.985Z"
   },
   {
    "duration": 30,
    "start_time": "2022-04-07T18:32:58.658Z"
   },
   {
    "duration": 38,
    "start_time": "2022-04-07T18:33:08.573Z"
   },
   {
    "duration": 3,
    "start_time": "2022-04-07T18:33:22.020Z"
   },
   {
    "duration": 80,
    "start_time": "2022-04-07T18:33:23.056Z"
   },
   {
    "duration": 15,
    "start_time": "2022-04-07T18:33:24.487Z"
   },
   {
    "duration": 19,
    "start_time": "2022-04-07T18:33:26.704Z"
   },
   {
    "duration": 5,
    "start_time": "2022-04-07T18:33:30.322Z"
   },
   {
    "duration": 5,
    "start_time": "2022-04-07T18:33:31.750Z"
   },
   {
    "duration": 5,
    "start_time": "2022-04-07T18:33:32.790Z"
   },
   {
    "duration": 4,
    "start_time": "2022-04-07T18:33:33.750Z"
   },
   {
    "duration": 5,
    "start_time": "2022-04-07T18:33:34.911Z"
   },
   {
    "duration": 8,
    "start_time": "2022-04-07T18:33:36.832Z"
   },
   {
    "duration": 4,
    "start_time": "2022-04-07T18:33:37.719Z"
   },
   {
    "duration": 8,
    "start_time": "2022-04-07T18:33:38.758Z"
   },
   {
    "duration": 19,
    "start_time": "2022-04-07T18:33:41.077Z"
   },
   {
    "duration": 2,
    "start_time": "2022-04-07T18:33:43.611Z"
   },
   {
    "duration": 16,
    "start_time": "2022-04-07T18:33:45.442Z"
   },
   {
    "duration": 18,
    "start_time": "2022-04-07T18:33:46.856Z"
   },
   {
    "duration": 9,
    "start_time": "2022-04-07T18:33:48.774Z"
   },
   {
    "duration": 19,
    "start_time": "2022-04-07T18:33:49.568Z"
   },
   {
    "duration": 20,
    "start_time": "2022-04-07T18:33:51.024Z"
   },
   {
    "duration": 9,
    "start_time": "2022-04-07T18:33:52.340Z"
   },
   {
    "duration": 13,
    "start_time": "2022-04-07T18:33:54.533Z"
   },
   {
    "duration": 22,
    "start_time": "2022-04-07T18:33:56.076Z"
   },
   {
    "duration": 15,
    "start_time": "2022-04-07T18:33:56.973Z"
   },
   {
    "duration": 60,
    "start_time": "2022-04-07T18:33:58.353Z"
   },
   {
    "duration": 21,
    "start_time": "2022-04-07T18:33:59.633Z"
   },
   {
    "duration": 44,
    "start_time": "2022-04-07T18:34:00.912Z"
   },
   {
    "duration": 20,
    "start_time": "2022-04-07T18:34:01.777Z"
   },
   {
    "duration": 142,
    "start_time": "2022-04-07T18:34:03.416Z"
   },
   {
    "duration": 157,
    "start_time": "2022-04-07T18:34:04.778Z"
   },
   {
    "duration": 99,
    "start_time": "2022-04-07T18:34:08.162Z"
   },
   {
    "duration": 107,
    "start_time": "2022-04-07T18:34:09.349Z"
   },
   {
    "duration": 116,
    "start_time": "2022-04-07T18:34:10.836Z"
   },
   {
    "duration": 5,
    "start_time": "2022-04-07T18:34:12.309Z"
   },
   {
    "duration": 89,
    "start_time": "2022-04-07T18:34:13.569Z"
   },
   {
    "duration": 20,
    "start_time": "2022-04-07T18:34:15.543Z"
   },
   {
    "duration": 17,
    "start_time": "2022-04-07T18:34:20.323Z"
   },
   {
    "duration": 2,
    "start_time": "2022-04-07T18:35:19.307Z"
   },
   {
    "duration": 125,
    "start_time": "2022-04-07T18:35:20.147Z"
   },
   {
    "duration": 20,
    "start_time": "2022-04-07T18:35:21.039Z"
   },
   {
    "duration": 28,
    "start_time": "2022-04-07T18:35:22.842Z"
   },
   {
    "duration": 5,
    "start_time": "2022-04-07T18:35:31.547Z"
   },
   {
    "duration": 5,
    "start_time": "2022-04-07T18:35:32.968Z"
   },
   {
    "duration": 4,
    "start_time": "2022-04-07T18:35:34.237Z"
   },
   {
    "duration": 3,
    "start_time": "2022-04-07T18:35:35.249Z"
   },
   {
    "duration": 4,
    "start_time": "2022-04-07T18:35:36.383Z"
   },
   {
    "duration": 6,
    "start_time": "2022-04-07T18:35:38.468Z"
   },
   {
    "duration": 5,
    "start_time": "2022-04-07T18:35:39.498Z"
   },
   {
    "duration": 9,
    "start_time": "2022-04-07T18:35:40.622Z"
   },
   {
    "duration": 19,
    "start_time": "2022-04-07T18:35:42.588Z"
   },
   {
    "duration": 3,
    "start_time": "2022-04-07T18:35:45.894Z"
   },
   {
    "duration": 15,
    "start_time": "2022-04-07T18:35:46.116Z"
   },
   {
    "duration": 8,
    "start_time": "2022-04-07T18:35:48.022Z"
   },
   {
    "duration": 19,
    "start_time": "2022-04-07T18:35:48.983Z"
   },
   {
    "duration": 20,
    "start_time": "2022-04-07T18:35:50.692Z"
   },
   {
    "duration": 9,
    "start_time": "2022-04-07T18:35:52.052Z"
   },
   {
    "duration": 12,
    "start_time": "2022-04-07T18:35:55.479Z"
   },
   {
    "duration": 21,
    "start_time": "2022-04-07T18:35:57.232Z"
   },
   {
    "duration": 16,
    "start_time": "2022-04-07T18:35:58.301Z"
   },
   {
    "duration": 57,
    "start_time": "2022-04-07T18:35:59.790Z"
   },
   {
    "duration": 22,
    "start_time": "2022-04-07T18:36:01.134Z"
   },
   {
    "duration": 41,
    "start_time": "2022-04-07T18:36:02.449Z"
   },
   {
    "duration": 17,
    "start_time": "2022-04-07T18:36:03.399Z"
   },
   {
    "duration": 202,
    "start_time": "2022-04-07T18:36:05.284Z"
   },
   {
    "duration": 156,
    "start_time": "2022-04-07T18:36:06.749Z"
   },
   {
    "duration": 99,
    "start_time": "2022-04-07T18:36:07.999Z"
   },
   {
    "duration": 107,
    "start_time": "2022-04-07T18:36:09.331Z"
   },
   {
    "duration": 117,
    "start_time": "2022-04-07T18:36:11.283Z"
   },
   {
    "duration": 6,
    "start_time": "2022-04-07T18:36:12.727Z"
   },
   {
    "duration": 88,
    "start_time": "2022-04-07T18:36:14.798Z"
   },
   {
    "duration": 19,
    "start_time": "2022-04-07T18:36:17.178Z"
   },
   {
    "duration": 19,
    "start_time": "2022-04-07T18:36:18.287Z"
   },
   {
    "duration": 20,
    "start_time": "2022-04-07T18:36:34.542Z"
   },
   {
    "duration": 19,
    "start_time": "2022-04-07T18:36:35.839Z"
   },
   {
    "duration": 2,
    "start_time": "2022-04-07T18:37:24.249Z"
   },
   {
    "duration": 75,
    "start_time": "2022-04-07T18:37:25.025Z"
   },
   {
    "duration": 15,
    "start_time": "2022-04-07T18:37:25.957Z"
   },
   {
    "duration": 17,
    "start_time": "2022-04-07T18:37:27.993Z"
   },
   {
    "duration": 5,
    "start_time": "2022-04-07T18:37:30.129Z"
   },
   {
    "duration": 5,
    "start_time": "2022-04-07T18:37:32.003Z"
   },
   {
    "duration": 5,
    "start_time": "2022-04-07T18:37:33.031Z"
   },
   {
    "duration": 4,
    "start_time": "2022-04-07T18:37:33.935Z"
   },
   {
    "duration": 5,
    "start_time": "2022-04-07T18:37:34.944Z"
   },
   {
    "duration": 7,
    "start_time": "2022-04-07T18:37:36.502Z"
   },
   {
    "duration": 4,
    "start_time": "2022-04-07T18:37:37.472Z"
   },
   {
    "duration": 8,
    "start_time": "2022-04-07T18:37:38.496Z"
   },
   {
    "duration": 18,
    "start_time": "2022-04-07T18:37:40.102Z"
   },
   {
    "duration": 2,
    "start_time": "2022-04-07T18:37:41.284Z"
   },
   {
    "duration": 13,
    "start_time": "2022-04-07T18:37:43.235Z"
   },
   {
    "duration": 10,
    "start_time": "2022-04-07T18:37:45.345Z"
   },
   {
    "duration": 19,
    "start_time": "2022-04-07T18:37:46.084Z"
   },
   {
    "duration": 18,
    "start_time": "2022-04-07T18:37:47.345Z"
   },
   {
    "duration": 9,
    "start_time": "2022-04-07T18:37:48.564Z"
   },
   {
    "duration": 13,
    "start_time": "2022-04-07T18:37:51.071Z"
   },
   {
    "duration": 23,
    "start_time": "2022-04-07T18:37:52.633Z"
   },
   {
    "duration": 14,
    "start_time": "2022-04-07T18:37:53.373Z"
   },
   {
    "duration": 56,
    "start_time": "2022-04-07T18:37:54.785Z"
   },
   {
    "duration": 21,
    "start_time": "2022-04-07T18:37:55.909Z"
   },
   {
    "duration": 44,
    "start_time": "2022-04-07T18:37:57.188Z"
   },
   {
    "duration": 18,
    "start_time": "2022-04-07T18:37:57.919Z"
   },
   {
    "duration": 148,
    "start_time": "2022-04-07T18:37:59.400Z"
   },
   {
    "duration": 154,
    "start_time": "2022-04-07T18:38:00.807Z"
   },
   {
    "duration": 102,
    "start_time": "2022-04-07T18:38:02.046Z"
   },
   {
    "duration": 111,
    "start_time": "2022-04-07T18:38:03.498Z"
   },
   {
    "duration": 177,
    "start_time": "2022-04-07T18:38:05.486Z"
   },
   {
    "duration": 6,
    "start_time": "2022-04-07T18:38:07.140Z"
   },
   {
    "duration": 90,
    "start_time": "2022-04-07T18:38:09.522Z"
   },
   {
    "duration": 34,
    "start_time": "2022-04-07T18:38:11.027Z"
   },
   {
    "duration": 18,
    "start_time": "2022-04-07T18:38:12.230Z"
   },
   {
    "duration": 2,
    "start_time": "2022-04-07T18:42:59.704Z"
   },
   {
    "duration": 75,
    "start_time": "2022-04-07T18:43:00.531Z"
   },
   {
    "duration": 14,
    "start_time": "2022-04-07T18:43:01.389Z"
   },
   {
    "duration": 19,
    "start_time": "2022-04-07T18:43:04.127Z"
   },
   {
    "duration": 5,
    "start_time": "2022-04-07T18:43:06.873Z"
   },
   {
    "duration": 4,
    "start_time": "2022-04-07T18:43:46.592Z"
   },
   {
    "duration": 4,
    "start_time": "2022-04-07T18:43:49.760Z"
   },
   {
    "duration": 4,
    "start_time": "2022-04-07T18:43:51.357Z"
   },
   {
    "duration": 5,
    "start_time": "2022-04-07T18:43:52.801Z"
   },
   {
    "duration": 7,
    "start_time": "2022-04-07T18:44:02.746Z"
   },
   {
    "duration": 5,
    "start_time": "2022-04-07T18:44:07.836Z"
   },
   {
    "duration": 7,
    "start_time": "2022-04-07T18:44:08.865Z"
   },
   {
    "duration": 19,
    "start_time": "2022-04-07T18:44:11.767Z"
   },
   {
    "duration": 2,
    "start_time": "2022-04-07T18:46:51.624Z"
   },
   {
    "duration": 14,
    "start_time": "2022-04-07T18:46:52.718Z"
   },
   {
    "duration": 9,
    "start_time": "2022-04-07T18:46:57.006Z"
   },
   {
    "duration": 18,
    "start_time": "2022-04-07T18:46:58.009Z"
   },
   {
    "duration": 21,
    "start_time": "2022-04-07T18:47:01.912Z"
   },
   {
    "duration": 9,
    "start_time": "2022-04-07T18:47:03.218Z"
   },
   {
    "duration": 12,
    "start_time": "2022-04-07T18:47:04.966Z"
   },
   {
    "duration": 2,
    "start_time": "2022-04-07T18:55:49.794Z"
   },
   {
    "duration": 75,
    "start_time": "2022-04-07T18:55:51.504Z"
   },
   {
    "duration": 14,
    "start_time": "2022-04-07T18:55:52.935Z"
   },
   {
    "duration": 19,
    "start_time": "2022-04-07T18:55:55.718Z"
   },
   {
    "duration": 4,
    "start_time": "2022-04-07T18:55:57.857Z"
   },
   {
    "duration": 5,
    "start_time": "2022-04-07T18:55:59.004Z"
   },
   {
    "duration": 4,
    "start_time": "2022-04-07T18:56:00.802Z"
   },
   {
    "duration": 3,
    "start_time": "2022-04-07T18:58:31.719Z"
   },
   {
    "duration": 4,
    "start_time": "2022-04-07T18:58:34.231Z"
   },
   {
    "duration": 10,
    "start_time": "2022-04-07T18:58:36.263Z"
   },
   {
    "duration": 5,
    "start_time": "2022-04-07T18:58:37.462Z"
   },
   {
    "duration": 9,
    "start_time": "2022-04-07T18:58:39.079Z"
   },
   {
    "duration": 26,
    "start_time": "2022-04-07T18:58:41.531Z"
   },
   {
    "duration": 2,
    "start_time": "2022-04-07T18:58:44.692Z"
   },
   {
    "duration": 18,
    "start_time": "2022-04-07T18:58:45.721Z"
   },
   {
    "duration": 396,
    "start_time": "2022-04-07T19:09:43.168Z"
   },
   {
    "duration": 76,
    "start_time": "2022-04-07T19:09:43.566Z"
   },
   {
    "duration": 19,
    "start_time": "2022-04-07T19:09:43.643Z"
   },
   {
    "duration": 30,
    "start_time": "2022-04-07T19:09:43.665Z"
   },
   {
    "duration": 399,
    "start_time": "2022-04-07T19:09:43.697Z"
   },
   {
    "duration": 127,
    "start_time": "2022-04-07T19:09:44.098Z"
   },
   {
    "duration": 113,
    "start_time": "2022-04-07T19:09:44.227Z"
   },
   {
    "duration": 123,
    "start_time": "2022-04-07T19:09:44.342Z"
   },
   {
    "duration": 14,
    "start_time": "2022-04-07T19:09:44.467Z"
   },
   {
    "duration": 156,
    "start_time": "2022-04-07T19:09:44.483Z"
   },
   {
    "duration": 90,
    "start_time": "2022-04-07T19:09:44.641Z"
   },
   {
    "duration": 23,
    "start_time": "2022-04-07T19:09:44.733Z"
   },
   {
    "duration": 148,
    "start_time": "2022-04-07T19:09:44.757Z"
   },
   {
    "duration": 105,
    "start_time": "2022-04-07T19:09:44.907Z"
   },
   {
    "duration": 115,
    "start_time": "2022-04-07T19:09:45.014Z"
   },
   {
    "duration": 120,
    "start_time": "2022-04-07T19:09:45.131Z"
   },
   {
    "duration": 9,
    "start_time": "2022-04-07T19:14:47.598Z"
   },
   {
    "duration": 3,
    "start_time": "2022-04-07T19:15:02.605Z"
   },
   {
    "duration": 77,
    "start_time": "2022-04-07T19:15:03.616Z"
   },
   {
    "duration": 15,
    "start_time": "2022-04-07T19:15:04.746Z"
   },
   {
    "duration": 9,
    "start_time": "2022-04-07T19:15:10.039Z"
   },
   {
    "duration": 10,
    "start_time": "2022-04-07T19:22:57.504Z"
   },
   {
    "duration": 7,
    "start_time": "2022-04-07T19:26:15.987Z"
   },
   {
    "duration": 8,
    "start_time": "2022-04-07T19:26:38.410Z"
   },
   {
    "duration": 12,
    "start_time": "2022-04-07T19:28:49.901Z"
   },
   {
    "duration": 6,
    "start_time": "2022-04-07T19:32:10.419Z"
   },
   {
    "duration": 8,
    "start_time": "2022-04-07T19:32:40.651Z"
   },
   {
    "duration": 25,
    "start_time": "2022-04-07T19:33:47.169Z"
   },
   {
    "duration": 23,
    "start_time": "2022-04-07T19:34:08.836Z"
   },
   {
    "duration": 13,
    "start_time": "2022-04-07T19:34:59.146Z"
   },
   {
    "duration": 16,
    "start_time": "2022-04-07T19:42:03.816Z"
   },
   {
    "duration": 8,
    "start_time": "2022-04-07T19:43:22.835Z"
   },
   {
    "duration": 3268,
    "start_time": "2022-04-07T19:48:53.098Z"
   },
   {
    "duration": 4,
    "start_time": "2022-04-07T19:50:48.606Z"
   },
   {
    "duration": 11,
    "start_time": "2022-04-07T19:52:13.330Z"
   },
   {
    "duration": 86,
    "start_time": "2022-04-07T20:00:18.980Z"
   },
   {
    "duration": 17,
    "start_time": "2022-04-07T20:01:46.653Z"
   },
   {
    "duration": 18,
    "start_time": "2022-04-07T20:04:42.932Z"
   },
   {
    "duration": 16,
    "start_time": "2022-04-07T20:05:39.794Z"
   },
   {
    "duration": 15,
    "start_time": "2022-04-07T20:07:57.173Z"
   },
   {
    "duration": 16,
    "start_time": "2022-04-07T20:14:21.872Z"
   },
   {
    "duration": 631,
    "start_time": "2022-04-07T20:15:23.523Z"
   },
   {
    "duration": 16,
    "start_time": "2022-04-07T20:15:51.363Z"
   },
   {
    "duration": 16,
    "start_time": "2022-04-07T20:18:03.627Z"
   },
   {
    "duration": 15,
    "start_time": "2022-04-07T20:18:18.399Z"
   },
   {
    "duration": 17,
    "start_time": "2022-04-07T20:19:11.943Z"
   },
   {
    "duration": 17,
    "start_time": "2022-04-07T20:20:16.250Z"
   },
   {
    "duration": 17,
    "start_time": "2022-04-07T20:21:01.976Z"
   },
   {
    "duration": 18,
    "start_time": "2022-04-07T20:31:09.276Z"
   },
   {
    "duration": 9,
    "start_time": "2022-04-07T20:47:09.987Z"
   },
   {
    "duration": 17,
    "start_time": "2022-04-07T20:51:03.835Z"
   },
   {
    "duration": 16,
    "start_time": "2022-04-07T20:51:28.402Z"
   },
   {
    "duration": 15,
    "start_time": "2022-04-07T20:52:01.397Z"
   },
   {
    "duration": 2,
    "start_time": "2022-04-07T20:52:53.598Z"
   },
   {
    "duration": 81,
    "start_time": "2022-04-07T20:52:54.408Z"
   },
   {
    "duration": 14,
    "start_time": "2022-04-07T20:52:55.593Z"
   },
   {
    "duration": 26,
    "start_time": "2022-04-07T20:52:57.208Z"
   },
   {
    "duration": 9,
    "start_time": "2022-04-07T20:53:01.518Z"
   },
   {
    "duration": 9,
    "start_time": "2022-04-07T20:53:02.506Z"
   },
   {
    "duration": 12,
    "start_time": "2022-04-07T20:53:03.911Z"
   },
   {
    "duration": 7,
    "start_time": "2022-04-07T20:53:04.982Z"
   },
   {
    "duration": 8,
    "start_time": "2022-04-07T20:53:06.667Z"
   },
   {
    "duration": 14,
    "start_time": "2022-04-07T20:53:07.938Z"
   },
   {
    "duration": 16,
    "start_time": "2022-04-07T20:53:09.225Z"
   },
   {
    "duration": 9,
    "start_time": "2022-04-07T20:53:10.026Z"
   },
   {
    "duration": 5,
    "start_time": "2022-04-07T20:53:11.461Z"
   },
   {
    "duration": 11,
    "start_time": "2022-04-07T20:53:13.081Z"
   },
   {
    "duration": 84,
    "start_time": "2022-04-07T20:53:13.819Z"
   },
   {
    "duration": 17,
    "start_time": "2022-04-07T20:53:18.709Z"
   },
   {
    "duration": 18,
    "start_time": "2022-04-07T20:54:30.211Z"
   },
   {
    "duration": 16,
    "start_time": "2022-04-07T20:54:39.834Z"
   },
   {
    "duration": 377,
    "start_time": "2022-04-08T09:25:16.800Z"
   },
   {
    "duration": 82,
    "start_time": "2022-04-08T09:25:19.874Z"
   },
   {
    "duration": 20,
    "start_time": "2022-04-08T09:25:21.670Z"
   },
   {
    "duration": 23,
    "start_time": "2022-04-08T09:25:29.698Z"
   },
   {
    "duration": 27,
    "start_time": "2022-04-08T09:25:31.316Z"
   },
   {
    "duration": 9,
    "start_time": "2022-04-08T09:25:34.137Z"
   },
   {
    "duration": 8,
    "start_time": "2022-04-08T09:25:35.479Z"
   },
   {
    "duration": 16,
    "start_time": "2022-04-08T09:25:37.172Z"
   },
   {
    "duration": 6,
    "start_time": "2022-04-08T09:25:38.029Z"
   },
   {
    "duration": 8,
    "start_time": "2022-04-08T09:25:39.682Z"
   },
   {
    "duration": 14,
    "start_time": "2022-04-08T09:25:41.103Z"
   },
   {
    "duration": 17,
    "start_time": "2022-04-08T09:25:42.791Z"
   },
   {
    "duration": 7,
    "start_time": "2022-04-08T09:25:44.307Z"
   },
   {
    "duration": 5,
    "start_time": "2022-04-08T09:25:46.823Z"
   },
   {
    "duration": 11,
    "start_time": "2022-04-08T09:25:47.996Z"
   },
   {
    "duration": 112,
    "start_time": "2022-04-08T09:25:49.072Z"
   },
   {
    "duration": 69,
    "start_time": "2022-04-08T09:25:52.938Z"
   },
   {
    "duration": 663,
    "start_time": "2022-04-08T09:28:14.879Z"
   },
   {
    "duration": 696,
    "start_time": "2022-04-08T09:28:32.747Z"
   },
   {
    "duration": 706,
    "start_time": "2022-04-08T09:29:01.541Z"
   },
   {
    "duration": 4532,
    "start_time": "2022-04-08T09:40:09.859Z"
   },
   {
    "duration": 18,
    "start_time": "2022-04-08T09:47:27.547Z"
   },
   {
    "duration": 17,
    "start_time": "2022-04-08T09:47:53.794Z"
   },
   {
    "duration": 18,
    "start_time": "2022-04-08T09:53:07.464Z"
   },
   {
    "duration": 2,
    "start_time": "2022-04-08T10:40:44.421Z"
   },
   {
    "duration": 93,
    "start_time": "2022-04-08T10:40:45.183Z"
   },
   {
    "duration": 18,
    "start_time": "2022-04-08T10:40:46.146Z"
   },
   {
    "duration": 35,
    "start_time": "2022-04-08T10:40:49.416Z"
   },
   {
    "duration": 41,
    "start_time": "2022-04-08T10:40:50.857Z"
   },
   {
    "duration": 13,
    "start_time": "2022-04-08T10:40:52.613Z"
   },
   {
    "duration": 12,
    "start_time": "2022-04-08T10:40:53.577Z"
   },
   {
    "duration": 17,
    "start_time": "2022-04-08T10:40:54.910Z"
   },
   {
    "duration": 8,
    "start_time": "2022-04-08T10:40:55.572Z"
   },
   {
    "duration": 12,
    "start_time": "2022-04-08T10:40:56.604Z"
   },
   {
    "duration": 13,
    "start_time": "2022-04-08T10:40:57.751Z"
   },
   {
    "duration": 18,
    "start_time": "2022-04-08T10:40:59.175Z"
   },
   {
    "duration": 9,
    "start_time": "2022-04-08T10:41:00.016Z"
   },
   {
    "duration": 5,
    "start_time": "2022-04-08T10:41:01.673Z"
   },
   {
    "duration": 11,
    "start_time": "2022-04-08T10:41:02.695Z"
   },
   {
    "duration": 84,
    "start_time": "2022-04-08T10:41:03.790Z"
   },
   {
    "duration": 3,
    "start_time": "2022-04-08T10:41:19.436Z"
   },
   {
    "duration": 82,
    "start_time": "2022-04-08T10:41:20.305Z"
   },
   {
    "duration": 15,
    "start_time": "2022-04-08T10:41:22.061Z"
   },
   {
    "duration": 23,
    "start_time": "2022-04-08T10:41:26.492Z"
   },
   {
    "duration": 29,
    "start_time": "2022-04-08T10:41:28.298Z"
   },
   {
    "duration": 10,
    "start_time": "2022-04-08T10:41:30.326Z"
   },
   {
    "duration": 9,
    "start_time": "2022-04-08T10:41:31.153Z"
   },
   {
    "duration": 15,
    "start_time": "2022-04-08T10:41:32.553Z"
   },
   {
    "duration": 6,
    "start_time": "2022-04-08T10:41:33.332Z"
   },
   {
    "duration": 11,
    "start_time": "2022-04-08T10:41:34.639Z"
   },
   {
    "duration": 21,
    "start_time": "2022-04-08T10:41:36.183Z"
   },
   {
    "duration": 24,
    "start_time": "2022-04-08T10:41:37.724Z"
   },
   {
    "duration": 8,
    "start_time": "2022-04-08T10:41:38.483Z"
   },
   {
    "duration": 5,
    "start_time": "2022-04-08T10:41:40.114Z"
   },
   {
    "duration": 15,
    "start_time": "2022-04-08T10:41:41.024Z"
   },
   {
    "duration": 9,
    "start_time": "2022-04-08T10:42:24.067Z"
   },
   {
    "duration": 715,
    "start_time": "2022-04-08T10:43:35.145Z"
   },
   {
    "duration": 655,
    "start_time": "2022-04-08T10:43:54.965Z"
   },
   {
    "duration": 302,
    "start_time": "2022-04-08T10:44:31.951Z"
   },
   {
    "duration": 6,
    "start_time": "2022-04-08T10:46:48.429Z"
   },
   {
    "duration": 4,
    "start_time": "2022-04-08T10:47:09.793Z"
   },
   {
    "duration": 6,
    "start_time": "2022-04-08T10:49:13.249Z"
   },
   {
    "duration": 516,
    "start_time": "2022-04-08T10:58:53.215Z"
   },
   {
    "duration": 236,
    "start_time": "2022-04-08T10:59:02.627Z"
   },
   {
    "duration": 258,
    "start_time": "2022-04-08T11:00:36.135Z"
   },
   {
    "duration": 212,
    "start_time": "2022-04-08T11:01:06.178Z"
   },
   {
    "duration": 186,
    "start_time": "2022-04-08T11:02:10.531Z"
   },
   {
    "duration": 213,
    "start_time": "2022-04-08T11:02:34.479Z"
   },
   {
    "duration": 203,
    "start_time": "2022-04-08T11:04:15.017Z"
   },
   {
    "duration": 215,
    "start_time": "2022-04-08T11:04:30.429Z"
   },
   {
    "duration": 358,
    "start_time": "2022-04-08T11:07:40.836Z"
   },
   {
    "duration": 184,
    "start_time": "2022-04-08T11:21:03.625Z"
   },
   {
    "duration": 216,
    "start_time": "2022-04-08T11:21:34.995Z"
   },
   {
    "duration": 235,
    "start_time": "2022-04-08T11:33:29.221Z"
   },
   {
    "duration": 239,
    "start_time": "2022-04-08T11:34:18.468Z"
   },
   {
    "duration": 6,
    "start_time": "2022-04-08T11:36:30.266Z"
   },
   {
    "duration": 202,
    "start_time": "2022-04-08T11:39:50.220Z"
   },
   {
    "duration": 206,
    "start_time": "2022-04-08T11:40:05.042Z"
   },
   {
    "duration": 120,
    "start_time": "2022-04-08T11:41:06.998Z"
   },
   {
    "duration": 116,
    "start_time": "2022-04-08T11:41:56.042Z"
   },
   {
    "duration": 136,
    "start_time": "2022-04-08T11:43:21.183Z"
   },
   {
    "duration": 140,
    "start_time": "2022-04-08T11:44:05.545Z"
   },
   {
    "duration": 226,
    "start_time": "2022-04-08T11:44:18.037Z"
   },
   {
    "duration": 167,
    "start_time": "2022-04-08T11:44:48.897Z"
   },
   {
    "duration": 222,
    "start_time": "2022-04-08T11:47:24.268Z"
   },
   {
    "duration": 141,
    "start_time": "2022-04-08T11:48:03.394Z"
   },
   {
    "duration": 150,
    "start_time": "2022-04-08T11:48:18.192Z"
   },
   {
    "duration": 134,
    "start_time": "2022-04-08T12:03:52.033Z"
   },
   {
    "duration": 4,
    "start_time": "2022-04-08T12:17:30.242Z"
   },
   {
    "duration": 18,
    "start_time": "2022-04-08T12:18:04.678Z"
   },
   {
    "duration": 13,
    "start_time": "2022-04-08T12:18:25.064Z"
   },
   {
    "duration": 3,
    "start_time": "2022-04-08T12:21:06.542Z"
   },
   {
    "duration": 29,
    "start_time": "2022-04-08T12:21:27.109Z"
   },
   {
    "duration": 77,
    "start_time": "2022-04-08T12:22:32.769Z"
   },
   {
    "duration": 4,
    "start_time": "2022-04-08T12:23:08.357Z"
   },
   {
    "duration": 114,
    "start_time": "2022-04-08T12:23:42.795Z"
   },
   {
    "duration": 32,
    "start_time": "2022-04-08T12:30:17.388Z"
   },
   {
    "duration": 25,
    "start_time": "2022-04-08T12:30:19.065Z"
   },
   {
    "duration": 15,
    "start_time": "2022-04-08T12:30:30.118Z"
   },
   {
    "duration": 74,
    "start_time": "2022-04-08T12:30:36.155Z"
   },
   {
    "duration": 511,
    "start_time": "2022-04-09T08:11:47.163Z"
   },
   {
    "duration": 98,
    "start_time": "2022-04-09T08:11:48.484Z"
   },
   {
    "duration": 4,
    "start_time": "2022-04-09T08:11:49.249Z"
   },
   {
    "duration": 31,
    "start_time": "2022-04-09T08:11:50.127Z"
   },
   {
    "duration": 33,
    "start_time": "2022-04-09T08:11:54.443Z"
   },
   {
    "duration": 40,
    "start_time": "2022-04-09T08:11:55.958Z"
   },
   {
    "duration": 13,
    "start_time": "2022-04-09T08:11:59.343Z"
   },
   {
    "duration": 12,
    "start_time": "2022-04-09T08:12:00.388Z"
   },
   {
    "duration": 23,
    "start_time": "2022-04-09T08:12:02.046Z"
   },
   {
    "duration": 8,
    "start_time": "2022-04-09T08:12:02.746Z"
   },
   {
    "duration": 12,
    "start_time": "2022-04-09T08:12:03.887Z"
   },
   {
    "duration": 21,
    "start_time": "2022-04-09T08:12:05.074Z"
   },
   {
    "duration": 24,
    "start_time": "2022-04-09T08:12:06.777Z"
   },
   {
    "duration": 10,
    "start_time": "2022-04-09T08:12:07.529Z"
   },
   {
    "duration": 6,
    "start_time": "2022-04-09T08:12:09.226Z"
   },
   {
    "duration": 16,
    "start_time": "2022-04-09T08:12:11.060Z"
   },
   {
    "duration": 10,
    "start_time": "2022-04-09T08:12:12.057Z"
   },
   {
    "duration": 547,
    "start_time": "2022-04-09T08:12:13.161Z"
   },
   {
    "duration": 6,
    "start_time": "2022-04-09T08:12:17.541Z"
   },
   {
    "duration": 6,
    "start_time": "2022-04-09T08:12:18.961Z"
   },
   {
    "duration": 809,
    "start_time": "2022-04-09T08:12:24.379Z"
   },
   {
    "duration": 310,
    "start_time": "2022-04-09T08:12:25.765Z"
   },
   {
    "duration": 217,
    "start_time": "2022-04-09T08:12:31.301Z"
   },
   {
    "duration": 211,
    "start_time": "2022-04-09T08:12:35.381Z"
   },
   {
    "duration": 233,
    "start_time": "2022-04-09T08:12:39.413Z"
   },
   {
    "duration": 273,
    "start_time": "2022-04-09T08:12:42.665Z"
   },
   {
    "duration": 254,
    "start_time": "2022-04-09T08:12:44.467Z"
   },
   {
    "duration": 385,
    "start_time": "2022-04-09T08:12:47.988Z"
   },
   {
    "duration": 49,
    "start_time": "2022-04-09T08:12:52.945Z"
   },
   {
    "duration": 35,
    "start_time": "2022-04-09T08:13:04.173Z"
   },
   {
    "duration": 25,
    "start_time": "2022-04-09T08:13:12.024Z"
   },
   {
    "duration": 117,
    "start_time": "2022-04-09T08:13:20.563Z"
   },
   {
    "duration": 112,
    "start_time": "2022-04-09T08:50:42.232Z"
   },
   {
    "duration": 109,
    "start_time": "2022-04-09T08:50:48.755Z"
   },
   {
    "duration": 145,
    "start_time": "2022-04-09T08:51:22.977Z"
   },
   {
    "duration": 261,
    "start_time": "2022-04-09T08:51:30.206Z"
   },
   {
    "duration": 140,
    "start_time": "2022-04-09T09:01:22.316Z"
   },
   {
    "duration": 258,
    "start_time": "2022-04-09T09:01:57.766Z"
   },
   {
    "duration": 258,
    "start_time": "2022-04-09T09:02:11.418Z"
   },
   {
    "duration": 329,
    "start_time": "2022-04-09T09:02:24.728Z"
   },
   {
    "duration": 270,
    "start_time": "2022-04-09T09:02:34.270Z"
   },
   {
    "duration": 127,
    "start_time": "2022-04-09T09:03:01.833Z"
   },
   {
    "duration": 189,
    "start_time": "2022-04-09T09:03:41.550Z"
   },
   {
    "duration": 146,
    "start_time": "2022-04-09T09:03:54.109Z"
   },
   {
    "duration": 5,
    "start_time": "2022-04-09T09:04:54.929Z"
   },
   {
    "duration": 206,
    "start_time": "2022-04-09T09:05:23.774Z"
   },
   {
    "duration": 113,
    "start_time": "2022-04-09T09:05:47.916Z"
   },
   {
    "duration": 265,
    "start_time": "2022-04-09T09:07:02.649Z"
   },
   {
    "duration": 174,
    "start_time": "2022-04-09T09:07:23.520Z"
   },
   {
    "duration": 278,
    "start_time": "2022-04-09T09:08:44.628Z"
   },
   {
    "duration": 271,
    "start_time": "2022-04-09T09:08:53.138Z"
   },
   {
    "duration": 278,
    "start_time": "2022-04-09T09:09:05.032Z"
   },
   {
    "duration": 130,
    "start_time": "2022-04-09T09:09:43.133Z"
   },
   {
    "duration": 264,
    "start_time": "2022-04-09T09:10:16.712Z"
   },
   {
    "duration": 459,
    "start_time": "2022-04-09T09:11:13.689Z"
   },
   {
    "duration": 281,
    "start_time": "2022-04-09T09:11:42.961Z"
   },
   {
    "duration": 266,
    "start_time": "2022-04-09T09:11:55.015Z"
   },
   {
    "duration": 288,
    "start_time": "2022-04-09T09:21:32.375Z"
   },
   {
    "duration": 357,
    "start_time": "2022-04-09T09:27:31.119Z"
   },
   {
    "duration": 272,
    "start_time": "2022-04-09T09:27:47.545Z"
   },
   {
    "duration": 22,
    "start_time": "2022-04-09T09:28:59.480Z"
   },
   {
    "duration": 21,
    "start_time": "2022-04-09T09:31:30.976Z"
   },
   {
    "duration": 22,
    "start_time": "2022-04-09T09:31:40.677Z"
   },
   {
    "duration": 19,
    "start_time": "2022-04-09T09:31:52.699Z"
   },
   {
    "duration": 14,
    "start_time": "2022-04-09T09:33:00.441Z"
   },
   {
    "duration": 7,
    "start_time": "2022-04-09T09:33:13.208Z"
   },
   {
    "duration": 309,
    "start_time": "2022-04-09T09:33:20.671Z"
   },
   {
    "duration": 22,
    "start_time": "2022-04-09T09:38:10.924Z"
   },
   {
    "duration": 238,
    "start_time": "2022-04-09T09:38:51.496Z"
   },
   {
    "duration": 250,
    "start_time": "2022-04-09T09:39:01.377Z"
   },
   {
    "duration": 12,
    "start_time": "2022-04-09T09:39:49.059Z"
   },
   {
    "duration": 11,
    "start_time": "2022-04-09T09:39:54.775Z"
   },
   {
    "duration": 264,
    "start_time": "2022-04-09T09:40:10.526Z"
   },
   {
    "duration": 301,
    "start_time": "2022-04-09T09:45:47.563Z"
   },
   {
    "duration": 308,
    "start_time": "2022-04-09T09:46:00.337Z"
   },
   {
    "duration": 282,
    "start_time": "2022-04-09T09:50:42.733Z"
   },
   {
    "duration": 281,
    "start_time": "2022-04-09T09:50:55.792Z"
   },
   {
    "duration": 277,
    "start_time": "2022-04-09T09:52:56.381Z"
   },
   {
    "duration": 365,
    "start_time": "2022-04-09T09:54:04.041Z"
   },
   {
    "duration": 11,
    "start_time": "2022-04-09T10:39:45.762Z"
   },
   {
    "duration": 11,
    "start_time": "2022-04-09T10:39:58.367Z"
   },
   {
    "duration": 32,
    "start_time": "2022-04-09T10:43:37.638Z"
   },
   {
    "duration": 29,
    "start_time": "2022-04-09T10:46:01.925Z"
   },
   {
    "duration": 20,
    "start_time": "2022-04-09T10:46:13.975Z"
   },
   {
    "duration": 4,
    "start_time": "2022-04-09T10:46:23.803Z"
   },
   {
    "duration": 107,
    "start_time": "2022-04-09T10:46:24.601Z"
   },
   {
    "duration": 4,
    "start_time": "2022-04-09T10:46:25.234Z"
   },
   {
    "duration": 23,
    "start_time": "2022-04-09T10:46:26.387Z"
   },
   {
    "duration": 32,
    "start_time": "2022-04-09T10:46:27.782Z"
   },
   {
    "duration": 41,
    "start_time": "2022-04-09T10:46:29.822Z"
   },
   {
    "duration": 7,
    "start_time": "2022-04-09T10:46:32.314Z"
   },
   {
    "duration": 15,
    "start_time": "2022-04-09T10:46:33.167Z"
   },
   {
    "duration": 13,
    "start_time": "2022-04-09T10:46:34.398Z"
   },
   {
    "duration": 20,
    "start_time": "2022-04-09T10:46:38.210Z"
   },
   {
    "duration": 9,
    "start_time": "2022-04-09T10:46:39.059Z"
   },
   {
    "duration": 13,
    "start_time": "2022-04-09T10:46:40.617Z"
   },
   {
    "duration": 21,
    "start_time": "2022-04-09T10:46:41.689Z"
   },
   {
    "duration": 26,
    "start_time": "2022-04-09T10:46:43.181Z"
   },
   {
    "duration": 11,
    "start_time": "2022-04-09T10:46:44.002Z"
   },
   {
    "duration": 8,
    "start_time": "2022-04-09T10:46:46.174Z"
   },
   {
    "duration": 22,
    "start_time": "2022-04-09T10:46:47.581Z"
   },
   {
    "duration": 14,
    "start_time": "2022-04-09T10:46:48.715Z"
   },
   {
    "duration": 564,
    "start_time": "2022-04-09T10:46:50.119Z"
   },
   {
    "duration": 7,
    "start_time": "2022-04-09T10:46:51.417Z"
   },
   {
    "duration": 6,
    "start_time": "2022-04-09T10:46:53.295Z"
   },
   {
    "duration": 254,
    "start_time": "2022-04-09T10:46:54.879Z"
   },
   {
    "duration": 258,
    "start_time": "2022-04-09T10:46:57.491Z"
   },
   {
    "duration": 206,
    "start_time": "2022-04-09T10:46:59.130Z"
   },
   {
    "duration": 213,
    "start_time": "2022-04-09T10:47:00.517Z"
   },
   {
    "duration": 246,
    "start_time": "2022-04-09T10:47:01.751Z"
   },
   {
    "duration": 269,
    "start_time": "2022-04-09T10:47:03.306Z"
   },
   {
    "duration": 250,
    "start_time": "2022-04-09T10:47:04.596Z"
   },
   {
    "duration": 455,
    "start_time": "2022-04-09T10:47:06.037Z"
   },
   {
    "duration": 45,
    "start_time": "2022-04-09T10:47:09.851Z"
   },
   {
    "duration": 34,
    "start_time": "2022-04-09T10:47:12.052Z"
   },
   {
    "duration": 23,
    "start_time": "2022-04-09T10:47:13.328Z"
   },
   {
    "duration": 121,
    "start_time": "2022-04-09T10:47:19.894Z"
   },
   {
    "duration": 276,
    "start_time": "2022-04-09T10:47:21.742Z"
   },
   {
    "duration": 288,
    "start_time": "2022-04-09T10:47:25.813Z"
   },
   {
    "duration": 309,
    "start_time": "2022-04-09T10:47:27.237Z"
   },
   {
    "duration": 405,
    "start_time": "2022-04-09T10:47:31.022Z"
   },
   {
    "duration": 420,
    "start_time": "2022-04-09T10:47:32.313Z"
   },
   {
    "duration": 297,
    "start_time": "2022-04-09T10:47:35.271Z"
   },
   {
    "duration": 273,
    "start_time": "2022-04-09T10:47:37.090Z"
   },
   {
    "duration": 28,
    "start_time": "2022-04-09T10:47:41.467Z"
   },
   {
    "duration": 52,
    "start_time": "2022-04-09T10:48:01.678Z"
   },
   {
    "duration": 30,
    "start_time": "2022-04-09T10:48:51.787Z"
   },
   {
    "duration": 30,
    "start_time": "2022-04-09T10:50:24.980Z"
   },
   {
    "duration": 28,
    "start_time": "2022-04-09T10:50:29.346Z"
   },
   {
    "duration": 29,
    "start_time": "2022-04-09T10:50:37.067Z"
   },
   {
    "duration": 24,
    "start_time": "2022-04-09T10:51:01.373Z"
   },
   {
    "duration": 31,
    "start_time": "2022-04-09T10:51:38.241Z"
   },
   {
    "duration": 2957,
    "start_time": "2022-04-09T11:00:47.209Z"
   },
   {
    "duration": 298,
    "start_time": "2022-04-09T11:01:06.395Z"
   },
   {
    "duration": 264,
    "start_time": "2022-04-09T11:02:02.029Z"
   },
   {
    "duration": 345,
    "start_time": "2022-04-09T11:02:13.895Z"
   },
   {
    "duration": 51,
    "start_time": "2022-04-09T11:14:22.275Z"
   },
   {
    "duration": 51,
    "start_time": "2022-04-09T11:14:33.094Z"
   },
   {
    "duration": 49,
    "start_time": "2022-04-09T11:14:44.121Z"
   },
   {
    "duration": 282,
    "start_time": "2022-04-09T11:15:02.254Z"
   },
   {
    "duration": 262,
    "start_time": "2022-04-09T11:15:14.675Z"
   },
   {
    "duration": 299,
    "start_time": "2022-04-09T11:15:29.109Z"
   },
   {
    "duration": 286,
    "start_time": "2022-04-09T11:17:20.798Z"
   },
   {
    "duration": 299,
    "start_time": "2022-04-09T11:17:31.368Z"
   },
   {
    "duration": 259,
    "start_time": "2022-04-09T11:22:34.975Z"
   },
   {
    "duration": 272,
    "start_time": "2022-04-09T11:24:12.511Z"
   },
   {
    "duration": 317,
    "start_time": "2022-04-09T11:24:32.742Z"
   },
   {
    "duration": 397,
    "start_time": "2022-04-09T11:51:01.148Z"
   },
   {
    "duration": 42,
    "start_time": "2022-04-09T11:52:24.094Z"
   },
   {
    "duration": 298,
    "start_time": "2022-04-09T11:53:37.732Z"
   },
   {
    "duration": 373,
    "start_time": "2022-04-09T11:57:09.009Z"
   },
   {
    "duration": 303,
    "start_time": "2022-04-09T11:58:08.845Z"
   },
   {
    "duration": 289,
    "start_time": "2022-04-09T11:58:28.765Z"
   },
   {
    "duration": 294,
    "start_time": "2022-04-09T12:14:12.553Z"
   },
   {
    "duration": 139,
    "start_time": "2022-04-09T12:17:23.360Z"
   },
   {
    "duration": 349,
    "start_time": "2022-04-09T12:17:37.490Z"
   },
   {
    "duration": 313,
    "start_time": "2022-04-09T12:18:21.729Z"
   },
   {
    "duration": 329,
    "start_time": "2022-04-09T12:18:46.752Z"
   },
   {
    "duration": 317,
    "start_time": "2022-04-09T12:19:16.166Z"
   },
   {
    "duration": 264,
    "start_time": "2022-04-09T12:20:19.312Z"
   },
   {
    "duration": 304,
    "start_time": "2022-04-09T12:21:44.955Z"
   },
   {
    "duration": 285,
    "start_time": "2022-04-09T12:22:19.710Z"
   },
   {
    "duration": 11,
    "start_time": "2022-04-09T12:45:38.689Z"
   },
   {
    "duration": 37,
    "start_time": "2022-04-09T12:45:44.484Z"
   },
   {
    "duration": 11,
    "start_time": "2022-04-09T12:51:02.087Z"
   },
   {
    "duration": 27,
    "start_time": "2022-04-09T12:51:20.281Z"
   },
   {
    "duration": 12,
    "start_time": "2022-04-09T12:51:23.876Z"
   }
  ],
  "kernelspec": {
   "display_name": "Python 3 (ipykernel)",
   "language": "python",
   "name": "python3"
  },
  "language_info": {
   "codemirror_mode": {
    "name": "ipython",
    "version": 3
   },
   "file_extension": ".py",
   "mimetype": "text/x-python",
   "name": "python",
   "nbconvert_exporter": "python",
   "pygments_lexer": "ipython3",
   "version": "3.9.7"
  },
  "toc": {
   "base_numbering": 1,
   "nav_menu": {},
   "number_sections": true,
   "sideBar": true,
   "skip_h1_title": true,
   "title_cell": "Содержание",
   "title_sidebar": "Contents",
   "toc_cell": true,
   "toc_position": {},
   "toc_section_display": true,
   "toc_window_display": true
  }
 },
 "nbformat": 4,
 "nbformat_minor": 4
}
